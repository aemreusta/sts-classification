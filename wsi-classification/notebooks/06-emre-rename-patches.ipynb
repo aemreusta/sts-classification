{
 "cells": [
  {
   "cell_type": "code",
   "execution_count": 1,
   "metadata": {
    "colab": {
     "base_uri": "https://localhost:8080/"
    },
    "executionInfo": {
     "elapsed": 24743,
     "status": "ok",
     "timestamp": 1693486316274,
     "user": {
      "displayName": "Ahmet Emre Usta",
      "userId": "15508369964865834704"
     },
     "user_tz": -180
    },
    "id": "JZM0yimo1uun",
    "outputId": "3fe76c04-d477-4109-aea3-3ec42277f36e"
   },
   "outputs": [
    {
     "name": "stdout",
     "output_type": "stream",
     "text": [
      "Mounted at /content/gdrive/\n"
     ]
    }
   ],
   "source": [
    "from google.colab import drive\n",
    "\n",
    "# Mount the Google Drive to access the files\n",
    "drive.mount(\"/content/gdrive/\")\n",
    "work_directory = \"/content/gdrive/MyDrive/wsi_code\""
   ]
  },
  {
   "cell_type": "code",
   "execution_count": 1,
   "metadata": {},
   "outputs": [],
   "source": [
    "# Set the working directory\n",
    "work_directory = r\"/Volumes/T7/wsi_code\""
   ]
  },
  {
   "cell_type": "code",
   "execution_count": 2,
   "metadata": {
    "executionInfo": {
     "elapsed": 2,
     "status": "ok",
     "timestamp": 1693489511271,
     "user": {
      "displayName": "Ahmet Emre Usta",
      "userId": "15508369964865834704"
     },
     "user_tz": -180
    },
    "id": "ZH-dn2NZ2P4w"
   },
   "outputs": [],
   "source": [
    "import os\n",
    "import sys\n",
    "\n",
    "# Add the path to your project root directory\n",
    "if work_directory not in sys.path:\n",
    "    sys.path.append(work_directory)\n",
    "# my utility functions\n",
    "from utils.general import read_path\n",
    "\n",
    "# ----------------------------"
   ]
  },
  {
   "cell_type": "code",
   "execution_count": 3,
   "metadata": {
    "executionInfo": {
     "elapsed": 4,
     "status": "ok",
     "timestamp": 1693486319691,
     "user": {
      "displayName": "Ahmet Emre Usta",
      "userId": "15508369964865834704"
     },
     "user_tz": -180
    },
    "id": "rV-n-pJ42A8m"
   },
   "outputs": [],
   "source": [
    "# Define data directories\n",
    "DATASETS_PATH = os.path.join(work_directory, \"datasets\")\n",
    "PROCESSED_PATH = os.path.join(DATASETS_PATH, \"processed\")\n",
    "INTERIM_PATH = os.path.join(DATASETS_PATH, \"interim\")"
   ]
  },
  {
   "cell_type": "code",
   "execution_count": 4,
   "metadata": {
    "colab": {
     "base_uri": "https://localhost:8080/"
    },
    "executionInfo": {
     "elapsed": 10856,
     "status": "ok",
     "timestamp": 1693486330544,
     "user": {
      "displayName": "Ahmet Emre Usta",
      "userId": "15508369964865834704"
     },
     "user_tz": -180
    },
    "id": "0MuGW_kV2C_r",
    "outputId": "446264d6-1ba4-4973-f01c-ebc8d9d084fc"
   },
   "outputs": [
    {
     "data": {
      "text/plain": [
       "['/Volumes/T7/wsi_code/datasets/interim/liposarkom_patchs_384/TCGA-3B-A9HI-01Z-00-DX1.FF553011-934A-4E3E-AA53-B87FC307E095/100_100.png',\n",
       " '/Volumes/T7/wsi_code/datasets/interim/liposarkom_patchs_384/TCGA-3B-A9HI-01Z-00-DX1.FF553011-934A-4E3E-AA53-B87FC307E095/100_101.png',\n",
       " '/Volumes/T7/wsi_code/datasets/interim/liposarkom_patchs_384/TCGA-3B-A9HI-01Z-00-DX1.FF553011-934A-4E3E-AA53-B87FC307E095/100_102.png',\n",
       " '/Volumes/T7/wsi_code/datasets/interim/liposarkom_patchs_384/TCGA-3B-A9HI-01Z-00-DX1.FF553011-934A-4E3E-AA53-B87FC307E095/100_103.png',\n",
       " '/Volumes/T7/wsi_code/datasets/interim/liposarkom_patchs_384/TCGA-3B-A9HI-01Z-00-DX1.FF553011-934A-4E3E-AA53-B87FC307E095/100_104.png']"
      ]
     },
     "execution_count": 4,
     "metadata": {},
     "output_type": "execute_result"
    }
   ],
   "source": [
    "patches = read_path(os.path.join(INTERIM_PATH, \"**/*.png\"))\n",
    "patches[:5]"
   ]
  },
  {
   "cell_type": "code",
   "execution_count": 17,
   "metadata": {
    "colab": {
     "base_uri": "https://localhost:8080/"
    },
    "executionInfo": {
     "elapsed": 2,
     "status": "ok",
     "timestamp": 1693487694196,
     "user": {
      "displayName": "Ahmet Emre Usta",
      "userId": "15508369964865834704"
     },
     "user_tz": -180
    },
    "id": "0IdO3chh2pKt",
    "outputId": "421c88d1-0b79-481d-98bb-ddc341de9c0c"
   },
   "outputs": [
    {
     "data": {
      "text/plain": [
       "['/Volumes/T7/wsi_code/datasets/interim/liposarkom_patchs_384/TCGA-3B-A9HI-01Z-00-DX1.FF553011-934A-4E3E-AA53-B87FC307E095/',\n",
       " '/Volumes/T7/wsi_code/datasets/interim/liposarkom_patchs_384/TCGA-DX-AB36-01Z-00-DX2.B0293A74-52AC-490B-A5F0-CA96F4B36252/',\n",
       " '/Volumes/T7/wsi_code/datasets/interim/liposarkom_patchs_384/TCGA-DX-AB37-01Z-00-DX1.B778136D-9699-48FA-91F2-16BD16569571/',\n",
       " '/Volumes/T7/wsi_code/datasets/interim/liposarkom_patchs_384/TCGA-DX-AB37-01Z-00-DX3.AE53E163-C3F2-4BF1-8A2E-232842C590F1/',\n",
       " '/Volumes/T7/wsi_code/datasets/interim/liposarkom_patchs_384/TCGA-Z4-A9VC-01Z-00-DX1.42D1CACE-2FFB-4CE4-B8D6-8C0D5BC3B3F2/',\n",
       " '/Volumes/T7/wsi_code/datasets/interim/lms_patchs_384/TCGA-DX-A3U7-01Z-00-DX1.FD7076CA-39BC-4330-B91C-6DF7F0751D57/',\n",
       " '/Volumes/T7/wsi_code/datasets/interim/lms_patchs_384/TCGA-DX-A48L-01Z-00-DX1.656CE0A0-F442-4715-8250-C7B71A73FBCC/',\n",
       " '/Volumes/T7/wsi_code/datasets/interim/lms_patchs_384/TCGA-IF-A4AK-01Z-00-DX1.A39253B8-4899-4360-BFF2-3538AEF7A970/',\n",
       " '/Volumes/T7/wsi_code/datasets/interim/lms_patchs_384/TCGA-X6-A7WC-01Z-00-DX1.A1B72EE7-D7BD-4D23-A38F-39CC4E1C32A8/',\n",
       " '/Volumes/T7/wsi_code/datasets/interim/lms_patchs_384/TCGA-X6-A7WD-01Z-00-DX2.37790492-072A-4392-8D7B-904286F6C805/',\n",
       " '/Volumes/T7/wsi_code/datasets/interim/mpskt_patchs_384/TCGA-QQ-A8VG-01Z-00-DX1.A9A10DBA-09AE-4C1A-A126-2180536400ED/',\n",
       " '/Volumes/T7/wsi_code/datasets/interim/mpskt_patchs_384/TCGA-QQ-A8VG-01Z-00-DX2.9C8082B3-7E59-46C8-88B6-73DD4D2D29E7/',\n",
       " '/Volumes/T7/wsi_code/datasets/interim/mpskt_patchs_384/TCGA-RN-AAAQ-01Z-00-DX1.493F5285-F6E5-435F-902F-E384E4440C53/',\n",
       " '/Volumes/T7/wsi_code/datasets/interim/mpskt_patchs_384/TCGA-SI-A71O-01Z-00-DX5.DAF40BD0-4B92-4201-8B03-B0BFAA14CBBC/',\n",
       " '/Volumes/T7/wsi_code/datasets/interim/mpskt_patchs_384/TCGA-SI-A71Q-01Z-00-DX3.746B592F-98CD-41CA-837E-E4E0B12F4020/',\n",
       " '/Volumes/T7/wsi_code/datasets/interim/ss_patchs_384/TCGA-DX-A7EQ-01Z-00-DX1.6E243B4A-CE79-4B31-B98B-24B89E7C2FB4/',\n",
       " '/Volumes/T7/wsi_code/datasets/interim/ss_patchs_384/TCGA-DX-AB3B-01Z-00-DX1.454F6EDB-796F-4BB0-A92E-E4F5D592E897/',\n",
       " '/Volumes/T7/wsi_code/datasets/interim/ss_patchs_384/TCGA-DX-AB3B-01Z-00-DX2.2BC397E2-2F44-4C2D-87C2-439A052C8B0F/',\n",
       " '/Volumes/T7/wsi_code/datasets/interim/ss_patchs_384/TCGA-DX-AB3C-01Z-00-DX2.CBA90EC0-A148-400F-9DFA-870F637E2958/',\n",
       " '/Volumes/T7/wsi_code/datasets/interim/ss_patchs_384/TCGA-MJ-A850-01Z-00-DX1.67DDD01B-0D67-4A0F-B535-B9A1E1BE65EA/']"
      ]
     },
     "execution_count": 17,
     "metadata": {},
     "output_type": "execute_result"
    }
   ],
   "source": [
    "folders = read_path(os.path.join(INTERIM_PATH, \"*/*/\"))\n",
    "folders"
   ]
  },
  {
   "cell_type": "code",
   "execution_count": 21,
   "metadata": {
    "executionInfo": {
     "elapsed": 9257,
     "status": "ok",
     "timestamp": 1693474776976,
     "user": {
      "displayName": "Ahmet Emre Usta",
      "userId": "15508369964865834704"
     },
     "user_tz": -180
    },
    "id": "hfN2YK0l3ny-"
   },
   "outputs": [],
   "source": [
    "illness_dict = {\n",
    "    \"liposarkom_patchs_384\": \"00\",\n",
    "    \"lms_patchs_384\": \"01\",\n",
    "    \"mpskt_patchs_384\": \"02\",\n",
    "    \"ss_patchs_384\": \"03\",\n",
    "}\n",
    "\n",
    "case_dict = {\n",
    "    # lipo\n",
    "    \"TCGA-3B-A9HI-01Z-00-DX1.FF553011-934A-4E3E-AA53-B87FC307E095\": \"00\",\n",
    "    \"TCGA-DX-AB36-01Z-00-DX2.B0293A74-52AC-490B-A5F0-CA96F4B36252\": \"01\",\n",
    "    \"TCGA-DX-AB37-01Z-00-DX1.B778136D-9699-48FA-91F2-16BD16569571\": \"02\",\n",
    "    \"TCGA-DX-AB37-01Z-00-DX3.AE53E163-C3F2-4BF1-8A2E-232842C590F1\": \"03\",\n",
    "    \"TCGA-Z4-A9VC-01Z-00-DX1.42D1CACE-2FFB-4CE4-B8D6-8C0D5BC3B3F2\": \"04\",\n",
    "    # lms\n",
    "    \"TCGA-DX-A3U7-01Z-00-DX1.FD7076CA-39BC-4330-B91C-6DF7F0751D57\": \"00\",\n",
    "    \"TCGA-DX-A48L-01Z-00-DX1.656CE0A0-F442-4715-8250-C7B71A73FBCC\": \"01\",\n",
    "    \"TCGA-IF-A4AK-01Z-00-DX1.A39253B8-4899-4360-BFF2-3538AEF7A970\": \"02\",\n",
    "    \"TCGA-X6-A7WC-01Z-00-DX1.A1B72EE7-D7BD-4D23-A38F-39CC4E1C32A8\": \"03\",\n",
    "    \"TCGA-X6-A7WD-01Z-00-DX2.37790492-072A-4392-8D7B-904286F6C805\": \"04\",\n",
    "    # mpskt\n",
    "    \"TCGA-QQ-A8VG-01Z-00-DX1.A9A10DBA-09AE-4C1A-A126-2180536400ED\": \"00\",\n",
    "    \"TCGA-QQ-A8VG-01Z-00-DX2.9C8082B3-7E59-46C8-88B6-73DD4D2D29E7\": \"01\",\n",
    "    \"TCGA-RN-AAAQ-01Z-00-DX1.493F5285-F6E5-435F-902F-E384E4440C53\": \"02\",\n",
    "    \"TCGA-SI-A71O-01Z-00-DX5.DAF40BD0-4B92-4201-8B03-B0BFAA14CBBC\": \"03\",\n",
    "    \"TCGA-SI-A71Q-01Z-00-DX3.746B592F-98CD-41CA-837E-E4E0B12F4020\": \"04\",\n",
    "    # ss\n",
    "    \"TCGA-DX-A7EQ-01Z-00-DX1.6E243B4A-CE79-4B31-B98B-24B89E7C2FB4\": \"00\",\n",
    "    \"TCGA-DX-AB3B-01Z-00-DX1.454F6EDB-796F-4BB0-A92E-E4F5D592E897\": \"01\",\n",
    "    \"TCGA-DX-AB3B-01Z-00-DX2.2BC397E2-2F44-4C2D-87C2-439A052C8B0F\": \"02\",\n",
    "    \"TCGA-DX-AB3C-01Z-00-DX2.CBA90EC0-A148-400F-9DFA-870F637E2958\": \"03\",\n",
    "    \"TCGA-MJ-A850-01Z-00-DX1.67DDD01B-0D67-4A0F-B535-B9A1E1BE65EA\": \"04\",\n",
    "}\n",
    "\n",
    "\n",
    "for patch in patches:\n",
    "    patch_path = patch.split(\"/\")\n",
    "    new_name = (\n",
    "        \"tcga_\"\n",
    "        + illness_dict[patch_path[-3]]\n",
    "        + \"_\"\n",
    "        + case_dict[patch_path[-2]]\n",
    "        + \"_\"\n",
    "        + patch_path[-1]\n",
    "    )\n",
    "    path = patch_path[:-1]\n",
    "\n",
    "    new_filename = \"/\".join(path) + \"/\" + new_name\n",
    "    # print(new_filename)\n",
    "    os.rename(patch, new_filename)"
   ]
  },
  {
   "cell_type": "code",
   "execution_count": 24,
   "metadata": {
    "id": "21nO3HVa4uEi"
   },
   "outputs": [
    {
     "data": {
      "text/plain": [
       "['/Volumes/T7/wsi_code/datasets/interim/ss_patchs_384/TCGA-MJ-A850-01Z-00-DX1.67DDD01B-0D67-4A0F-B535-B9A1E1BE65EA/tcga_03_04_99_95.png',\n",
       " '/Volumes/T7/wsi_code/datasets/interim/ss_patchs_384/TCGA-MJ-A850-01Z-00-DX1.67DDD01B-0D67-4A0F-B535-B9A1E1BE65EA/tcga_03_04_99_96.png',\n",
       " '/Volumes/T7/wsi_code/datasets/interim/ss_patchs_384/TCGA-MJ-A850-01Z-00-DX1.67DDD01B-0D67-4A0F-B535-B9A1E1BE65EA/tcga_03_04_99_97.png',\n",
       " '/Volumes/T7/wsi_code/datasets/interim/ss_patchs_384/TCGA-MJ-A850-01Z-00-DX1.67DDD01B-0D67-4A0F-B535-B9A1E1BE65EA/tcga_03_04_99_98.png',\n",
       " '/Volumes/T7/wsi_code/datasets/interim/ss_patchs_384/TCGA-MJ-A850-01Z-00-DX1.67DDD01B-0D67-4A0F-B535-B9A1E1BE65EA/tcga_03_04_99_99.png']"
      ]
     },
     "execution_count": 24,
     "metadata": {},
     "output_type": "execute_result"
    }
   ],
   "source": [
    "new_patches = read_path(os.path.join(INTERIM_PATH, \"**/*.png\"))\n",
    "new_patches[-5:]"
   ]
  }
 ],
 "metadata": {
  "colab": {
   "authorship_tag": "ABX9TyO9knh5HRgFCcHxelZQPb9D",
   "provenance": []
  },
  "kernelspec": {
   "display_name": "Python 3",
   "name": "python3"
  },
  "language_info": {
   "codemirror_mode": {
    "name": "ipython",
    "version": 3
   },
   "file_extension": ".py",
   "mimetype": "text/x-python",
   "name": "python",
   "nbconvert_exporter": "python",
   "pygments_lexer": "ipython3",
   "version": "3.10.10"
  }
 },
 "nbformat": 4,
 "nbformat_minor": 0
}
