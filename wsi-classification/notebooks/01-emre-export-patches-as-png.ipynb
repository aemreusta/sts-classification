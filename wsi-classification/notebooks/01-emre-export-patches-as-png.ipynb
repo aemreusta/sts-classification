{
 "cells": [
  {
   "cell_type": "code",
   "execution_count": 1,
   "metadata": {
    "executionInfo": {
     "elapsed": 5,
     "status": "ok",
     "timestamp": 1692966644314,
     "user": {
      "displayName": "Ahmet Emre Usta",
      "userId": "15508369964865834704"
     },
     "user_tz": -180
    },
    "id": "Ux7PA-alfaqr"
   },
   "outputs": [],
   "source": [
    "import os\n",
    "import sys\n",
    "import time\n",
    "from tqdm.auto import tqdm\n",
    "import numpy as np\n",
    "from matplotlib import pyplot as plt\n",
    "from shapely.geometry import shape, box\n",
    "import json\n",
    "from datetime import datetime\n",
    "\n",
    "# OPENSLIDE_PATH = r\"C:\\openslide-win64-20230414\\bin\"\n",
    "# if hasattr(os, \"add_dll_directory\"):\n",
    "#     # Windows\n",
    "#     with os.add_dll_directory(OPENSLIDE_PATH):\n",
    "#         import openslide\n",
    "# else:\n",
    "#     import openslide\n",
    "\n",
    "import openslide\n",
    "from openslide.deepzoom import DeepZoomGenerator"
   ]
  },
  {
   "cell_type": "code",
   "execution_count": 2,
   "metadata": {},
   "outputs": [],
   "source": [
    "# Set the working directory\n",
    "work_directory = r\"/Volumes/T7 Red/wsi_code/\"\n",
    "\n",
    "# Add the path to your project root directory\n",
    "if work_directory not in sys.path:\n",
    "    sys.path.append(work_directory)"
   ]
  },
  {
   "cell_type": "code",
   "execution_count": null,
   "metadata": {},
   "outputs": [],
   "source": [
    "# my utility functions\n",
    "from utils.general import read_path, create_directory, find_directory_size"
   ]
  },
  {
   "cell_type": "code",
   "execution_count": 3,
   "metadata": {
    "executionInfo": {
     "elapsed": 17,
     "status": "ok",
     "timestamp": 1692966671369,
     "user": {
      "displayName": "Ahmet Emre Usta",
      "userId": "15508369964865834704"
     },
     "user_tz": -180
    },
    "id": "Tzcoyd8yfq3a"
   },
   "outputs": [],
   "source": [
    "raw_ss_path = os.path.join(work_directory, \"datasets\", \"raw\", \"ss\")\n",
    "raw_mpskt_path = os.path.join(work_directory, \"datasets\", \"raw\", \"mpskt\")\n",
    "raw_lms_path = os.path.join(work_directory, \"datasets\", \"raw\", \"lms\")\n",
    "raw_liposarkom_path = os.path.join(work_directory, \"datasets\", \"raw\", \"liposarkom\")\n",
    "\n",
    "liposarkom_annotations_path = os.path.join(\n",
    "    work_directory, \"datasets\", \"annotations\", \"lipo_co\"\n",
    ")\n",
    "mpskt_annotations_path = os.path.join(\n",
    "    work_directory, \"datasets\", \"annotations\", \"mpskt_co\"\n",
    ")\n",
    "ss_annotations_path = os.path.join(work_directory, \"datasets\", \"annotations\", \"ss_co\")\n",
    "lms_annotations_path = os.path.join(work_directory, \"datasets\", \"annotations\", \"lms_co\")"
   ]
  },
  {
   "cell_type": "code",
   "execution_count": 4,
   "metadata": {
    "executionInfo": {
     "elapsed": 17,
     "status": "ok",
     "timestamp": 1692966671369,
     "user": {
      "displayName": "Ahmet Emre Usta",
      "userId": "15508369964865834704"
     },
     "user_tz": -180
    },
    "id": "kg5_WZGpA0Kp"
   },
   "outputs": [],
   "source": [
    "ss_slides = read_path(raw_ss_path + \"/*.svs\")\n",
    "mpskt_slides = read_path(raw_mpskt_path + \"/*.svs\")\n",
    "lms_slides = read_path(raw_lms_path + \"/*.svs\")\n",
    "liposarkom_slides = read_path(raw_liposarkom_path + \"/*.svs\")\n",
    "\n",
    "ss_annotations = read_path(ss_annotations_path + \"/*.geojson\")\n",
    "mpskt_annotations = read_path(mpskt_annotations_path + \"/*.geojson\")\n",
    "liposarkom_annotations = read_path(liposarkom_annotations_path + \"/*.geojson\")\n",
    "lms_annotations = read_path(lms_annotations_path + \"/*.geojson\")"
   ]
  },
  {
   "cell_type": "code",
   "execution_count": 5,
   "metadata": {
    "executionInfo": {
     "elapsed": 14,
     "status": "ok",
     "timestamp": 1692966671369,
     "user": {
      "displayName": "Ahmet Emre Usta",
      "userId": "15508369964865834704"
     },
     "user_tz": -180
    },
    "id": "pos3giIIGJ9f"
   },
   "outputs": [],
   "source": [
    "def is_tile_in_geojson(tile_coordinates, geojson_polygon):\n",
    "    minx, miny = tile_coordinates\n",
    "    maxx, maxy = minx + 256, miny + 256\n",
    "    tile_box = box(minx, miny, maxx, maxy)\n",
    "    return geojson_polygon.contains(tile_box)"
   ]
  },
  {
   "cell_type": "code",
   "execution_count": 6,
   "metadata": {
    "executionInfo": {
     "elapsed": 15,
     "status": "ok",
     "timestamp": 1692966671370,
     "user": {
      "displayName": "Ahmet Emre Usta",
      "userId": "15508369964865834704"
     },
     "user_tz": -180
    },
    "id": "QkWcJ8XNGLJd"
   },
   "outputs": [],
   "source": [
    "def is_tile_inside_threshold(tile_coordinates, geojson_polygons, threshold):\n",
    "    minx, miny = tile_coordinates\n",
    "    maxx, maxy = minx + 256, miny + 256\n",
    "    tile_box = box(minx, miny, maxx, maxy)\n",
    "\n",
    "    for geojson_polygon in geojson_polygons:\n",
    "        if geojson_polygon.intersects(tile_box):\n",
    "            intersection = geojson_polygon.intersection(tile_box)\n",
    "            tile_area = tile_box.area\n",
    "            return (intersection.area / tile_area) >= threshold\n",
    "\n",
    "    return False"
   ]
  },
  {
   "cell_type": "code",
   "execution_count": 7,
   "metadata": {},
   "outputs": [],
   "source": [
    "illness_dict = {\n",
    "    \"ls\": \"00\",\n",
    "    \"lms\": \"01\",\n",
    "    \"mpskt\": \"02\",\n",
    "    \"ss\": \"03\",\n",
    "}\n",
    "\n",
    "case_dict = {\n",
    "    # lipo\n",
    "    \"TCGA-3B-A9HI-01Z-00-DX1.FF553011-934A-4E3E-AA53-B87FC307E095\": \"00\",\n",
    "    \"TCGA-DX-AB36-01Z-00-DX2.B0293A74-52AC-490B-A5F0-CA96F4B36252\": \"01\",\n",
    "    \"TCGA-DX-AB37-01Z-00-DX1.B778136D-9699-48FA-91F2-16BD16569571\": \"02\",\n",
    "    \"TCGA-DX-AB37-01Z-00-DX3.AE53E163-C3F2-4BF1-8A2E-232842C590F1\": \"03\",\n",
    "    \"TCGA-Z4-A9VC-01Z-00-DX1.42D1CACE-2FFB-4CE4-B8D6-8C0D5BC3B3F2\": \"04\",\n",
    "    # lms\n",
    "    \"TCGA-DX-A3U7-01Z-00-DX1.FD7076CA-39BC-4330-B91C-6DF7F0751D57\": \"00\",\n",
    "    \"TCGA-DX-A48L-01Z-00-DX1.656CE0A0-F442-4715-8250-C7B71A73FBCC\": \"01\",\n",
    "    \"TCGA-IF-A4AK-01Z-00-DX1.A39253B8-4899-4360-BFF2-3538AEF7A970\": \"02\",\n",
    "    \"TCGA-X6-A7WC-01Z-00-DX1.A1B72EE7-D7BD-4D23-A38F-39CC4E1C32A8\": \"03\",\n",
    "    \"TCGA-X6-A7WD-01Z-00-DX2.37790492-072A-4392-8D7B-904286F6C805\": \"04\",\n",
    "    # mpskt\n",
    "    \"TCGA-QQ-A8VG-01Z-00-DX1.A9A10DBA-09AE-4C1A-A126-2180536400ED\": \"00\",\n",
    "    \"TCGA-QQ-A8VG-01Z-00-DX2.9C8082B3-7E59-46C8-88B6-73DD4D2D29E7\": \"01\",\n",
    "    \"TCGA-RN-AAAQ-01Z-00-DX1.493F5285-F6E5-435F-902F-E384E4440C53\": \"02\",\n",
    "    \"TCGA-SI-A71O-01Z-00-DX5.DAF40BD0-4B92-4201-8B03-B0BFAA14CBBC\": \"03\",\n",
    "    \"TCGA-SI-A71Q-01Z-00-DX3.746B592F-98CD-41CA-837E-E4E0B12F4020\": \"04\",\n",
    "    # ss\n",
    "    \"TCGA-DX-A7EQ-01Z-00-DX1.6E243B4A-CE79-4B31-B98B-24B89E7C2FB4\": \"00\",\n",
    "    \"TCGA-DX-AB3B-01Z-00-DX1.454F6EDB-796F-4BB0-A92E-E4F5D592E897\": \"01\",\n",
    "    \"TCGA-DX-AB3B-01Z-00-DX2.2BC397E2-2F44-4C2D-87C2-439A052C8B0F\": \"02\",\n",
    "    \"TCGA-DX-AB3C-01Z-00-DX2.CBA90EC0-A148-400F-9DFA-870F637E2958\": \"03\",\n",
    "    \"TCGA-MJ-A850-01Z-00-DX1.67DDD01B-0D67-4A0F-B535-B9A1E1BE65EA\": \"04\",\n",
    "}"
   ]
  },
  {
   "cell_type": "code",
   "execution_count": 8,
   "metadata": {},
   "outputs": [],
   "source": [
    "def extract_patches(\n",
    "    illness_name,\n",
    "    slides,\n",
    "    annotations,\n",
    "    patch_size,\n",
    "    patch_threshold,\n",
    "    output_path,\n",
    "    illness_dict,\n",
    "    case_dict,\n",
    "):\n",
    "    \"\"\"Extract patches from WSI given annotations.\n",
    "\n",
    "    Args:\n",
    "        slides (list): A list of WSI paths.\n",
    "        annotations (list): A list of annotation paths.\n",
    "        patch_size (int): The size of the patch to extract.\n",
    "        patch_threshold (float): The threshold for determining whether a tile is inside the annotation.\n",
    "        output_path (str): The output path to save the patches.\n",
    "        create_directory (bool, optional): Whether to create the output directory if it does not exist. Defaults to True.\n",
    "    \"\"\"\n",
    "\n",
    "    total_extracted = 0\n",
    "    first_start_time = time.time()\n",
    "    create_directory(output_path)\n",
    "\n",
    "    for slide, anno in tqdm(zip(slides, annotations), total=len(slides)):\n",
    "        slide_name = os.path.splitext(os.path.basename(slide))[0]\n",
    "        anno_name = os.path.splitext(os.path.basename(anno))[0]\n",
    "        prefix = f\"tcga_{illness_dict[illness_name]}_{case_dict[slide_name]}\"\n",
    "\n",
    "        slide_png_path = os.path.join(output_path, slide_name)\n",
    "        create_directory(slide_png_path)\n",
    "\n",
    "        total_saved = 0\n",
    "        total_outside = 0\n",
    "\n",
    "        with open(anno, \"r\") as json_file:\n",
    "            geojson_data = json.load(json_file)\n",
    "\n",
    "        geojson_polygons = [\n",
    "            shape(feature[\"geometry\"]) for feature in geojson_data[\"features\"]\n",
    "        ]\n",
    "\n",
    "        json_file.close()\n",
    "\n",
    "        sld = openslide.OpenSlide(slide)\n",
    "        tiles = DeepZoomGenerator(\n",
    "            sld, tile_size=patch_size, overlap=0, limit_bounds=False\n",
    "        )\n",
    "        # pick the biggest level\n",
    "        level = tiles.level_count - 1\n",
    "        level_tiles = tiles.level_tiles[-1]\n",
    "        # print(level, level_tiles[0], level_tiles[1])\n",
    "\n",
    "        # start runtime timer\n",
    "        start_time = time.time()\n",
    "\n",
    "        for tile_column in range(level_tiles[0]):\n",
    "            for tile_row in range(level_tiles[1]):\n",
    "                tile_coordinates = tiles.get_tile_coordinates(\n",
    "                    level, (tile_column, tile_row)\n",
    "                )[0]\n",
    "                if is_tile_inside_threshold(\n",
    "                    tile_coordinates, geojson_polygons, patch_threshold\n",
    "                ):\n",
    "                    # print(f\"Tile at level {level}, column {tile_column}, row {tile_row} is inside the GeoJSON coordinates.\")\n",
    "                    tile_name = os.path.join(\n",
    "                        slide_png_path, f\"{prefix}_{tile_column}_{tile_row}.png\"\n",
    "                    )\n",
    "\n",
    "                    if not os.path.exists(\n",
    "                        tile_name\n",
    "                    ):  # Check if the file exists before saving\n",
    "                        temp_tile = tiles.get_tile(\n",
    "                            tiles.level_count - 1, (tile_column, tile_row)\n",
    "                        )\n",
    "                        temp_tile_RGB = temp_tile.convert(\"RGB\")\n",
    "                        temp_tile_np = np.array(temp_tile_RGB)\n",
    "\n",
    "                        plt.imsave(tile_name, temp_tile_np)\n",
    "\n",
    "                    total_saved += 1\n",
    "                else:\n",
    "                    # print(f\"Tile at level {level}, column {tile_column}, row {tile_row} is not inside the GeoJSON coordinates.\")\n",
    "                    total_outside += 1\n",
    "\n",
    "        # end runtime timer\n",
    "        end_time = time.time()\n",
    "\n",
    "        total_extracted += total_saved\n",
    "        txt_name = os.path.join(output_path, f\"{slide_name}.txt\")\n",
    "        directory_size = find_directory_size(slide_png_path)\n",
    "        total_time_second = (end_time - start_time) % 60\n",
    "\n",
    "        txt_info = {\n",
    "            \"txt_name\": txt_name,\n",
    "            \"prefix\": prefix,\n",
    "            \"slide_name\": slide_name,\n",
    "            \"anno_name\": anno_name,\n",
    "            \"total_saved\": total_saved,\n",
    "            \"total_outside\": total_outside,\n",
    "            \"total_patch\": total_saved + total_outside,\n",
    "            \"patch_size\": patch_size,\n",
    "            \"patch_threshold\": patch_threshold,\n",
    "            \"directory_size\": directory_size,\n",
    "            \"timestamp\": datetime.now().strftime(\"%Y-%m-%d %H:%M:%S\"),\n",
    "            \"slide_path\": slide_png_path,\n",
    "            \"total_time_second\": total_time_second,\n",
    "        }\n",
    "\n",
    "        slide_info_to_txt(txt_info)\n",
    "\n",
    "    # end first runtime timer\n",
    "    first_end_time = time.time()\n",
    "    first_total_time_second = (first_end_time - first_start_time) % 60\n",
    "\n",
    "    case_txt_path = os.path.join(output_path, f\"{illness_name}_{patch_size}_patchs.txt\")\n",
    "    total_patch_size = find_directory_size(output_path)\n",
    "    case_txt_info = {\n",
    "        \"case_txt_path\": case_txt_path,\n",
    "        \"timestamp\": datetime.now().strftime(\"%Y-%m-%d %H:%M:%S\"),\n",
    "        \"slides_length\": len(slides),\n",
    "        \"annotations_length\": len(annotations),\n",
    "        \"total_extracted\": total_extracted,\n",
    "        \"patch_size\": total_patch_size,\n",
    "        \"first_total_time_second\": first_total_time_second,\n",
    "    }\n",
    "\n",
    "    case_info_to_txt(case_txt_info)"
   ]
  },
  {
   "cell_type": "code",
   "execution_count": 9,
   "metadata": {},
   "outputs": [],
   "source": [
    "def case_info_to_txt(case_txt_info: dict):\n",
    "    with open(case_txt_info[\"case_txt_path\"], \"w\") as f:\n",
    "        f.write(f\"Date and Time: {case_txt_info['timestamp']}\\n\")\n",
    "        f.write(\n",
    "            f\"Total runtime: {case_txt_info['first_total_time_second']} seconds.\\n\\n\"\n",
    "        )\n",
    "        f.write(\n",
    "            f\"There are {case_txt_info['slides_length']} slides in this directory.\\n\"\n",
    "        )\n",
    "        f.write(\n",
    "            f\"There are {case_txt_info['annotations_length']} annotations in this directory.\\n\"\n",
    "        )\n",
    "        f.write(f\"Total {case_txt_info['total_extracted']} ss patchs extracted!\\n\")\n",
    "        f.write(f\"Total Patch Size: {case_txt_info['patch_size']}\\n\")\n",
    "    f.close()"
   ]
  },
  {
   "cell_type": "code",
   "execution_count": 10,
   "metadata": {},
   "outputs": [],
   "source": [
    "def slide_info_to_txt(txt_info: dict):\n",
    "    with open(txt_info[\"txt_name\"], \"w\") as f:\n",
    "        f.write(f\"Date and Time: {txt_info['timestamp']}\\n\")\n",
    "        f.write(f\"Slide: {txt_info['slide_name']}\\n\")\n",
    "        f.write(f\"Annotations: {txt_info['anno_name']}\\n\\n\")\n",
    "        f.write(f\"Prefix: {txt_info['prefix']}\\n\")\n",
    "        f.write(f\"Total Run Time: {txt_info['total_time_second']} seconds\\n\\n\")\n",
    "        f.write(f\"Threshold: {txt_info['patch_threshold']}\\n\")\n",
    "        f.write(f\"Patch Size: {txt_info['patch_size']}\\n\\n\")\n",
    "        f.write(f\"Extracted Patchs: {txt_info['total_saved']}\\n\")\n",
    "        f.write(f\"Total Patch Size: {txt_info['directory_size']}\\n\")\n",
    "        f.write(\n",
    "            f\"There are {txt_info['total_patch']} tiles in this image and {txt_info['total_outside']} not saved!\\n\"\n",
    "        )\n",
    "        f.write(\n",
    "            f\"{txt_info['total_saved']} tiles saved into {txt_info['slide_path']}.\\n\"\n",
    "        )\n",
    "\n",
    "    f.close()"
   ]
  },
  {
   "cell_type": "code",
   "execution_count": 11,
   "metadata": {},
   "outputs": [],
   "source": [
    "PATCH_SIZE = 384\n",
    "PATCH_THRESHOLD = 0.7"
   ]
  },
  {
   "cell_type": "code",
   "execution_count": 12,
   "metadata": {},
   "outputs": [
    {
     "name": "stdout",
     "output_type": "stream",
     "text": [
      "Directory already exists: /Volumes/T7 Red/wsi_code/datasets/interim/ls_patchs_384\n"
     ]
    },
    {
     "data": {
      "application/vnd.jupyter.widget-view+json": {
       "model_id": "7869772065bf4b26b820c306ee526d29",
       "version_major": 2,
       "version_minor": 0
      },
      "text/plain": [
       "  0%|          | 0/5 [00:00<?, ?it/s]"
      ]
     },
     "metadata": {},
     "output_type": "display_data"
    },
    {
     "name": "stdout",
     "output_type": "stream",
     "text": [
      "Directory already exists: /Volumes/T7 Red/wsi_code/datasets/interim/ls_patchs_384/TCGA-3B-A9HI-01Z-00-DX1.FF553011-934A-4E3E-AA53-B87FC307E095\n",
      "Created directory: /Volumes/T7 Red/wsi_code/datasets/interim/ls_patchs_384/TCGA-DX-AB36-01Z-00-DX2.B0293A74-52AC-490B-A5F0-CA96F4B36252\n",
      "Created directory: /Volumes/T7 Red/wsi_code/datasets/interim/ls_patchs_384/TCGA-DX-AB37-01Z-00-DX1.B778136D-9699-48FA-91F2-16BD16569571\n",
      "Created directory: /Volumes/T7 Red/wsi_code/datasets/interim/ls_patchs_384/TCGA-DX-AB37-01Z-00-DX3.AE53E163-C3F2-4BF1-8A2E-232842C590F1\n",
      "Created directory: /Volumes/T7 Red/wsi_code/datasets/interim/ls_patchs_384/TCGA-Z4-A9VC-01Z-00-DX1.42D1CACE-2FFB-4CE4-B8D6-8C0D5BC3B3F2\n"
     ]
    }
   ],
   "source": [
    "ls_path = os.path.join(work_directory, \"datasets\", \"interim\", f\"ls_patchs_{PATCH_SIZE}\")\n",
    "extract_patches(\n",
    "    \"ls\",\n",
    "    liposarkom_slides,\n",
    "    liposarkom_annotations,\n",
    "    PATCH_SIZE,\n",
    "    PATCH_THRESHOLD,\n",
    "    ls_path,\n",
    "    illness_dict,\n",
    "    case_dict,\n",
    ")"
   ]
  },
  {
   "cell_type": "code",
   "execution_count": 13,
   "metadata": {},
   "outputs": [
    {
     "name": "stdout",
     "output_type": "stream",
     "text": [
      "Created directory: /Volumes/T7 Red/wsi_code/datasets/interim/ss_patchs_384\n"
     ]
    },
    {
     "data": {
      "application/vnd.jupyter.widget-view+json": {
       "model_id": "b901b6f1274840ac91374712cfbaab77",
       "version_major": 2,
       "version_minor": 0
      },
      "text/plain": [
       "  0%|          | 0/5 [00:00<?, ?it/s]"
      ]
     },
     "metadata": {},
     "output_type": "display_data"
    },
    {
     "name": "stdout",
     "output_type": "stream",
     "text": [
      "Created directory: /Volumes/T7 Red/wsi_code/datasets/interim/ss_patchs_384/TCGA-DX-A7EQ-01Z-00-DX1.6E243B4A-CE79-4B31-B98B-24B89E7C2FB4\n",
      "Created directory: /Volumes/T7 Red/wsi_code/datasets/interim/ss_patchs_384/TCGA-DX-AB3B-01Z-00-DX1.454F6EDB-796F-4BB0-A92E-E4F5D592E897\n",
      "Created directory: /Volumes/T7 Red/wsi_code/datasets/interim/ss_patchs_384/TCGA-DX-AB3B-01Z-00-DX2.2BC397E2-2F44-4C2D-87C2-439A052C8B0F\n",
      "Created directory: /Volumes/T7 Red/wsi_code/datasets/interim/ss_patchs_384/TCGA-DX-AB3C-01Z-00-DX2.CBA90EC0-A148-400F-9DFA-870F637E2958\n",
      "Created directory: /Volumes/T7 Red/wsi_code/datasets/interim/ss_patchs_384/TCGA-MJ-A850-01Z-00-DX1.67DDD01B-0D67-4A0F-B535-B9A1E1BE65EA\n"
     ]
    }
   ],
   "source": [
    "ss_path = os.path.join(work_directory, \"datasets\", \"interim\", f\"ss_patchs_{PATCH_SIZE}\")\n",
    "extract_patches(\n",
    "    \"ss\",\n",
    "    ss_slides,\n",
    "    ss_annotations,\n",
    "    PATCH_SIZE,\n",
    "    PATCH_THRESHOLD,\n",
    "    ss_path,\n",
    "    illness_dict,\n",
    "    case_dict,\n",
    ")"
   ]
  },
  {
   "cell_type": "code",
   "execution_count": 14,
   "metadata": {},
   "outputs": [
    {
     "name": "stdout",
     "output_type": "stream",
     "text": [
      "Created directory: /Volumes/T7 Red/wsi_code/datasets/interim/mpskt_patchs_384\n"
     ]
    },
    {
     "data": {
      "application/vnd.jupyter.widget-view+json": {
       "model_id": "e803bba41278454bb9e3413fe59088a9",
       "version_major": 2,
       "version_minor": 0
      },
      "text/plain": [
       "  0%|          | 0/5 [00:00<?, ?it/s]"
      ]
     },
     "metadata": {},
     "output_type": "display_data"
    },
    {
     "name": "stdout",
     "output_type": "stream",
     "text": [
      "Created directory: /Volumes/T7 Red/wsi_code/datasets/interim/mpskt_patchs_384/TCGA-QQ-A8VG-01Z-00-DX1.A9A10DBA-09AE-4C1A-A126-2180536400ED\n",
      "Created directory: /Volumes/T7 Red/wsi_code/datasets/interim/mpskt_patchs_384/TCGA-QQ-A8VG-01Z-00-DX2.9C8082B3-7E59-46C8-88B6-73DD4D2D29E7\n",
      "Created directory: /Volumes/T7 Red/wsi_code/datasets/interim/mpskt_patchs_384/TCGA-RN-AAAQ-01Z-00-DX1.493F5285-F6E5-435F-902F-E384E4440C53\n",
      "Created directory: /Volumes/T7 Red/wsi_code/datasets/interim/mpskt_patchs_384/TCGA-SI-A71O-01Z-00-DX5.DAF40BD0-4B92-4201-8B03-B0BFAA14CBBC\n",
      "Created directory: /Volumes/T7 Red/wsi_code/datasets/interim/mpskt_patchs_384/TCGA-SI-A71Q-01Z-00-DX3.746B592F-98CD-41CA-837E-E4E0B12F4020\n"
     ]
    }
   ],
   "source": [
    "mpskt_path = os.path.join(\n",
    "    work_directory, \"datasets\", \"interim\", f\"mpskt_patchs_{PATCH_SIZE}\"\n",
    ")\n",
    "extract_patches(\n",
    "    \"mpskt\",\n",
    "    mpskt_slides,\n",
    "    mpskt_annotations,\n",
    "    PATCH_SIZE,\n",
    "    PATCH_THRESHOLD,\n",
    "    mpskt_path,\n",
    "    illness_dict,\n",
    "    case_dict,\n",
    ")"
   ]
  },
  {
   "cell_type": "code",
   "execution_count": 15,
   "metadata": {},
   "outputs": [
    {
     "name": "stdout",
     "output_type": "stream",
     "text": [
      "Created directory: /Volumes/T7 Red/wsi_code/datasets/interim/lms_patchs_384\n"
     ]
    },
    {
     "data": {
      "application/vnd.jupyter.widget-view+json": {
       "model_id": "f700cdb7c0854c6294d20e1ec04eff73",
       "version_major": 2,
       "version_minor": 0
      },
      "text/plain": [
       "  0%|          | 0/5 [00:00<?, ?it/s]"
      ]
     },
     "metadata": {},
     "output_type": "display_data"
    },
    {
     "name": "stdout",
     "output_type": "stream",
     "text": [
      "Created directory: /Volumes/T7 Red/wsi_code/datasets/interim/lms_patchs_384/TCGA-DX-A3U7-01Z-00-DX1.FD7076CA-39BC-4330-B91C-6DF7F0751D57\n",
      "Created directory: /Volumes/T7 Red/wsi_code/datasets/interim/lms_patchs_384/TCGA-DX-A48L-01Z-00-DX1.656CE0A0-F442-4715-8250-C7B71A73FBCC\n",
      "Created directory: /Volumes/T7 Red/wsi_code/datasets/interim/lms_patchs_384/TCGA-IF-A4AK-01Z-00-DX1.A39253B8-4899-4360-BFF2-3538AEF7A970\n",
      "Created directory: /Volumes/T7 Red/wsi_code/datasets/interim/lms_patchs_384/TCGA-X6-A7WC-01Z-00-DX1.A1B72EE7-D7BD-4D23-A38F-39CC4E1C32A8\n",
      "Created directory: /Volumes/T7 Red/wsi_code/datasets/interim/lms_patchs_384/TCGA-X6-A7WD-01Z-00-DX2.37790492-072A-4392-8D7B-904286F6C805\n"
     ]
    }
   ],
   "source": [
    "lms_path = os.path.join(\n",
    "    work_directory, \"datasets\", \"interim\", f\"lms_patchs_{PATCH_SIZE}\"\n",
    ")\n",
    "extract_patches(\n",
    "    \"lms\",\n",
    "    lms_slides,\n",
    "    lms_annotations,\n",
    "    PATCH_SIZE,\n",
    "    PATCH_THRESHOLD,\n",
    "    lms_path,\n",
    "    illness_dict,\n",
    "    case_dict,\n",
    ")"
   ]
  }
 ],
 "metadata": {
  "colab": {
   "authorship_tag": "ABX9TyPHsI/NMqOf1FXO/C8mi25R",
   "provenance": []
  },
  "kernelspec": {
   "display_name": "Python 3",
   "name": "python3"
  },
  "language_info": {
   "codemirror_mode": {
    "name": "ipython",
    "version": 3
   },
   "file_extension": ".py",
   "mimetype": "text/x-python",
   "name": "python",
   "nbconvert_exporter": "python",
   "pygments_lexer": "ipython3",
   "version": "3.10.10"
  },
  "widgets": {
   "application/vnd.jupyter.widget-state+json": {
    "04b43e101bb842b88ec10f783ef173b8": {
     "model_module": "@jupyter-widgets/controls",
     "model_module_version": "1.5.0",
     "model_name": "FloatProgressModel",
     "state": {
      "_dom_classes": [],
      "_model_module": "@jupyter-widgets/controls",
      "_model_module_version": "1.5.0",
      "_model_name": "FloatProgressModel",
      "_view_count": null,
      "_view_module": "@jupyter-widgets/controls",
      "_view_module_version": "1.5.0",
      "_view_name": "ProgressView",
      "bar_style": "danger",
      "description": "",
      "description_tooltip": null,
      "layout": "IPY_MODEL_395b6259be794476ac33974d09508a10",
      "max": 3,
      "min": 0,
      "orientation": "horizontal",
      "style": "IPY_MODEL_a0c6a9de381e4b92bada72c77117de50",
      "value": 0
     }
    },
    "10c3a88a61ed4ccba2a4d40cd5e5c0e1": {
     "model_module": "@jupyter-widgets/controls",
     "model_module_version": "1.5.0",
     "model_name": "DescriptionStyleModel",
     "state": {
      "_model_module": "@jupyter-widgets/controls",
      "_model_module_version": "1.5.0",
      "_model_name": "DescriptionStyleModel",
      "_view_count": null,
      "_view_module": "@jupyter-widgets/base",
      "_view_module_version": "1.2.0",
      "_view_name": "StyleView",
      "description_width": ""
     }
    },
    "19e0bcbedb3b46dd8cbc2c7456a24238": {
     "model_module": "@jupyter-widgets/controls",
     "model_module_version": "1.5.0",
     "model_name": "HTMLModel",
     "state": {
      "_dom_classes": [],
      "_model_module": "@jupyter-widgets/controls",
      "_model_module_version": "1.5.0",
      "_model_name": "HTMLModel",
      "_view_count": null,
      "_view_module": "@jupyter-widgets/controls",
      "_view_module_version": "1.5.0",
      "_view_name": "HTMLView",
      "description": "",
      "description_tooltip": null,
      "layout": "IPY_MODEL_7fb386b627af4b1bbb66dd13ce9bff71",
      "placeholder": "​",
      "style": "IPY_MODEL_4dedbd47f4ab4633abf1c25d8bddaafc",
      "value": "  0%"
     }
    },
    "395b6259be794476ac33974d09508a10": {
     "model_module": "@jupyter-widgets/base",
     "model_module_version": "1.2.0",
     "model_name": "LayoutModel",
     "state": {
      "_model_module": "@jupyter-widgets/base",
      "_model_module_version": "1.2.0",
      "_model_name": "LayoutModel",
      "_view_count": null,
      "_view_module": "@jupyter-widgets/base",
      "_view_module_version": "1.2.0",
      "_view_name": "LayoutView",
      "align_content": null,
      "align_items": null,
      "align_self": null,
      "border": null,
      "bottom": null,
      "display": null,
      "flex": null,
      "flex_flow": null,
      "grid_area": null,
      "grid_auto_columns": null,
      "grid_auto_flow": null,
      "grid_auto_rows": null,
      "grid_column": null,
      "grid_gap": null,
      "grid_row": null,
      "grid_template_areas": null,
      "grid_template_columns": null,
      "grid_template_rows": null,
      "height": null,
      "justify_content": null,
      "justify_items": null,
      "left": null,
      "margin": null,
      "max_height": null,
      "max_width": null,
      "min_height": null,
      "min_width": null,
      "object_fit": null,
      "object_position": null,
      "order": null,
      "overflow": null,
      "overflow_x": null,
      "overflow_y": null,
      "padding": null,
      "right": null,
      "top": null,
      "visibility": null,
      "width": null
     }
    },
    "4dedbd47f4ab4633abf1c25d8bddaafc": {
     "model_module": "@jupyter-widgets/controls",
     "model_module_version": "1.5.0",
     "model_name": "DescriptionStyleModel",
     "state": {
      "_model_module": "@jupyter-widgets/controls",
      "_model_module_version": "1.5.0",
      "_model_name": "DescriptionStyleModel",
      "_view_count": null,
      "_view_module": "@jupyter-widgets/base",
      "_view_module_version": "1.2.0",
      "_view_name": "StyleView",
      "description_width": ""
     }
    },
    "5285c603857b4f9a9f91b2351af845d8": {
     "model_module": "@jupyter-widgets/controls",
     "model_module_version": "1.5.0",
     "model_name": "HTMLModel",
     "state": {
      "_dom_classes": [],
      "_model_module": "@jupyter-widgets/controls",
      "_model_module_version": "1.5.0",
      "_model_name": "HTMLModel",
      "_view_count": null,
      "_view_module": "@jupyter-widgets/controls",
      "_view_module_version": "1.5.0",
      "_view_name": "HTMLView",
      "description": "",
      "description_tooltip": null,
      "layout": "IPY_MODEL_564079bddd684062952a8bb3f7d883ac",
      "placeholder": "​",
      "style": "IPY_MODEL_10c3a88a61ed4ccba2a4d40cd5e5c0e1",
      "value": " 0/3 [38:15&lt;?, ?it/s]"
     }
    },
    "564079bddd684062952a8bb3f7d883ac": {
     "model_module": "@jupyter-widgets/base",
     "model_module_version": "1.2.0",
     "model_name": "LayoutModel",
     "state": {
      "_model_module": "@jupyter-widgets/base",
      "_model_module_version": "1.2.0",
      "_model_name": "LayoutModel",
      "_view_count": null,
      "_view_module": "@jupyter-widgets/base",
      "_view_module_version": "1.2.0",
      "_view_name": "LayoutView",
      "align_content": null,
      "align_items": null,
      "align_self": null,
      "border": null,
      "bottom": null,
      "display": null,
      "flex": null,
      "flex_flow": null,
      "grid_area": null,
      "grid_auto_columns": null,
      "grid_auto_flow": null,
      "grid_auto_rows": null,
      "grid_column": null,
      "grid_gap": null,
      "grid_row": null,
      "grid_template_areas": null,
      "grid_template_columns": null,
      "grid_template_rows": null,
      "height": null,
      "justify_content": null,
      "justify_items": null,
      "left": null,
      "margin": null,
      "max_height": null,
      "max_width": null,
      "min_height": null,
      "min_width": null,
      "object_fit": null,
      "object_position": null,
      "order": null,
      "overflow": null,
      "overflow_x": null,
      "overflow_y": null,
      "padding": null,
      "right": null,
      "top": null,
      "visibility": null,
      "width": null
     }
    },
    "5d14691dbe1e40d3ac32175abc11b7e6": {
     "model_module": "@jupyter-widgets/controls",
     "model_module_version": "1.5.0",
     "model_name": "HBoxModel",
     "state": {
      "_dom_classes": [],
      "_model_module": "@jupyter-widgets/controls",
      "_model_module_version": "1.5.0",
      "_model_name": "HBoxModel",
      "_view_count": null,
      "_view_module": "@jupyter-widgets/controls",
      "_view_module_version": "1.5.0",
      "_view_name": "HBoxView",
      "box_style": "",
      "children": [
       "IPY_MODEL_19e0bcbedb3b46dd8cbc2c7456a24238",
       "IPY_MODEL_04b43e101bb842b88ec10f783ef173b8",
       "IPY_MODEL_5285c603857b4f9a9f91b2351af845d8"
      ],
      "layout": "IPY_MODEL_8c8fbdff66424f5cbd990d5b409af263"
     }
    },
    "7fb386b627af4b1bbb66dd13ce9bff71": {
     "model_module": "@jupyter-widgets/base",
     "model_module_version": "1.2.0",
     "model_name": "LayoutModel",
     "state": {
      "_model_module": "@jupyter-widgets/base",
      "_model_module_version": "1.2.0",
      "_model_name": "LayoutModel",
      "_view_count": null,
      "_view_module": "@jupyter-widgets/base",
      "_view_module_version": "1.2.0",
      "_view_name": "LayoutView",
      "align_content": null,
      "align_items": null,
      "align_self": null,
      "border": null,
      "bottom": null,
      "display": null,
      "flex": null,
      "flex_flow": null,
      "grid_area": null,
      "grid_auto_columns": null,
      "grid_auto_flow": null,
      "grid_auto_rows": null,
      "grid_column": null,
      "grid_gap": null,
      "grid_row": null,
      "grid_template_areas": null,
      "grid_template_columns": null,
      "grid_template_rows": null,
      "height": null,
      "justify_content": null,
      "justify_items": null,
      "left": null,
      "margin": null,
      "max_height": null,
      "max_width": null,
      "min_height": null,
      "min_width": null,
      "object_fit": null,
      "object_position": null,
      "order": null,
      "overflow": null,
      "overflow_x": null,
      "overflow_y": null,
      "padding": null,
      "right": null,
      "top": null,
      "visibility": null,
      "width": null
     }
    },
    "8c8fbdff66424f5cbd990d5b409af263": {
     "model_module": "@jupyter-widgets/base",
     "model_module_version": "1.2.0",
     "model_name": "LayoutModel",
     "state": {
      "_model_module": "@jupyter-widgets/base",
      "_model_module_version": "1.2.0",
      "_model_name": "LayoutModel",
      "_view_count": null,
      "_view_module": "@jupyter-widgets/base",
      "_view_module_version": "1.2.0",
      "_view_name": "LayoutView",
      "align_content": null,
      "align_items": null,
      "align_self": null,
      "border": null,
      "bottom": null,
      "display": null,
      "flex": null,
      "flex_flow": null,
      "grid_area": null,
      "grid_auto_columns": null,
      "grid_auto_flow": null,
      "grid_auto_rows": null,
      "grid_column": null,
      "grid_gap": null,
      "grid_row": null,
      "grid_template_areas": null,
      "grid_template_columns": null,
      "grid_template_rows": null,
      "height": null,
      "justify_content": null,
      "justify_items": null,
      "left": null,
      "margin": null,
      "max_height": null,
      "max_width": null,
      "min_height": null,
      "min_width": null,
      "object_fit": null,
      "object_position": null,
      "order": null,
      "overflow": null,
      "overflow_x": null,
      "overflow_y": null,
      "padding": null,
      "right": null,
      "top": null,
      "visibility": null,
      "width": null
     }
    },
    "a0c6a9de381e4b92bada72c77117de50": {
     "model_module": "@jupyter-widgets/controls",
     "model_module_version": "1.5.0",
     "model_name": "ProgressStyleModel",
     "state": {
      "_model_module": "@jupyter-widgets/controls",
      "_model_module_version": "1.5.0",
      "_model_name": "ProgressStyleModel",
      "_view_count": null,
      "_view_module": "@jupyter-widgets/base",
      "_view_module_version": "1.2.0",
      "_view_name": "StyleView",
      "bar_color": null,
      "description_width": ""
     }
    }
   }
  }
 },
 "nbformat": 4,
 "nbformat_minor": 0
}
