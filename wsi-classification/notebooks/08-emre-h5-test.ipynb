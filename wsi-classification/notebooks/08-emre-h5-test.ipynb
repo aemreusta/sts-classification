{
 "cells": [
  {
   "cell_type": "code",
   "execution_count": null,
   "metadata": {},
   "outputs": [],
   "source": [
    "work_directory = \"/Volumes/T7 Red/wsi_code\""
   ]
  },
  {
   "cell_type": "code",
   "execution_count": null,
   "metadata": {},
   "outputs": [],
   "source": [
    "import os\n",
    "import sys\n",
    "import matplotlib.pyplot as plt\n",
    "\n",
    "# Add the path to your project root directory\n",
    "if work_directory not in sys.path:\n",
    "    sys.path.append(work_directory)\n",
    "# my utility functions\n",
    "\n",
    "# ----------------------------\n",
    "import h5py"
   ]
  },
  {
   "cell_type": "code",
   "execution_count": null,
   "metadata": {},
   "outputs": [],
   "source": [
    "# Define data directories\n",
    "DATASETS_PATH = os.path.join(work_directory, \"datasets\")\n",
    "PROCESSED_PATH = os.path.join(DATASETS_PATH, \"processed\")\n",
    "INTERIM_PATH = os.path.join(DATASETS_PATH, \"interim\")\n",
    "\n",
    "ls_patchs_path = os.path.join(INTERIM_PATH, \"ls_patchs_384\")\n",
    "lms_patchs_path = os.path.join(INTERIM_PATH, \"lms_patchs_384\")\n",
    "mpskt_patchs_path = os.path.join(INTERIM_PATH, \"mpskt_patchs_384\")\n",
    "ss_patchs_path = os.path.join(INTERIM_PATH, \"ss_patchs_384\")\n",
    "\n",
    "hdf5_path = os.path.join(PROCESSED_PATH, \"patchs_384_40k.hdf5\")"
   ]
  },
  {
   "cell_type": "code",
   "execution_count": null,
   "metadata": {},
   "outputs": [],
   "source": [
    "# Open the HDF5 file for reading\n",
    "file = h5py.File(hdf5_path, \"r\")\n",
    "file[\"00/01/images\"].shape"
   ]
  },
  {
   "cell_type": "code",
   "execution_count": null,
   "metadata": {},
   "outputs": [],
   "source": [
    "keys_list = []\n",
    "file.visit(lambda name: keys_list.append(name) if \"images\" in name else None)\n",
    "print(len(keys_list), keys_list)"
   ]
  },
  {
   "cell_type": "code",
   "execution_count": null,
   "metadata": {},
   "outputs": [],
   "source": [
    "# Define the number of rows and columns for the subplot grid\n",
    "num_rows = 4\n",
    "num_columns = 5\n",
    "\n",
    "# Calculate the total number of subplots\n",
    "total_subplots = num_rows * num_columns\n",
    "\n",
    "# Create a single figure for all images with the specified subplot layout\n",
    "fig, axes = plt.subplots(num_rows, num_columns, figsize=(15, 12))\n",
    "\n",
    "for i, key in enumerate(keys_list[:total_subplots]):\n",
    "    img = file[key][0]\n",
    "    mask = file[key][1]\n",
    "\n",
    "    row_idx = i // num_columns\n",
    "    col_idx = i % num_columns\n",
    "\n",
    "    axes[row_idx, col_idx].imshow(img, cmap=\"gray\")\n",
    "    axes[row_idx, col_idx].axis(\"off\")\n",
    "    axes[row_idx, col_idx].imshow(mask, cmap=\"gray\")\n",
    "    axes[row_idx, col_idx].axis(\"off\")\n",
    "\n",
    "    # Set title using the key\n",
    "    axes[row_idx, col_idx].set_title(key)\n",
    "\n",
    "# close the HDF5 file\n",
    "file.close()\n",
    "\n",
    "# Ensure proper spacing between subplots\n",
    "plt.tight_layout()\n",
    "\n",
    "# Show the combined figure with all images\n",
    "plt.show()"
   ]
  },
  {
   "cell_type": "code",
   "execution_count": null,
   "metadata": {},
   "outputs": [],
   "source": [
    "def select_case_data(file_path, selected_case):\n",
    "    # Open the HDF5 file\n",
    "    file = h5py.File(file_path, \"r\")\n",
    "\n",
    "    # Initialize lists to store data\n",
    "    selected_images = []\n",
    "    selected_labels = []\n",
    "    remaining_images = []\n",
    "    remaining_labels = []\n",
    "\n",
    "    # Iterate through the keys\n",
    "    for i in range(4):  # Assuming you have four illnesses (00, 01, 02, 03)\n",
    "        for j in range(\n",
    "            5\n",
    "        ):  # Assuming you have five cases in each illness (00, 01, 02, 03, 04)\n",
    "            key = f\"{i:02d}/{j:02d}\"\n",
    "\n",
    "            if j == selected_case:\n",
    "                selected_images.extend(file[key + \"/images\"][:])\n",
    "                selected_labels.extend(file[key + \"/labels\"][:])\n",
    "            else:\n",
    "                remaining_images.extend(file[key + \"/images\"][:])\n",
    "                remaining_labels.extend(file[key + \"/labels\"][:])\n",
    "\n",
    "    # Close the HDF5 file when done\n",
    "    file.close()\n",
    "\n",
    "    return selected_images, selected_labels, remaining_images, remaining_labels"
   ]
  },
  {
   "cell_type": "code",
   "execution_count": null,
   "metadata": {},
   "outputs": [],
   "source": [
    "selected_case = 1\n",
    "selected_images, selected_labels, remaining_images, remaining_labels = select_case_data(\n",
    "    hdf5_path, selected_case\n",
    ")\n",
    "print(\n",
    "    len(selected_images),\n",
    "    len(selected_labels),\n",
    "    len(remaining_images),\n",
    "    len(remaining_labels),\n",
    ")"
   ]
  },
  {
   "cell_type": "code",
   "execution_count": null,
   "metadata": {},
   "outputs": [],
   "source": [
    "selected_cases = [0, 2000, 4000, 6000]\n",
    "\n",
    "# Show images from the selected cases in the same plot\n",
    "fig, axes = plt.subplots(\n",
    "    1, len(selected_cases), figsize=(15, 5)\n",
    ")  # Create subplots for each case\n",
    "\n",
    "for i, ax in enumerate(axes):\n",
    "    ax.imshow(selected_images[selected_cases[i]], cmap=\"gray\")\n",
    "    ax.set_title(\n",
    "        f\"Case {selected_cases[i]} with label {selected_labels[selected_cases[i]]}\"\n",
    "    )\n",
    "    ax.axis(\"off\")\n",
    "\n",
    "plt.show()"
   ]
  }
 ],
 "metadata": {
  "kernelspec": {
   "display_name": "jupyterenv",
   "language": "python",
   "name": "python3"
  },
  "language_info": {
   "codemirror_mode": {
    "name": "ipython",
    "version": 3
   },
   "file_extension": ".py",
   "mimetype": "text/x-python",
   "name": "python",
   "nbconvert_exporter": "python",
   "pygments_lexer": "ipython3",
   "version": "3.10.10"
  },
  "orig_nbformat": 4
 },
 "nbformat": 4,
 "nbformat_minor": 2
}
