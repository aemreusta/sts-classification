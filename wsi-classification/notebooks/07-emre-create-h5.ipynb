{
 "cells": [
  {
   "cell_type": "code",
   "execution_count": null,
   "metadata": {},
   "outputs": [],
   "source": [
    "from google.colab import drive\n",
    "\n",
    "# Mount the Google Drive to access the files\n",
    "drive.mount(\"/content/gdrive/\")"
   ]
  },
  {
   "cell_type": "code",
   "execution_count": 1,
   "metadata": {},
   "outputs": [],
   "source": [
    "work_directory = \"/Volumes/T7 Red/wsi_code\""
   ]
  },
  {
   "cell_type": "code",
   "execution_count": 2,
   "metadata": {},
   "outputs": [],
   "source": [
    "import os\n",
    "import sys\n",
    "import numpy as np\n",
    "from PIL import Image\n",
    "\n",
    "# Add the path to your project root directory\n",
    "if work_directory not in sys.path:\n",
    "    sys.path.append(work_directory)\n",
    "# my utility functions\n",
    "from utils.general import read_path\n",
    "\n",
    "# ----------------------------\n",
    "import h5py"
   ]
  },
  {
   "cell_type": "code",
   "execution_count": 3,
   "metadata": {},
   "outputs": [],
   "source": [
    "# Define data directories\n",
    "DATASETS_PATH = os.path.join(work_directory, \"datasets\")\n",
    "PROCESSED_PATH = os.path.join(DATASETS_PATH, \"processed\")\n",
    "INTERIM_PATH = os.path.join(DATASETS_PATH, \"interim\")\n",
    "\n",
    "ls_patchs_path = os.path.join(INTERIM_PATH, \"ls_patchs_384\")\n",
    "lms_patchs_path = os.path.join(INTERIM_PATH, \"lms_patchs_384\")\n",
    "mpskt_patchs_path = os.path.join(INTERIM_PATH, \"mpskt_patchs_384\")\n",
    "ss_patchs_path = os.path.join(INTERIM_PATH, \"ss_patchs_384\")"
   ]
  },
  {
   "cell_type": "code",
   "execution_count": 4,
   "metadata": {},
   "outputs": [],
   "source": [
    "illness_dict = {\n",
    "    \"ls\": \"00\",\n",
    "    \"lms\": \"01\",\n",
    "    \"mpskt\": \"02\",\n",
    "    \"ss\": \"03\",\n",
    "}\n",
    "\n",
    "case_dict = {\n",
    "    # lipo\n",
    "    \"TCGA-3B-A9HI-01Z-00-DX1.FF553011-934A-4E3E-AA53-B87FC307E095\": \"00\",\n",
    "    \"TCGA-DX-AB36-01Z-00-DX2.B0293A74-52AC-490B-A5F0-CA96F4B36252\": \"01\",\n",
    "    \"TCGA-DX-AB37-01Z-00-DX1.B778136D-9699-48FA-91F2-16BD16569571\": \"02\",\n",
    "    \"TCGA-DX-AB37-01Z-00-DX3.AE53E163-C3F2-4BF1-8A2E-232842C590F1\": \"03\",\n",
    "    \"TCGA-Z4-A9VC-01Z-00-DX1.42D1CACE-2FFB-4CE4-B8D6-8C0D5BC3B3F2\": \"04\",\n",
    "    # lms\n",
    "    \"TCGA-DX-A3U7-01Z-00-DX1.FD7076CA-39BC-4330-B91C-6DF7F0751D57\": \"00\",\n",
    "    \"TCGA-DX-A48L-01Z-00-DX1.656CE0A0-F442-4715-8250-C7B71A73FBCC\": \"01\",\n",
    "    \"TCGA-IF-A4AK-01Z-00-DX1.A39253B8-4899-4360-BFF2-3538AEF7A970\": \"02\",\n",
    "    \"TCGA-X6-A7WC-01Z-00-DX1.A1B72EE7-D7BD-4D23-A38F-39CC4E1C32A8\": \"03\",\n",
    "    \"TCGA-X6-A7WD-01Z-00-DX2.37790492-072A-4392-8D7B-904286F6C805\": \"04\",\n",
    "    # mpskt\n",
    "    \"TCGA-QQ-A8VG-01Z-00-DX1.A9A10DBA-09AE-4C1A-A126-2180536400ED\": \"00\",\n",
    "    \"TCGA-QQ-A8VG-01Z-00-DX2.9C8082B3-7E59-46C8-88B6-73DD4D2D29E7\": \"01\",\n",
    "    \"TCGA-RN-AAAQ-01Z-00-DX1.493F5285-F6E5-435F-902F-E384E4440C53\": \"02\",\n",
    "    \"TCGA-SI-A71O-01Z-00-DX5.DAF40BD0-4B92-4201-8B03-B0BFAA14CBBC\": \"03\",\n",
    "    \"TCGA-SI-A71Q-01Z-00-DX3.746B592F-98CD-41CA-837E-E4E0B12F4020\": \"04\",\n",
    "    # ss\n",
    "    \"TCGA-DX-A7EQ-01Z-00-DX1.6E243B4A-CE79-4B31-B98B-24B89E7C2FB4\": \"00\",\n",
    "    \"TCGA-DX-AB3B-01Z-00-DX1.454F6EDB-796F-4BB0-A92E-E4F5D592E897\": \"01\",\n",
    "    \"TCGA-DX-AB3B-01Z-00-DX2.2BC397E2-2F44-4C2D-87C2-439A052C8B0F\": \"02\",\n",
    "    \"TCGA-DX-AB3C-01Z-00-DX2.CBA90EC0-A148-400F-9DFA-870F637E2958\": \"03\",\n",
    "    \"TCGA-MJ-A850-01Z-00-DX1.67DDD01B-0D67-4A0F-B535-B9A1E1BE65EA\": \"04\",\n",
    "}"
   ]
  },
  {
   "cell_type": "code",
   "execution_count": 5,
   "metadata": {},
   "outputs": [
    {
     "data": {
      "text/plain": [
       "[['TCGA-3B-A9HI-01Z-00-DX1.FF553011-934A-4E3E-AA53-B87FC307E095',\n",
       "  'TCGA-DX-AB36-01Z-00-DX2.B0293A74-52AC-490B-A5F0-CA96F4B36252',\n",
       "  'TCGA-DX-AB37-01Z-00-DX1.B778136D-9699-48FA-91F2-16BD16569571',\n",
       "  'TCGA-DX-AB37-01Z-00-DX3.AE53E163-C3F2-4BF1-8A2E-232842C590F1',\n",
       "  'TCGA-Z4-A9VC-01Z-00-DX1.42D1CACE-2FFB-4CE4-B8D6-8C0D5BC3B3F2'],\n",
       " ['TCGA-DX-A3U7-01Z-00-DX1.FD7076CA-39BC-4330-B91C-6DF7F0751D57',\n",
       "  'TCGA-DX-A48L-01Z-00-DX1.656CE0A0-F442-4715-8250-C7B71A73FBCC',\n",
       "  'TCGA-IF-A4AK-01Z-00-DX1.A39253B8-4899-4360-BFF2-3538AEF7A970',\n",
       "  'TCGA-X6-A7WC-01Z-00-DX1.A1B72EE7-D7BD-4D23-A38F-39CC4E1C32A8',\n",
       "  'TCGA-X6-A7WD-01Z-00-DX2.37790492-072A-4392-8D7B-904286F6C805'],\n",
       " ['TCGA-QQ-A8VG-01Z-00-DX1.A9A10DBA-09AE-4C1A-A126-2180536400ED',\n",
       "  'TCGA-QQ-A8VG-01Z-00-DX2.9C8082B3-7E59-46C8-88B6-73DD4D2D29E7',\n",
       "  'TCGA-RN-AAAQ-01Z-00-DX1.493F5285-F6E5-435F-902F-E384E4440C53',\n",
       "  'TCGA-SI-A71O-01Z-00-DX5.DAF40BD0-4B92-4201-8B03-B0BFAA14CBBC',\n",
       "  'TCGA-SI-A71Q-01Z-00-DX3.746B592F-98CD-41CA-837E-E4E0B12F4020'],\n",
       " ['TCGA-DX-A7EQ-01Z-00-DX1.6E243B4A-CE79-4B31-B98B-24B89E7C2FB4',\n",
       "  'TCGA-DX-AB3B-01Z-00-DX1.454F6EDB-796F-4BB0-A92E-E4F5D592E897',\n",
       "  'TCGA-DX-AB3B-01Z-00-DX2.2BC397E2-2F44-4C2D-87C2-439A052C8B0F',\n",
       "  'TCGA-DX-AB3C-01Z-00-DX2.CBA90EC0-A148-400F-9DFA-870F637E2958',\n",
       "  'TCGA-MJ-A850-01Z-00-DX1.67DDD01B-0D67-4A0F-B535-B9A1E1BE65EA']]"
      ]
     },
     "execution_count": 5,
     "metadata": {},
     "output_type": "execute_result"
    }
   ],
   "source": [
    "illness = []\n",
    "for idx, addrs in enumerate(case_dict.keys()):\n",
    "    # create a new list every 5 items and append it to the main list\n",
    "    if idx % 5 == 0:\n",
    "        illness.append([])\n",
    "\n",
    "    illness[-1].append(addrs)\n",
    "\n",
    "illness"
   ]
  },
  {
   "cell_type": "code",
   "execution_count": 6,
   "metadata": {},
   "outputs": [],
   "source": [
    "images_patchs = []\n",
    "\n",
    "for idx, ill in enumerate(illness):\n",
    "    if idx == 0:\n",
    "        main_path = ls_patchs_path\n",
    "    elif idx == 1:\n",
    "        main_path = lms_patchs_path\n",
    "    elif idx == 2:\n",
    "        main_path = mpskt_patchs_path\n",
    "    elif idx == 3:\n",
    "        main_path = ss_patchs_path\n",
    "\n",
    "    images_patchs.append([])\n",
    "\n",
    "    for idx, case in enumerate(ill):\n",
    "        # images_patchs[-1].append([])\n",
    "        images_patchs[-1].append(read_path(os.path.join(main_path, case, \"*.png\")))"
   ]
  },
  {
   "cell_type": "code",
   "execution_count": 7,
   "metadata": {},
   "outputs": [
    {
     "name": "stdout",
     "output_type": "stream",
     "text": [
      "4\n",
      "5\n",
      "36086\n"
     ]
    }
   ],
   "source": [
    "print(len(images_patchs))\n",
    "print(len(images_patchs[0]))\n",
    "print(len(images_patchs[3][3]))"
   ]
  },
  {
   "cell_type": "code",
   "execution_count": 8,
   "metadata": {},
   "outputs": [],
   "source": [
    "hdf5_path = os.path.join(PROCESSED_PATH, \"patchs_384_40k.hdf5\")\n",
    "f = h5py.File(hdf5_path, \"w\")"
   ]
  },
  {
   "cell_type": "code",
   "execution_count": 9,
   "metadata": {},
   "outputs": [
    {
     "data": {
      "text/plain": [
       "[[<HDF5 group \"/00/00\" (0 members)>,\n",
       "  <HDF5 group \"/00/01\" (0 members)>,\n",
       "  <HDF5 group \"/00/02\" (0 members)>,\n",
       "  <HDF5 group \"/00/03\" (0 members)>,\n",
       "  <HDF5 group \"/00/04\" (0 members)>],\n",
       " [<HDF5 group \"/01/00\" (0 members)>,\n",
       "  <HDF5 group \"/01/01\" (0 members)>,\n",
       "  <HDF5 group \"/01/02\" (0 members)>,\n",
       "  <HDF5 group \"/01/03\" (0 members)>,\n",
       "  <HDF5 group \"/01/04\" (0 members)>],\n",
       " [<HDF5 group \"/02/00\" (0 members)>,\n",
       "  <HDF5 group \"/02/01\" (0 members)>,\n",
       "  <HDF5 group \"/02/02\" (0 members)>,\n",
       "  <HDF5 group \"/02/03\" (0 members)>,\n",
       "  <HDF5 group \"/02/04\" (0 members)>],\n",
       " [<HDF5 group \"/03/00\" (0 members)>,\n",
       "  <HDF5 group \"/03/01\" (0 members)>,\n",
       "  <HDF5 group \"/03/02\" (0 members)>,\n",
       "  <HDF5 group \"/03/03\" (0 members)>,\n",
       "  <HDF5 group \"/03/04\" (0 members)>]]"
      ]
     },
     "execution_count": 9,
     "metadata": {},
     "output_type": "execute_result"
    }
   ],
   "source": [
    "groups = [f.create_group(i) for i in illness_dict.values()]\n",
    "\n",
    "case_groups = []\n",
    "\n",
    "for i in range(len(groups)):\n",
    "    for j in case_dict.values():\n",
    "        if j not in groups[i]:\n",
    "            case_groups.append(groups[i].create_group(j))\n",
    "\n",
    "# i need to divide case_groups into 4 equal groups\n",
    "case_groups = [case_groups[i : i + 5] for i in range(0, len(case_groups), 5)]\n",
    "case_groups"
   ]
  },
  {
   "cell_type": "code",
   "execution_count": 10,
   "metadata": {},
   "outputs": [
    {
     "name": "stdout",
     "output_type": "stream",
     "text": [
      "Error in: /Volumes/T7 Red/wsi_code/datasets/interim/ls_patchs_384/TCGA-3B-A9HI-01Z-00-DX1.FF553011-934A-4E3E-AA53-B87FC307E095/tcga_00_00_23_98.png - cannot identify image file '/Volumes/T7 Red/wsi_code/datasets/interim/ls_patchs_384/TCGA-3B-A9HI-01Z-00-DX1.FF553011-934A-4E3E-AA53-B87FC307E095/tcga_00_00_23_98.png'\n",
      "0 0 (2000, 384, 384, 3) (2000, 1) [0]\n",
      "0 1 (2000, 384, 384, 3) (2000, 1) [0]\n",
      "0 2 (2000, 384, 384, 3) (2000, 1) [0]\n",
      "0 3 (2000, 384, 384, 3) (2000, 1) [0]\n",
      "0 4 (2000, 384, 384, 3) (2000, 1) [0]\n",
      "1 0 (2000, 384, 384, 3) (2000, 1) [1]\n",
      "1 1 (2000, 384, 384, 3) (2000, 1) [1]\n",
      "1 2 (2000, 384, 384, 3) (2000, 1) [1]\n",
      "1 3 (2000, 384, 384, 3) (2000, 1) [1]\n",
      "1 4 (2000, 384, 384, 3) (2000, 1) [1]\n",
      "2 0 (2000, 384, 384, 3) (2000, 1) [2]\n",
      "2 1 (2000, 384, 384, 3) (2000, 1) [2]\n",
      "2 2 (2000, 384, 384, 3) (2000, 1) [2]\n",
      "2 3 (2000, 384, 384, 3) (2000, 1) [2]\n",
      "2 4 (2000, 384, 384, 3) (2000, 1) [2]\n",
      "3 0 (2000, 384, 384, 3) (2000, 1) [3]\n",
      "3 1 (2000, 384, 384, 3) (2000, 1) [3]\n",
      "3 2 (2000, 384, 384, 3) (2000, 1) [3]\n",
      "3 3 (2000, 384, 384, 3) (2000, 1) [3]\n",
      "3 4 (2000, 384, 384, 3) (2000, 1) [3]\n"
     ]
    }
   ],
   "source": [
    "# Initialize variables\n",
    "num_cases = len(images_patchs)\n",
    "num_samples = 2000\n",
    "image_shape = (num_samples, 384, 384, 3)\n",
    "label_shape = (num_samples, 1)\n",
    "\n",
    "\n",
    "for illness_idx, illness in enumerate(images_patchs):\n",
    "    min_len = min(len(case) for case in illness)\n",
    "    random_indices = np.random.randint(0, min_len, size=num_samples)\n",
    "\n",
    "    for case_idx, case in enumerate(illness):\n",
    "        # Initialize arrays\n",
    "        images = np.empty(image_shape, dtype=np.uint8)\n",
    "        labels = np.full(label_shape, illness_idx, dtype=np.uint8)\n",
    "\n",
    "        for sample_idx in range(num_samples):\n",
    "            num = random_indices[sample_idx]\n",
    "            try:\n",
    "                img = Image.open(case[num])\n",
    "                img = img.convert(\"RGB\")\n",
    "                img = np.array(img)\n",
    "                images[sample_idx] = img\n",
    "            except Exception as e:\n",
    "                print(f\"Error in: {case[num]} - {e}\")\n",
    "                continue\n",
    "\n",
    "        # Check for empty items\n",
    "        if np.isnan(images).any():\n",
    "            print(\"There is at least one empty item in the 'images' array.\")\n",
    "            raise SystemExit\n",
    "\n",
    "        print(illness_idx, case_idx, images.shape, labels.shape, labels[0])\n",
    "\n",
    "        case_groups[illness_idx][case_idx].create_dataset(\n",
    "            \"images\",\n",
    "            data=images,\n",
    "            dtype=\"uint8\",\n",
    "            compression=\"gzip\",\n",
    "            compression_opts=9,\n",
    "            chunks=True,\n",
    "        )\n",
    "        case_groups[illness_idx][case_idx].create_dataset(\n",
    "            \"labels\",\n",
    "            data=labels,\n",
    "            dtype=\"uint8\",\n",
    "            compression=\"gzip\",\n",
    "            compression_opts=9,\n",
    "            chunks=True,\n",
    "        )"
   ]
  },
  {
   "cell_type": "code",
   "execution_count": null,
   "metadata": {},
   "outputs": [],
   "source": [
    "f.close()"
   ]
  }
 ],
 "metadata": {
  "kernelspec": {
   "display_name": "jupyterenv",
   "language": "python",
   "name": "python3"
  },
  "language_info": {
   "codemirror_mode": {
    "name": "ipython",
    "version": 3
   },
   "file_extension": ".py",
   "mimetype": "text/x-python",
   "name": "python",
   "nbconvert_exporter": "python",
   "pygments_lexer": "ipython3",
   "version": "3.10.10"
  },
  "orig_nbformat": 4
 },
 "nbformat": 4,
 "nbformat_minor": 2
}
