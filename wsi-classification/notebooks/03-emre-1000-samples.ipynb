{
 "cells": [
  {
   "cell_type": "code",
   "execution_count": 1,
   "metadata": {},
   "outputs": [],
   "source": [
    "import glob\n",
    "import os\n",
    "import shutil\n",
    "import numpy as np"
   ]
  },
  {
   "cell_type": "code",
   "execution_count": 2,
   "metadata": {},
   "outputs": [],
   "source": [
    "def read_path(path, rr=True):\n",
    "    path_list = []\n",
    "    for f in glob.iglob(path, recursive=rr):\n",
    "        path_list.append(str(f))\n",
    "    path_list.sort()\n",
    "\n",
    "    return path_list"
   ]
  },
  {
   "cell_type": "code",
   "execution_count": 3,
   "metadata": {},
   "outputs": [],
   "source": [
    "def create_directory(path):\n",
    "    if not os.path.exists(path):\n",
    "        os.makedirs(path)\n",
    "        print(f\"Created directory: {path}\")\n",
    "    else:\n",
    "        print(f\"Directory already exists: {path}\")"
   ]
  },
  {
   "cell_type": "code",
   "execution_count": 4,
   "metadata": {},
   "outputs": [],
   "source": [
    "def find_directory_size(directory_path):\n",
    "    directory_size = 0\n",
    "    for dirpath, dirnames, filenames in os.walk(directory_path):\n",
    "        for filename in filenames:\n",
    "            directory_size += os.path.getsize(os.path.join(dirpath, filename))\n",
    "    return f\"{directory_size//1024**2} Mb\""
   ]
  },
  {
   "cell_type": "code",
   "execution_count": 5,
   "metadata": {},
   "outputs": [],
   "source": [
    "# Set the working directory\n",
    "work_directory = r\"D:\\emre\\wsi_code\"\n",
    "INTERIM_PATH = os.path.join(work_directory, \"datasets\", \"interim\")\n",
    "PROCESSED_PATH = os.path.join(work_directory, \"datasets\", \"processed\")\n",
    "\n",
    "liposarkom_patchs_path = os.path.join(INTERIM_PATH, \"liposarkom_patchs_384\")\n",
    "lms_patchs_path = os.path.join(INTERIM_PATH, \"lms_patchs_384\")\n",
    "mpskt_patchs_path = os.path.join(INTERIM_PATH, \"mpskt_patchs_384\")\n",
    "ss_patchs_path = os.path.join(INTERIM_PATH, \"ss_patchs_384\")"
   ]
  },
  {
   "cell_type": "code",
   "execution_count": 6,
   "metadata": {},
   "outputs": [],
   "source": [
    "liposarkom_patchs = read_path(os.path.join(liposarkom_patchs_path, \"**\", \"*.png\"))\n",
    "lms_patchs = read_path(os.path.join(lms_patchs_path, \"**\", \"*.png\"))\n",
    "mpskt_patchs = read_path(os.path.join(mpskt_patchs_path, \"**\", \"*.png\"))\n",
    "ss_patchs = read_path(os.path.join(ss_patchs_path, \"**\", \"*.png\"))"
   ]
  },
  {
   "cell_type": "code",
   "execution_count": 7,
   "metadata": {},
   "outputs": [
    {
     "name": "stdout",
     "output_type": "stream",
     "text": [
      "Created directory: D:\\emre\\wsi_code\\datasets\\processed\\1000_samples\\liposarkom_patchs_384\n",
      "Created directory: D:\\emre\\wsi_code\\datasets\\processed\\1000_samples\\lms_patchs_384\n",
      "Created directory: D:\\emre\\wsi_code\\datasets\\processed\\1000_samples\\mpskt_patchs_384\n",
      "Created directory: D:\\emre\\wsi_code\\datasets\\processed\\1000_samples\\ss_patchs_384\n"
     ]
    }
   ],
   "source": [
    "# take random 1000 samples from each class and move them to the processed folder\n",
    "create_directory(os.path.join(PROCESSED_PATH, \"1000_samples\", \"liposarkom_patchs_384\"))\n",
    "create_directory(os.path.join(PROCESSED_PATH, \"1000_samples\", \"lms_patchs_384\"))\n",
    "create_directory(os.path.join(PROCESSED_PATH, \"1000_samples\", \"mpskt_patchs_384\"))\n",
    "create_directory(os.path.join(PROCESSED_PATH, \"1000_samples\", \"ss_patchs_384\"))"
   ]
  },
  {
   "cell_type": "code",
   "execution_count": 11,
   "metadata": {},
   "outputs": [],
   "source": [
    "list_len = min(\n",
    "    len(liposarkom_patchs), len(lms_patchs), len(mpskt_patchs), len(ss_patchs)\n",
    ")"
   ]
  },
  {
   "cell_type": "code",
   "execution_count": 12,
   "metadata": {},
   "outputs": [],
   "source": [
    "random = np.random.randint(0, list_len, 1000)"
   ]
  },
  {
   "cell_type": "code",
   "execution_count": 13,
   "metadata": {},
   "outputs": [],
   "source": [
    "for idx, num in enumerate(random):\n",
    "    shutil.copy(\n",
    "        liposarkom_patchs[num],\n",
    "        os.path.join(PROCESSED_PATH, \"1000_samples\", \"liposarkom_patchs_384\"),\n",
    "    )\n",
    "    shutil.copy(\n",
    "        lms_patchs[num], os.path.join(PROCESSED_PATH, \"1000_samples\", \"lms_patchs_384\")\n",
    "    )\n",
    "    shutil.copy(\n",
    "        mpskt_patchs[num],\n",
    "        os.path.join(PROCESSED_PATH, \"1000_samples\", \"mpskt_patchs_384\"),\n",
    "    )\n",
    "    shutil.copy(\n",
    "        ss_patchs[num], os.path.join(PROCESSED_PATH, \"1000_samples\", \"ss_patchs_384\")\n",
    "    )"
   ]
  },
  {
   "cell_type": "code",
   "execution_count": null,
   "metadata": {},
   "outputs": [],
   "source": []
  }
 ],
 "metadata": {
  "kernelspec": {
   "display_name": "base",
   "language": "python",
   "name": "python3"
  },
  "language_info": {
   "codemirror_mode": {
    "name": "ipython",
    "version": 3
   },
   "file_extension": ".py",
   "mimetype": "text/x-python",
   "name": "python",
   "nbconvert_exporter": "python",
   "pygments_lexer": "ipython3",
   "version": "3.11.4"
  },
  "orig_nbformat": 4
 },
 "nbformat": 4,
 "nbformat_minor": 2
}
