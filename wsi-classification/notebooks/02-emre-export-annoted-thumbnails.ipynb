{
 "cells": [
  {
   "cell_type": "code",
   "execution_count": null,
   "metadata": {
    "colab": {
     "base_uri": "https://localhost:8080/"
    },
    "executionInfo": {
     "elapsed": 22509,
     "status": "ok",
     "timestamp": 1692771603185,
     "user": {
      "displayName": "Ahmet Emre Usta",
      "userId": "15508369964865834704"
     },
     "user_tz": -180
    },
    "id": "7ufMUZ7vC9sB",
    "outputId": "013204be-5205-4072-93cb-2b2acf121caa"
   },
   "outputs": [],
   "source": [
    "!apt update && apt install -y openslide-tools\n",
    "!pip install openslide-python\n",
    "!pip install shapely"
   ]
  },
  {
   "cell_type": "code",
   "execution_count": null,
   "metadata": {
    "colab": {
     "base_uri": "https://localhost:8080/"
    },
    "executionInfo": {
     "elapsed": 18702,
     "status": "ok",
     "timestamp": 1692771621883,
     "user": {
      "displayName": "Ahmet Emre Usta",
      "userId": "15508369964865834704"
     },
     "user_tz": -180
    },
    "id": "8lYisvRMDI7v",
    "outputId": "83349ce6-6ee2-4702-a616-49e441acff22"
   },
   "outputs": [],
   "source": [
    "from google.colab import drive\n",
    "\n",
    "# Mount the Google Drive to access the files\n",
    "drive.mount(\"/content/gdrive/\")"
   ]
  },
  {
   "cell_type": "code",
   "execution_count": 1,
   "metadata": {},
   "outputs": [],
   "source": [
    "# Set the working directory\n",
    "work_directory = r\"/Volumes/T7/wsi_code\""
   ]
  },
  {
   "cell_type": "code",
   "execution_count": 2,
   "metadata": {
    "id": "lf5Pbe2yDF93"
   },
   "outputs": [],
   "source": [
    "import os\n",
    "import sys\n",
    "import openslide\n",
    "from tqdm.auto import tqdm\n",
    "from shapely.geometry import shape\n",
    "import json\n",
    "from datetime import datetime\n",
    "\n",
    "# Add the path to your project root directory\n",
    "if work_directory not in sys.path:\n",
    "    sys.path.append(work_directory)\n",
    "\n",
    "# my utility functions\n",
    "from utils.general import read_path"
   ]
  },
  {
   "cell_type": "code",
   "execution_count": 3,
   "metadata": {},
   "outputs": [],
   "source": [
    "DATASETS_PATH = os.path.join(work_directory, \"datasets\")\n",
    "INTERIM_PATH = os.path.join(DATASETS_PATH, \"interim\")\n",
    "RAW_PATH = os.path.join(DATASETS_PATH, \"raw\")\n",
    "ANNOTATIONS_PATH = os.path.join(DATASETS_PATH, \"annotations\")"
   ]
  },
  {
   "cell_type": "code",
   "execution_count": 4,
   "metadata": {},
   "outputs": [],
   "source": [
    "slides = read_path(os.path.join(RAW_PATH, \"**/*.svs\"), recursive=True)\n",
    "annotations = read_path(os.path.join(ANNOTATIONS_PATH, \"**/*.geojson\"), recursive=True)"
   ]
  },
  {
   "cell_type": "code",
   "execution_count": 5,
   "metadata": {},
   "outputs": [
    {
     "data": {
      "text/plain": [
       "['/Volumes/T7/wsi_code/datasets/raw/liposarkom/TCGA-3B-A9HI-01Z-00-DX1.FF553011-934A-4E3E-AA53-B87FC307E095.svs',\n",
       " '/Volumes/T7/wsi_code/datasets/raw/liposarkom/TCGA-DX-AB36-01Z-00-DX2.B0293A74-52AC-490B-A5F0-CA96F4B36252.svs',\n",
       " '/Volumes/T7/wsi_code/datasets/raw/liposarkom/TCGA-DX-AB37-01Z-00-DX1.B778136D-9699-48FA-91F2-16BD16569571.svs',\n",
       " '/Volumes/T7/wsi_code/datasets/raw/liposarkom/TCGA-DX-AB37-01Z-00-DX3.AE53E163-C3F2-4BF1-8A2E-232842C590F1.svs',\n",
       " '/Volumes/T7/wsi_code/datasets/raw/liposarkom/TCGA-Z4-A9VC-01Z-00-DX1.42D1CACE-2FFB-4CE4-B8D6-8C0D5BC3B3F2.svs']"
      ]
     },
     "execution_count": 5,
     "metadata": {},
     "output_type": "execute_result"
    }
   ],
   "source": [
    "slides[:5]"
   ]
  },
  {
   "cell_type": "code",
   "execution_count": 6,
   "metadata": {},
   "outputs": [],
   "source": [
    "illness_dict = {\"liposarkom\": \"00\", \"lms\": \"01\", \"mpskt\": \"02\", \"ss\": \"03\"}\n",
    "\n",
    "case_dict = {\n",
    "    # lipo\n",
    "    \"TCGA-3B-A9HI-01Z-00-DX1.FF553011-934A-4E3E-AA53-B87FC307E095\": \"00\",\n",
    "    \"TCGA-DX-AB36-01Z-00-DX2.B0293A74-52AC-490B-A5F0-CA96F4B36252\": \"01\",\n",
    "    \"TCGA-DX-AB37-01Z-00-DX1.B778136D-9699-48FA-91F2-16BD16569571\": \"02\",\n",
    "    \"TCGA-DX-AB37-01Z-00-DX3.AE53E163-C3F2-4BF1-8A2E-232842C590F1\": \"03\",\n",
    "    \"TCGA-Z4-A9VC-01Z-00-DX1.42D1CACE-2FFB-4CE4-B8D6-8C0D5BC3B3F2\": \"04\",\n",
    "    # lms\n",
    "    \"TCGA-DX-A3U7-01Z-00-DX1.FD7076CA-39BC-4330-B91C-6DF7F0751D57\": \"00\",\n",
    "    \"TCGA-DX-A48L-01Z-00-DX1.656CE0A0-F442-4715-8250-C7B71A73FBCC\": \"01\",\n",
    "    \"TCGA-IF-A4AK-01Z-00-DX1.A39253B8-4899-4360-BFF2-3538AEF7A970\": \"02\",\n",
    "    \"TCGA-X6-A7WC-01Z-00-DX1.A1B72EE7-D7BD-4D23-A38F-39CC4E1C32A8\": \"03\",\n",
    "    \"TCGA-X6-A7WD-01Z-00-DX2.37790492-072A-4392-8D7B-904286F6C805\": \"04\",\n",
    "    # mpskt\n",
    "    \"TCGA-QQ-A8VG-01Z-00-DX1.A9A10DBA-09AE-4C1A-A126-2180536400ED\": \"00\",\n",
    "    \"TCGA-QQ-A8VG-01Z-00-DX2.9C8082B3-7E59-46C8-88B6-73DD4D2D29E7\": \"01\",\n",
    "    \"TCGA-RN-AAAQ-01Z-00-DX1.493F5285-F6E5-435F-902F-E384E4440C53\": \"02\",\n",
    "    \"TCGA-SI-A71O-01Z-00-DX5.DAF40BD0-4B92-4201-8B03-B0BFAA14CBBC\": \"03\",\n",
    "    \"TCGA-SI-A71Q-01Z-00-DX3.746B592F-98CD-41CA-837E-E4E0B12F4020\": \"04\",\n",
    "    # ss\n",
    "    \"TCGA-DX-A7EQ-01Z-00-DX1.6E243B4A-CE79-4B31-B98B-24B89E7C2FB4\": \"00\",\n",
    "    \"TCGA-DX-AB3B-01Z-00-DX1.454F6EDB-796F-4BB0-A92E-E4F5D592E897\": \"01\",\n",
    "    \"TCGA-DX-AB3B-01Z-00-DX2.2BC397E2-2F44-4C2D-87C2-439A052C8B0F\": \"02\",\n",
    "    \"TCGA-DX-AB3C-01Z-00-DX2.CBA90EC0-A148-400F-9DFA-870F637E2958\": \"03\",\n",
    "    \"TCGA-MJ-A850-01Z-00-DX1.67DDD01B-0D67-4A0F-B535-B9A1E1BE65EA\": \"04\",\n",
    "}"
   ]
  },
  {
   "cell_type": "code",
   "execution_count": 7,
   "metadata": {},
   "outputs": [],
   "source": [
    "EXTRACT_PATH = os.path.join(DATASETS_PATH, \"slides_info\")\n",
    "# lipo = os.path.join(EXTRACT_PATH, \"lipo\")\n",
    "# lms = os.path.join(EXTRACT_PATH, \"lms\")\n",
    "# mpskt = os.path.join(EXTRACT_PATH, \"mpskt\")\n",
    "# ss = os.path.join(EXTRACT_PATH, \"ss\")\n",
    "\n",
    "# create_directory(lipo)\n",
    "# create_directory(lms)\n",
    "# create_directory(mpskt)\n",
    "# create_directory(ss)"
   ]
  },
  {
   "cell_type": "code",
   "execution_count": 37,
   "metadata": {
    "id": "yet4PBuPDXc9"
   },
   "outputs": [
    {
     "data": {
      "application/vnd.jupyter.widget-view+json": {
       "model_id": "b1bff6e256c145528a0d9e5063c14285",
       "version_major": 2,
       "version_minor": 0
      },
      "text/plain": [
       "  0%|          | 0/20 [00:00<?, ?it/s]"
      ]
     },
     "metadata": {},
     "output_type": "display_data"
    },
    {
     "name": "stdout",
     "output_type": "stream",
     "text": [
      "KeysView(<_AssociatedImageMap {'thumbnail': <PIL.Image.Image image mode=RGBA size=1024x523 at 0x10CD122F0>}>)\n",
      "KeysView(<_AssociatedImageMap {'thumbnail': <PIL.Image.Image image mode=RGBA size=978x768 at 0x10CD122F0>}>)\n",
      "KeysView(<_AssociatedImageMap {'thumbnail': <PIL.Image.Image image mode=RGBA size=1024x569 at 0x10CD122F0>}>)\n",
      "KeysView(<_AssociatedImageMap {'thumbnail': <PIL.Image.Image image mode=RGBA size=1009x768 at 0x10CD12C20>}>)\n",
      "KeysView(<_AssociatedImageMap {'thumbnail': <PIL.Image.Image image mode=RGBA size=985x768 at 0x10CD12C20>}>)\n",
      "KeysView(<_AssociatedImageMap {'thumbnail': <PIL.Image.Image image mode=RGBA size=952x768 at 0x10CD11D80>}>)\n",
      "KeysView(<_AssociatedImageMap {'thumbnail': <PIL.Image.Image image mode=RGBA size=610x768 at 0x10F1EBBE0>}>)\n",
      "KeysView(<_AssociatedImageMap {'thumbnail': <PIL.Image.Image image mode=RGBA size=1024x695 at 0x10F1EBD90>}>)\n",
      "KeysView(<_AssociatedImageMap {'thumbnail': <PIL.Image.Image image mode=RGBA size=1024x661 at 0x10F1E8430>}>)\n",
      "KeysView(<_AssociatedImageMap {'thumbnail': <PIL.Image.Image image mode=RGBA size=530x768 at 0x10F1E91E0>}>)\n",
      "KeysView(<_AssociatedImageMap {'thumbnail': <PIL.Image.Image image mode=RGBA size=928x768 at 0x10F1E9810>}>)\n",
      "KeysView(<_AssociatedImageMap {'thumbnail': <PIL.Image.Image image mode=RGBA size=905x768 at 0x10F1E98A0>}>)\n",
      "KeysView(<_AssociatedImageMap {'thumbnail': <PIL.Image.Image image mode=RGBA size=1018x768 at 0x10F1E8130>}>)\n",
      "KeysView(<_AssociatedImageMap {'thumbnail': <PIL.Image.Image image mode=RGBA size=1024x641 at 0x10F1E8160>}>)\n",
      "KeysView(<_AssociatedImageMap {'thumbnail': <PIL.Image.Image image mode=RGBA size=1024x746 at 0x10F1E8490>}>)\n",
      "KeysView(<_AssociatedImageMap {'thumbnail': <PIL.Image.Image image mode=RGBA size=939x768 at 0x10F1E8070>}>)\n",
      "KeysView(<_AssociatedImageMap {'thumbnail': <PIL.Image.Image image mode=RGBA size=881x768 at 0x10F1EBBE0>}>)\n",
      "KeysView(<_AssociatedImageMap {'thumbnail': <PIL.Image.Image image mode=RGBA size=663x768 at 0x10F1E9B40>}>)\n",
      "KeysView(<_AssociatedImageMap {'thumbnail': <PIL.Image.Image image mode=RGBA size=980x768 at 0x10F1E8490>}>)\n",
      "KeysView(<_AssociatedImageMap {'thumbnail': <PIL.Image.Image image mode=RGBA size=1024x719 at 0x10F1E98A0>}>)\n"
     ]
    }
   ],
   "source": [
    "for slide, anno in tqdm(zip(slides, annotations), total=len(slides)):\n",
    "    # print(slide, anno)\n",
    "    slide_name = os.path.splitext(os.path.basename(slide))[0]\n",
    "    case_name = slide.split(\"/\")[-2]\n",
    "\n",
    "    sld = openslide.OpenSlide(slide)\n",
    "    txt_file = os.path.join(\n",
    "        EXTRACT_PATH, f\"{illness_dict[case_name]}_{case_dict[slide_name]}_info.txt\"\n",
    "    )\n",
    "\n",
    "    with open(txt_file, \"w\") as f:\n",
    "        current_datetime = datetime.now().strftime(\"%d/%m/%Y %H:%M:%S\")\n",
    "        f.write(f\"Date: {current_datetime}\\n\")\n",
    "        f.write(f\"Slide: {slide_name}\\n\")\n",
    "        f.write(f\"Code: {illness_dict[case_name]}_{case_dict[slide_name]}\\n\")\n",
    "        f.write(f\"Dimensions: {sld.level_dimensions}\\n\")\n",
    "\n",
    "    f.close()\n",
    "\n",
    "    print(sld.associated_images.keys())\n",
    "\n",
    "    # print(sld.level_dimensions)\n",
    "    sld.associated_images[\"thumbnail\"].save(\n",
    "        os.path.join(\n",
    "            EXTRACT_PATH,\n",
    "            f\"{illness_dict[case_name]}_{case_dict[slide_name]}_thumbnail.png\",\n",
    "        )\n",
    "    )\n",
    "\n",
    "    rgb_slide = sld.read_region((0, 0), sld.level_count - 2, sld.level_dimensions[-2])\n",
    "    rgb_slide = rgb_slide.convert(\"RGB\")\n",
    "    # rgb_slide.save(os.path.join(EXTRACT_PATH, f\"{illness_dict[case_name]}_{case_dict[slide_name]}.jpeg\"))\n",
    "\n",
    "    # # sld.associated_images['thumbnail'].show()\n",
    "    # sld.associated_images['macro'].save(os.path.join(EXTRACT_PATH, f\"{illness_dict[case_name]}_{case_dict[slide_name]}_macro.png\"))\n",
    "    # # sld.associated_images['macro'].show()\n",
    "    # sld.associated_images['label'].save(os.path.join(EXTRACT_PATH, f\"{illness_dict[case_name]}_{case_dict[slide_name]}_label.png\"))\n",
    "    # sld.associated_images['label'].show()\n",
    "\n",
    "    sld.close()"
   ]
  },
  {
   "cell_type": "code",
   "execution_count": 8,
   "metadata": {},
   "outputs": [],
   "source": [
    "from PIL import ImageDraw\n",
    "\n",
    "\n",
    "def draw_geojson_objects(\n",
    "    image, geojson_polygons, scale, outline_color=(0, 255, 0, 255), fill_color=None\n",
    "):\n",
    "    \"\"\"\n",
    "    Draw GeoJSON objects on an RGB image.\n",
    "\n",
    "    Parameters:\n",
    "    - image: PIL Image object (RGB mode) to draw on.\n",
    "    - geojson_features: List of GeoJSON features with geometries to draw.\n",
    "    - outline_color: Tuple (R, G, B, A) representing the outline color (default: green with full opacity).\n",
    "    - fill_color: Tuple (R, G, B, A) representing the fill color (default: None, no fill).\n",
    "\n",
    "    Returns:\n",
    "    - PIL Image object with drawn GeoJSON objects.\n",
    "    \"\"\"\n",
    "    draw = ImageDraw.Draw(image, \"RGBA\")\n",
    "\n",
    "    for polygon in geojson_polygons:\n",
    "        # Convert geometry coordinates to image coordinates\n",
    "        if image.mode != \"RGB\":\n",
    "            raise ValueError(\"Image must be in RGB mode.\")\n",
    "\n",
    "        polygon_list = [(x / scale, y / scale) for x, y in polygon.exterior.coords]\n",
    "\n",
    "        # Draw the polygon outline\n",
    "        draw.polygon(polygon_list, outline=outline_color, fill=fill_color)\n",
    "\n",
    "    return image"
   ]
  },
  {
   "cell_type": "code",
   "execution_count": 11,
   "metadata": {},
   "outputs": [
    {
     "data": {
      "application/vnd.jupyter.widget-view+json": {
       "model_id": "840ece1ab81e45bb8cf6cf2453a4a222",
       "version_major": 2,
       "version_minor": 0
      },
      "text/plain": [
       "  0%|          | 0/20 [00:00<?, ?it/s]"
      ]
     },
     "metadata": {},
     "output_type": "display_data"
    }
   ],
   "source": [
    "for slide, anno in tqdm(zip(slides, annotations), total=len(slides)):\n",
    "    slide_name = os.path.splitext(os.path.basename(slide))[0]\n",
    "    case_name = slide.split(\"/\")[-2]\n",
    "\n",
    "    with open(anno, \"r\") as json_file:\n",
    "        geojson_data = json.load(json_file)\n",
    "\n",
    "    geojson_polygons = [\n",
    "        shape(feature[\"geometry\"]) for feature in geojson_data[\"features\"]\n",
    "    ]\n",
    "\n",
    "    json_file.close()\n",
    "\n",
    "    sld = openslide.OpenSlide(slide)\n",
    "    scale = sld.level_downsamples[-2]\n",
    "\n",
    "    # Annotate the slide using the geojson polygons\n",
    "    rgb_slide = sld.read_region((0, 0), sld.level_count - 2, sld.level_dimensions[-2])\n",
    "    rgb_slide = rgb_slide.convert(\"RGB\")\n",
    "\n",
    "    output_path = os.path.join(\n",
    "        EXTRACT_PATH, f\"{illness_dict[case_name]}_{case_dict[slide_name]}.jpg\"\n",
    "    )\n",
    "    rgb_slide.save(\n",
    "        output_path, format=\"JPEG\", quality=75\n",
    "    )  # Adjust quality as needed (0-100)\n",
    "\n",
    "    # rgb_slide = draw_geojson_objects(rgb_slide, geojson_polygons, scale=sld.level_downsamples[-2], fill_color=(0, 255, 0, 51))\n",
    "\n",
    "    # rgb_slide.save(os.path.join(EXTRACT_PATH, f\"{illness_dict[case_name]}_{case_dict[slide_name]}_annotated.png\"), optimize=True)\n",
    "\n",
    "    # Save the annotated image as JPEG with compression\n",
    "    # output_path = os.path.join(EXTRACT_PATH, f\"{illness_dict[case_name]}_{case_dict[slide_name]}_annotated.jpg\")\n",
    "    # rgb_slide.save(output_path, format='JPEG', quality=75)  # Adjust quality as needed (0-100)\n",
    "\n",
    "    rgb_slide.close()\n",
    "    sld.close()"
   ]
  },
  {
   "cell_type": "code",
   "execution_count": null,
   "metadata": {},
   "outputs": [],
   "source": []
  }
 ],
 "metadata": {
  "colab": {
   "provenance": []
  },
  "kernelspec": {
   "display_name": "Python 3",
   "name": "python3"
  },
  "language_info": {
   "codemirror_mode": {
    "name": "ipython",
    "version": 3
   },
   "file_extension": ".py",
   "mimetype": "text/x-python",
   "name": "python",
   "nbconvert_exporter": "python",
   "pygments_lexer": "ipython3",
   "version": "3.10.10"
  }
 },
 "nbformat": 4,
 "nbformat_minor": 0
}
