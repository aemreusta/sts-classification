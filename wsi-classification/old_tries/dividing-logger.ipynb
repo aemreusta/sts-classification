{
 "nbformat": 4,
 "nbformat_minor": 0,
 "metadata": {
  "colab": {
   "provenance": [],
   "authorship_tag": "ABX9TyN2vDJ68wbA5B2Dr6ZkGhKy"
  },
  "kernelspec": {
   "name": "python3",
   "display_name": "Python 3"
  },
  "language_info": {
   "name": "python"
  }
 },
 "cells": [
  {
   "cell_type": "markdown",
   "source": [
    "# installs and imports"
   ],
   "metadata": {
    "id": "s4b_jrSpCYW4"
   }
  },
  {
   "cell_type": "code",
   "execution_count": 1,
   "metadata": {
    "id": "Ywx726lowI4I",
    "colab": {
     "base_uri": "https://localhost:8080/"
    },
    "executionInfo": {
     "status": "ok",
     "timestamp": 1683178950596,
     "user_tz": -180,
     "elapsed": 14837,
     "user": {
      "displayName": "Ahmet Emre Usta",
      "userId": "15508369964865834704"
     }
    },
    "outputId": "3d9cb09c-b8a9-47ab-f508-cba6bb81637f"
   },
   "outputs": [
    {
     "output_type": "stream",
     "name": "stdout",
     "text": [
      "\u001b[33m\r0% [Working]\u001b[0m\r            \rGet:1 https://cloud.r-project.org/bin/linux/ubuntu focal-cran40/ InRelease [3,622 B]\n",
      "Hit:2 https://developer.download.nvidia.com/compute/cuda/repos/ubuntu2004/x86_64  InRelease\n",
      "Hit:3 http://ppa.launchpad.net/c2d4u.team/c2d4u4.0+/ubuntu focal InRelease\n",
      "Get:4 http://security.ubuntu.com/ubuntu focal-security InRelease [114 kB]\n",
      "Hit:5 http://archive.ubuntu.com/ubuntu focal InRelease\n",
      "Get:6 http://archive.ubuntu.com/ubuntu focal-updates InRelease [114 kB]\n",
      "Hit:7 http://ppa.launchpad.net/cran/libgit2/ubuntu focal InRelease\n",
      "Hit:8 http://ppa.launchpad.net/deadsnakes/ppa/ubuntu focal InRelease\n",
      "Get:9 http://archive.ubuntu.com/ubuntu focal-backports InRelease [108 kB]\n",
      "Hit:10 http://ppa.launchpad.net/graphics-drivers/ppa/ubuntu focal InRelease\n",
      "Hit:11 http://ppa.launchpad.net/ubuntugis/ppa/ubuntu focal InRelease\n",
      "Fetched 340 kB in 2s (150 kB/s)\n",
      "Reading package lists... Done\n",
      "Building dependency tree       \n",
      "Reading state information... Done\n",
      "25 packages can be upgraded. Run 'apt list --upgradable' to see them.\n",
      "Reading package lists... Done\n",
      "Building dependency tree       \n",
      "Reading state information... Done\n",
      "openslide-tools is already the newest version (3.4.1+dfsg-4).\n",
      "0 upgraded, 0 newly installed, 0 to remove and 25 not upgraded.\n",
      "Looking in indexes: https://pypi.org/simple, https://us-python.pkg.dev/colab-wheels/public/simple/\n",
      "Requirement already satisfied: openslide-python in /usr/local/lib/python3.10/dist-packages (1.2.0)\n",
      "Requirement already satisfied: Pillow in /usr/local/lib/python3.10/dist-packages (from openslide-python) (8.4.0)\n"
     ]
    }
   ],
   "source": [
    "!apt update && apt install -y openslide-tools\n",
    "!pip install openslide-python"
   ]
  },
  {
   "cell_type": "code",
   "source": [
    "import os\n",
    "import time\n",
    "import logging\n",
    "import openslide\n",
    "from tqdm import tqdm\n",
    "from google.colab import drive\n",
    "\n",
    "# Mount the Google Drive to access the files\n",
    "drive.mount(\"/content/gdrive/\")"
   ],
   "metadata": {
    "colab": {
     "base_uri": "https://localhost:8080/"
    },
    "id": "y36vKX9TCXvM",
    "executionInfo": {
     "status": "ok",
     "timestamp": 1683178952770,
     "user_tz": -180,
     "elapsed": 2203,
     "user": {
      "displayName": "Ahmet Emre Usta",
      "userId": "15508369964865834704"
     }
    },
    "outputId": "5c056155-4411-434e-c623-45f64f52d2de"
   },
   "execution_count": 2,
   "outputs": [
    {
     "output_type": "stream",
     "name": "stdout",
     "text": [
      "Drive already mounted at /content/gdrive/; to attempt to forcibly remount, call drive.mount(\"/content/gdrive/\", force_remount=True).\n"
     ]
    }
   ]
  },
  {
   "cell_type": "markdown",
   "source": [
    "# read slide"
   ],
   "metadata": {
    "id": "L1acdVYHCiQ8"
   }
  },
  {
   "cell_type": "code",
   "source": [
    "# Set the working directory and slide path\n",
    "work_directory = \"/content/gdrive/MyDrive/Research of Deep Learning Classification for Soft Tissue Sarcomas/\"\n",
    "slide_path = os.path.join(work_directory, \"SCANS\", \"1007555.svs\")\n",
    "\n",
    "# Extract the slide name from the slide path\n",
    "slide_name = os.path.splitext(os.path.basename(slide_path))[0]\n",
    "\n",
    "# Set the target path for the slide images\n",
    "target_path = os.path.join(work_directory, \"Code\", \"images\", slide_name)\n",
    "\n",
    "# Set the logging path for the slide images\n",
    "logging_path = os.path.join(target_path, \"logs\")\n",
    "\n",
    "# Create directories if they don't exist\n",
    "for path in [logging_path, target_path]:\n",
    "    try:\n",
    "        os.makedirs(path)\n",
    "        print(f\"Created directory: {path}\")\n",
    "    except FileExistsError:\n",
    "        print(f\"Directory already exists: {path}\")\n",
    "\n",
    "# Create a logger\n",
    "logger = logging.getLogger(__name__)\n",
    "\n",
    "# Set the logging level for the logger\n",
    "logger.setLevel(logging.WARNING)\n",
    "\n",
    "# Create a formatter for the logger\n",
    "formatter = logging.Formatter(\"%(asctime)s - %(levelname)s - %(message)s\")\n",
    "\n",
    "# Create a file handler for the logger\n",
    "log_filename = time.strftime(\"%Y%m%d_%H%M%S.log\")\n",
    "file_handler = logging.FileHandler(os.path.join(logging_path, log_filename))\n",
    "file_handler.setLevel(logging.INFO)\n",
    "file_handler.setFormatter(formatter)\n",
    "\n",
    "# Add the file handler to the logger\n",
    "logger.addHandler(file_handler)"
   ],
   "metadata": {
    "colab": {
     "base_uri": "https://localhost:8080/"
    },
    "id": "mDO-m2FaDBQ0",
    "executionInfo": {
     "status": "ok",
     "timestamp": 1683179590873,
     "user_tz": -180,
     "elapsed": 3,
     "user": {
      "displayName": "Ahmet Emre Usta",
      "userId": "15508369964865834704"
     }
    },
    "outputId": "f767e49c-281c-49c2-f7b7-2bf6a216a095"
   },
   "execution_count": 13,
   "outputs": [
    {
     "output_type": "stream",
     "name": "stdout",
     "text": [
      "Directory already exists: /content/gdrive/MyDrive/Research of Deep Learning Classification for Soft Tissue Sarcomas/Code/images/1007555/logs\n",
      "Directory already exists: /content/gdrive/MyDrive/Research of Deep Learning Classification for Soft Tissue Sarcomas/Code/images/1007555\n"
     ]
    }
   ]
  },
  {
   "cell_type": "code",
   "source": [
    "# Open the slide and calculate the number of patches\n",
    "slide = openslide.OpenSlide(slide_path)\n",
    "num_horizontal_patches = slide.level_dimensions[0][0] // 512\n",
    "num_vertical_patches = slide.level_dimensions[0][1] // 512\n",
    "num_patches = num_horizontal_patches * num_vertical_patches\n",
    "logger.info(f\"There are {num_patches} patches in this image!\")"
   ],
   "metadata": {
    "colab": {
     "base_uri": "https://localhost:8080/"
    },
    "id": "MWJXHX4GCmsD",
    "executionInfo": {
     "status": "ok",
     "timestamp": 1683179592080,
     "user_tz": -180,
     "elapsed": 1209,
     "user": {
      "displayName": "Ahmet Emre Usta",
      "userId": "15508369964865834704"
     }
    },
    "outputId": "c4e0f6ae-bdd7-4edd-c802-9e38c0e2db7f"
   },
   "execution_count": 14,
   "outputs": [
    {
     "output_type": "stream",
     "name": "stdout",
     "text": [
      "There are 58302 patches in this image!\n"
     ]
    }
   ]
  },
  {
   "cell_type": "code",
   "source": [
    "try:\n",
    "    # Extract patches from the slide and save them to the target directory\n",
    "    for y in tqdm(range(num_vertical_patches), desc=\"y-axis\"):\n",
    "        for x in tqdm(range(num_horizontal_patches), desc=\"x-axis\", leave=False):\n",
    "            x_start = x * 512\n",
    "            y_start = y * 512\n",
    "\n",
    "            # Check if the patch exceeds the dimensions of the slide\n",
    "            if y_start > slide.level_dimensions[0][1]:\n",
    "                break\n",
    "\n",
    "            patch_id = f\"{slide_name}_patch_{y}_{x}\"\n",
    "            patch_filename = f\"{patch_id}.png\"\n",
    "            patch_filepath = os.path.join(target_path, patch_filename)\n",
    "\n",
    "            if os.path.exists(patch_filepath):\n",
    "                logger.warning(f\"Patch {patch_id} already exists.\")\n",
    "                continue\n",
    "\n",
    "            try:\n",
    "                region = slide.read_region((x_start, y_start), 0, (512, 512))\n",
    "                region.save(patch_filepath)\n",
    "                logger.info(f\"Patch {patch_id} saved to {patch_filepath}.\")\n",
    "            except Exception as e:\n",
    "                logger.error(f\"Error saving patch {patch_id}: {str(e)}\")\n",
    "\n",
    "    # Close the slide\n",
    "    slide.close()\n",
    "\n",
    "except Exception as e:\n",
    "    logger.error(f\"Error processing slide: {str(e)}\")"
   ],
   "metadata": {
    "colab": {
     "base_uri": "https://localhost:8080/",
     "height": 1000
    },
    "id": "xmB2_0N0F5LE",
    "executionInfo": {
     "status": "error",
     "timestamp": 1683179601956,
     "user_tz": -180,
     "elapsed": 9890,
     "user": {
      "displayName": "Ahmet Emre Usta",
      "userId": "15508369964865834704"
     }
    },
    "outputId": "475b7cb4-caf9-4e9e-a664-fa7635f2dcbb"
   },
   "execution_count": 15,
   "outputs": [
    {
     "output_type": "stream",
     "name": "stderr",
     "text": [
      "y-axis:   0%|          | 0/158 [00:00<?, ?it/s]\n",
      "x-axis:   0%|          | 0/369 [00:00<?, ?it/s]\u001b[AWARNING:__main__:Patch 1007555_patch_0_0 already exists.\n",
      "WARNING:__main__:Patch 1007555_patch_0_1 already exists.\n",
      "WARNING:__main__:Patch 1007555_patch_0_2 already exists.\n",
      "WARNING:__main__:Patch 1007555_patch_0_3 already exists.\n",
      "WARNING:__main__:Patch 1007555_patch_0_4 already exists.\n",
      "WARNING:__main__:Patch 1007555_patch_0_5 already exists.\n",
      "WARNING:__main__:Patch 1007555_patch_0_6 already exists.\n",
      "WARNING:__main__:Patch 1007555_patch_0_7 already exists.\n",
      "WARNING:__main__:Patch 1007555_patch_0_8 already exists.\n",
      "WARNING:__main__:Patch 1007555_patch_0_9 already exists.\n",
      "WARNING:__main__:Patch 1007555_patch_0_10 already exists.\n",
      "WARNING:__main__:Patch 1007555_patch_0_11 already exists.\n",
      "WARNING:__main__:Patch 1007555_patch_0_12 already exists.\n",
      "WARNING:__main__:Patch 1007555_patch_0_13 already exists.\n",
      "WARNING:__main__:Patch 1007555_patch_0_14 already exists.\n",
      "WARNING:__main__:Patch 1007555_patch_0_15 already exists.\n",
      "WARNING:__main__:Patch 1007555_patch_0_16 already exists.\n",
      "WARNING:__main__:Patch 1007555_patch_0_17 already exists.\n",
      "WARNING:__main__:Patch 1007555_patch_0_18 already exists.\n",
      "\n",
      "x-axis:   5%|▌         | 19/369 [00:00<00:01, 186.53it/s]\u001b[AWARNING:__main__:Patch 1007555_patch_0_19 already exists.\n",
      "WARNING:__main__:Patch 1007555_patch_0_20 already exists.\n",
      "WARNING:__main__:Patch 1007555_patch_0_21 already exists.\n",
      "WARNING:__main__:Patch 1007555_patch_0_22 already exists.\n",
      "WARNING:__main__:Patch 1007555_patch_0_23 already exists.\n",
      "WARNING:__main__:Patch 1007555_patch_0_24 already exists.\n",
      "WARNING:__main__:Patch 1007555_patch_0_25 already exists.\n",
      "WARNING:__main__:Patch 1007555_patch_0_26 already exists.\n",
      "WARNING:__main__:Patch 1007555_patch_0_27 already exists.\n",
      "WARNING:__main__:Patch 1007555_patch_0_28 already exists.\n",
      "WARNING:__main__:Patch 1007555_patch_0_29 already exists.\n",
      "WARNING:__main__:Patch 1007555_patch_0_30 already exists.\n",
      "WARNING:__main__:Patch 1007555_patch_0_31 already exists.\n",
      "WARNING:__main__:Patch 1007555_patch_0_32 already exists.\n",
      "WARNING:__main__:Patch 1007555_patch_0_33 already exists.\n",
      "WARNING:__main__:Patch 1007555_patch_0_34 already exists.\n",
      "WARNING:__main__:Patch 1007555_patch_0_35 already exists.\n",
      "WARNING:__main__:Patch 1007555_patch_0_36 already exists.\n",
      "WARNING:__main__:Patch 1007555_patch_0_37 already exists.\n",
      "WARNING:__main__:Patch 1007555_patch_0_38 already exists.\n",
      "WARNING:__main__:Patch 1007555_patch_0_39 already exists.\n",
      "WARNING:__main__:Patch 1007555_patch_0_40 already exists.\n",
      "WARNING:__main__:Patch 1007555_patch_0_41 already exists.\n",
      "WARNING:__main__:Patch 1007555_patch_0_42 already exists.\n",
      "WARNING:__main__:Patch 1007555_patch_0_43 already exists.\n",
      "WARNING:__main__:Patch 1007555_patch_0_44 already exists.\n",
      "WARNING:__main__:Patch 1007555_patch_0_45 already exists.\n",
      "WARNING:__main__:Patch 1007555_patch_0_46 already exists.\n",
      "WARNING:__main__:Patch 1007555_patch_0_47 already exists.\n",
      "WARNING:__main__:Patch 1007555_patch_0_48 already exists.\n",
      "\n",
      "x-axis:  13%|█▎        | 49/369 [00:00<00:01, 252.13it/s]\u001b[AWARNING:__main__:Patch 1007555_patch_0_49 already exists.\n",
      "WARNING:__main__:Patch 1007555_patch_0_50 already exists.\n",
      "WARNING:__main__:Patch 1007555_patch_0_51 already exists.\n",
      "WARNING:__main__:Patch 1007555_patch_0_52 already exists.\n",
      "WARNING:__main__:Patch 1007555_patch_0_53 already exists.\n",
      "WARNING:__main__:Patch 1007555_patch_0_54 already exists.\n",
      "WARNING:__main__:Patch 1007555_patch_0_55 already exists.\n",
      "WARNING:__main__:Patch 1007555_patch_0_56 already exists.\n",
      "WARNING:__main__:Patch 1007555_patch_0_57 already exists.\n",
      "WARNING:__main__:Patch 1007555_patch_0_58 already exists.\n",
      "WARNING:__main__:Patch 1007555_patch_0_59 already exists.\n",
      "WARNING:__main__:Patch 1007555_patch_0_60 already exists.\n",
      "WARNING:__main__:Patch 1007555_patch_0_61 already exists.\n",
      "WARNING:__main__:Patch 1007555_patch_0_62 already exists.\n",
      "WARNING:__main__:Patch 1007555_patch_0_63 already exists.\n",
      "WARNING:__main__:Patch 1007555_patch_0_64 already exists.\n",
      "WARNING:__main__:Patch 1007555_patch_0_65 already exists.\n",
      "WARNING:__main__:Patch 1007555_patch_0_66 already exists.\n",
      "WARNING:__main__:Patch 1007555_patch_0_67 already exists.\n",
      "WARNING:__main__:Patch 1007555_patch_0_68 already exists.\n",
      "WARNING:__main__:Patch 1007555_patch_0_69 already exists.\n",
      "WARNING:__main__:Patch 1007555_patch_0_70 already exists.\n",
      "WARNING:__main__:Patch 1007555_patch_0_71 already exists.\n",
      "WARNING:__main__:Patch 1007555_patch_0_72 already exists.\n",
      "INFO:__main__:Patch 1007555_patch_0_73 saved to /content/gdrive/MyDrive/Research of Deep Learning Classification for Soft Tissue Sarcomas/Code/images/1007555/1007555_patch_0_73.png.\n",
      "INFO:__main__:Patch 1007555_patch_0_74 saved to /content/gdrive/MyDrive/Research of Deep Learning Classification for Soft Tissue Sarcomas/Code/images/1007555/1007555_patch_0_74.png.\n",
      "\n",
      "x-axis:  20%|██        | 75/369 [00:03<00:16, 17.78it/s] \u001b[AINFO:__main__:Patch 1007555_patch_0_75 saved to /content/gdrive/MyDrive/Research of Deep Learning Classification for Soft Tissue Sarcomas/Code/images/1007555/1007555_patch_0_75.png.\n",
      "INFO:__main__:Patch 1007555_patch_0_76 saved to /content/gdrive/MyDrive/Research of Deep Learning Classification for Soft Tissue Sarcomas/Code/images/1007555/1007555_patch_0_76.png.\n",
      "\n",
      "y-axis:   0%|          | 0/158 [00:10<?, ?it/s]\n"
     ]
    },
    {
     "output_type": "error",
     "ename": "KeyboardInterrupt",
     "evalue": "ignored",
     "traceback": [
      "\u001b[0;31m---------------------------------------------------------------------------\u001b[0m",
      "\u001b[0;31mKeyboardInterrupt\u001b[0m                         Traceback (most recent call last)",
      "\u001b[0;32m<ipython-input-15-8c7b40744278>\u001b[0m in \u001b[0;36m<cell line: 1>\u001b[0;34m()\u001b[0m\n\u001b[1;32m     19\u001b[0m \u001b[0;34m\u001b[0m\u001b[0m\n\u001b[1;32m     20\u001b[0m             \u001b[0;32mtry\u001b[0m\u001b[0;34m:\u001b[0m\u001b[0;34m\u001b[0m\u001b[0;34m\u001b[0m\u001b[0m\n\u001b[0;32m---> 21\u001b[0;31m                 \u001b[0mregion\u001b[0m \u001b[0;34m=\u001b[0m \u001b[0mslide\u001b[0m\u001b[0;34m.\u001b[0m\u001b[0mread_region\u001b[0m\u001b[0;34m(\u001b[0m\u001b[0;34m(\u001b[0m\u001b[0mx_final\u001b[0m\u001b[0;34m,\u001b[0m \u001b[0my_final\u001b[0m\u001b[0;34m)\u001b[0m\u001b[0;34m,\u001b[0m \u001b[0;36m0\u001b[0m\u001b[0;34m,\u001b[0m \u001b[0;34m(\u001b[0m\u001b[0;36m512\u001b[0m\u001b[0;34m,\u001b[0m \u001b[0;36m512\u001b[0m\u001b[0;34m)\u001b[0m\u001b[0;34m)\u001b[0m\u001b[0;34m\u001b[0m\u001b[0;34m\u001b[0m\u001b[0m\n\u001b[0m\u001b[1;32m     22\u001b[0m                 \u001b[0mregion\u001b[0m\u001b[0;34m.\u001b[0m\u001b[0msave\u001b[0m\u001b[0;34m(\u001b[0m\u001b[0mpatch_filepath\u001b[0m\u001b[0;34m)\u001b[0m\u001b[0;34m\u001b[0m\u001b[0;34m\u001b[0m\u001b[0m\n\u001b[1;32m     23\u001b[0m                 \u001b[0mlogger\u001b[0m\u001b[0;34m.\u001b[0m\u001b[0minfo\u001b[0m\u001b[0;34m(\u001b[0m\u001b[0;34mf\"Patch {patch_id} saved to {patch_filepath}.\"\u001b[0m\u001b[0;34m)\u001b[0m\u001b[0;34m\u001b[0m\u001b[0;34m\u001b[0m\u001b[0m\n",
      "\u001b[0;32m/usr/local/lib/python3.10/dist-packages/openslide/__init__.py\u001b[0m in \u001b[0;36mread_region\u001b[0;34m(self, location, level, size)\u001b[0m\n\u001b[1;32m    234\u001b[0m         \u001b[0mUnlike\u001b[0m \u001b[0;32min\u001b[0m \u001b[0mthe\u001b[0m \u001b[0mC\u001b[0m \u001b[0minterface\u001b[0m\u001b[0;34m,\u001b[0m \u001b[0mthe\u001b[0m \u001b[0mimage\u001b[0m \u001b[0mdata\u001b[0m \u001b[0mreturned\u001b[0m \u001b[0mby\u001b[0m \u001b[0mthis\u001b[0m\u001b[0;34m\u001b[0m\u001b[0;34m\u001b[0m\u001b[0m\n\u001b[1;32m    235\u001b[0m         function is not premultiplied.\"\"\"\n\u001b[0;32m--> 236\u001b[0;31m         return lowlevel.read_region(\n\u001b[0m\u001b[1;32m    237\u001b[0m             \u001b[0mself\u001b[0m\u001b[0;34m.\u001b[0m\u001b[0m_osr\u001b[0m\u001b[0;34m,\u001b[0m \u001b[0mlocation\u001b[0m\u001b[0;34m[\u001b[0m\u001b[0;36m0\u001b[0m\u001b[0;34m]\u001b[0m\u001b[0;34m,\u001b[0m \u001b[0mlocation\u001b[0m\u001b[0;34m[\u001b[0m\u001b[0;36m1\u001b[0m\u001b[0;34m]\u001b[0m\u001b[0;34m,\u001b[0m \u001b[0mlevel\u001b[0m\u001b[0;34m,\u001b[0m \u001b[0msize\u001b[0m\u001b[0;34m[\u001b[0m\u001b[0;36m0\u001b[0m\u001b[0;34m]\u001b[0m\u001b[0;34m,\u001b[0m \u001b[0msize\u001b[0m\u001b[0;34m[\u001b[0m\u001b[0;36m1\u001b[0m\u001b[0;34m]\u001b[0m\u001b[0;34m\u001b[0m\u001b[0;34m\u001b[0m\u001b[0m\n\u001b[1;32m    238\u001b[0m         )\n",
      "\u001b[0;32m/usr/local/lib/python3.10/dist-packages/openslide/lowlevel.py\u001b[0m in \u001b[0;36mread_region\u001b[0;34m(slide, x, y, level, w, h)\u001b[0m\n\u001b[1;32m    309\u001b[0m         \u001b[0;32mreturn\u001b[0m \u001b[0mPIL\u001b[0m\u001b[0;34m.\u001b[0m\u001b[0mImage\u001b[0m\u001b[0;34m.\u001b[0m\u001b[0mnew\u001b[0m\u001b[0;34m(\u001b[0m\u001b[0;34m'RGBA'\u001b[0m\u001b[0;34m,\u001b[0m \u001b[0;34m(\u001b[0m\u001b[0mw\u001b[0m\u001b[0;34m,\u001b[0m \u001b[0mh\u001b[0m\u001b[0;34m)\u001b[0m\u001b[0;34m)\u001b[0m\u001b[0;34m\u001b[0m\u001b[0;34m\u001b[0m\u001b[0m\n\u001b[1;32m    310\u001b[0m     \u001b[0mbuf\u001b[0m \u001b[0;34m=\u001b[0m \u001b[0;34m(\u001b[0m\u001b[0mw\u001b[0m \u001b[0;34m*\u001b[0m \u001b[0mh\u001b[0m \u001b[0;34m*\u001b[0m \u001b[0mc_uint32\u001b[0m\u001b[0;34m)\u001b[0m\u001b[0;34m(\u001b[0m\u001b[0;34m)\u001b[0m\u001b[0;34m\u001b[0m\u001b[0;34m\u001b[0m\u001b[0m\n\u001b[0;32m--> 311\u001b[0;31m     \u001b[0m_read_region\u001b[0m\u001b[0;34m(\u001b[0m\u001b[0mslide\u001b[0m\u001b[0;34m,\u001b[0m \u001b[0mbuf\u001b[0m\u001b[0;34m,\u001b[0m \u001b[0mx\u001b[0m\u001b[0;34m,\u001b[0m \u001b[0my\u001b[0m\u001b[0;34m,\u001b[0m \u001b[0mlevel\u001b[0m\u001b[0;34m,\u001b[0m \u001b[0mw\u001b[0m\u001b[0;34m,\u001b[0m \u001b[0mh\u001b[0m\u001b[0;34m)\u001b[0m\u001b[0;34m\u001b[0m\u001b[0;34m\u001b[0m\u001b[0m\n\u001b[0m\u001b[1;32m    312\u001b[0m     \u001b[0;32mreturn\u001b[0m \u001b[0m_load_image\u001b[0m\u001b[0;34m(\u001b[0m\u001b[0mbuf\u001b[0m\u001b[0;34m,\u001b[0m \u001b[0;34m(\u001b[0m\u001b[0mw\u001b[0m\u001b[0;34m,\u001b[0m \u001b[0mh\u001b[0m\u001b[0;34m)\u001b[0m\u001b[0;34m)\u001b[0m\u001b[0;34m\u001b[0m\u001b[0;34m\u001b[0m\u001b[0m\n\u001b[1;32m    313\u001b[0m \u001b[0;34m\u001b[0m\u001b[0m\n",
      "\u001b[0;32m/usr/local/lib/python3.10/dist-packages/openslide/lowlevel.py\u001b[0m in \u001b[0;36m_check_error\u001b[0;34m(result, func, args)\u001b[0m\n\u001b[1;32m    220\u001b[0m \u001b[0;34m\u001b[0m\u001b[0m\n\u001b[1;32m    221\u001b[0m \u001b[0;31m# check if the library got into an error state after each library call\u001b[0m\u001b[0;34m\u001b[0m\u001b[0;34m\u001b[0m\u001b[0m\n\u001b[0;32m--> 222\u001b[0;31m \u001b[0;32mdef\u001b[0m \u001b[0m_check_error\u001b[0m\u001b[0;34m(\u001b[0m\u001b[0mresult\u001b[0m\u001b[0;34m,\u001b[0m \u001b[0mfunc\u001b[0m\u001b[0;34m,\u001b[0m \u001b[0margs\u001b[0m\u001b[0;34m)\u001b[0m\u001b[0;34m:\u001b[0m\u001b[0;34m\u001b[0m\u001b[0;34m\u001b[0m\u001b[0m\n\u001b[0m\u001b[1;32m    223\u001b[0m     \u001b[0merr\u001b[0m \u001b[0;34m=\u001b[0m \u001b[0mget_error\u001b[0m\u001b[0;34m(\u001b[0m\u001b[0margs\u001b[0m\u001b[0;34m[\u001b[0m\u001b[0;36m0\u001b[0m\u001b[0;34m]\u001b[0m\u001b[0;34m)\u001b[0m\u001b[0;34m\u001b[0m\u001b[0;34m\u001b[0m\u001b[0m\n\u001b[1;32m    224\u001b[0m     \u001b[0;32mif\u001b[0m \u001b[0merr\u001b[0m \u001b[0;32mis\u001b[0m \u001b[0;32mnot\u001b[0m \u001b[0;32mNone\u001b[0m\u001b[0;34m:\u001b[0m\u001b[0;34m\u001b[0m\u001b[0;34m\u001b[0m\u001b[0m\n",
      "\u001b[0;31mKeyboardInterrupt\u001b[0m: "
     ]
    }
   ]
  }
 ]
}