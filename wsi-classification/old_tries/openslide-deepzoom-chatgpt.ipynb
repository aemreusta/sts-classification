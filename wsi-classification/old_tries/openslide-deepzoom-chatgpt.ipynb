{
 "cells": [
  {
   "cell_type": "code",
   "execution_count": 1,
   "metadata": {
    "colab": {
     "base_uri": "https://localhost:8080/"
    },
    "executionInfo": {
     "elapsed": 28633,
     "status": "ok",
     "timestamp": 1692623521222,
     "user": {
      "displayName": "Ahmet Emre Usta",
      "userId": "15508369964865834704"
     },
     "user_tz": -180
    },
    "id": "9f8w4dzKs9Fa",
    "outputId": "2408d850-f304-4ff9-91fa-1587fdb04756"
   },
   "outputs": [
    {
     "name": "stdout",
     "output_type": "stream",
     "text": [
      "\u001b[33m\r0% [Working]\u001b[0m\r            \rGet:1 https://cloud.r-project.org/bin/linux/ubuntu jammy-cran40/ InRelease [3,626 B]\n",
      "Get:2 https://developer.download.nvidia.com/compute/cuda/repos/ubuntu2204/x86_64  InRelease [1,581 B]\n",
      "Get:3 https://developer.download.nvidia.com/compute/cuda/repos/ubuntu2204/x86_64  Packages [458 kB]\n",
      "Get:4 http://security.ubuntu.com/ubuntu jammy-security InRelease [110 kB]\n",
      "Hit:5 http://archive.ubuntu.com/ubuntu jammy InRelease\n",
      "Get:6 http://archive.ubuntu.com/ubuntu jammy-updates InRelease [119 kB]\n",
      "Hit:7 https://ppa.launchpadcontent.net/c2d4u.team/c2d4u4.0+/ubuntu jammy InRelease\n",
      "Get:8 http://security.ubuntu.com/ubuntu jammy-security/universe amd64 Packages [980 kB]\n",
      "Hit:9 https://ppa.launchpadcontent.net/deadsnakes/ppa/ubuntu jammy InRelease\n",
      "Get:10 http://archive.ubuntu.com/ubuntu jammy-backports InRelease [109 kB]\n",
      "Get:11 http://archive.ubuntu.com/ubuntu jammy-updates/universe amd64 Packages [1,241 kB]\n",
      "Hit:12 https://ppa.launchpadcontent.net/graphics-drivers/ppa/ubuntu jammy InRelease\n",
      "Get:13 http://security.ubuntu.com/ubuntu jammy-security/main amd64 Packages [860 kB]\n",
      "Get:14 http://archive.ubuntu.com/ubuntu jammy-updates/main amd64 Packages [1,136 kB]\n",
      "Hit:15 https://ppa.launchpadcontent.net/ubuntugis/ppa/ubuntu jammy InRelease\n",
      "Fetched 5,017 kB in 3s (1,611 kB/s)\n",
      "Reading package lists... Done\n",
      "Building dependency tree... Done\n",
      "Reading state information... Done\n",
      "20 packages can be upgraded. Run 'apt list --upgradable' to see them.\n",
      "Reading package lists... Done\n",
      "Building dependency tree... Done\n",
      "Reading state information... Done\n",
      "The following additional packages will be installed:\n",
      "  libopenslide0\n",
      "Suggested packages:\n",
      "  libtiff-tools\n",
      "The following NEW packages will be installed:\n",
      "  libopenslide0 openslide-tools\n",
      "0 upgraded, 2 newly installed, 0 to remove and 20 not upgraded.\n",
      "Need to get 104 kB of archives.\n",
      "After this operation, 297 kB of additional disk space will be used.\n",
      "Get:1 http://archive.ubuntu.com/ubuntu jammy/universe amd64 libopenslide0 amd64 3.4.1+dfsg-5build1 [89.8 kB]\n",
      "Get:2 http://archive.ubuntu.com/ubuntu jammy/universe amd64 openslide-tools amd64 3.4.1+dfsg-5build1 [13.8 kB]\n",
      "Fetched 104 kB in 2s (66.3 kB/s)\n",
      "Selecting previously unselected package libopenslide0.\n",
      "(Reading database ... 120831 files and directories currently installed.)\n",
      "Preparing to unpack .../libopenslide0_3.4.1+dfsg-5build1_amd64.deb ...\n",
      "Unpacking libopenslide0 (3.4.1+dfsg-5build1) ...\n",
      "Selecting previously unselected package openslide-tools.\n",
      "Preparing to unpack .../openslide-tools_3.4.1+dfsg-5build1_amd64.deb ...\n",
      "Unpacking openslide-tools (3.4.1+dfsg-5build1) ...\n",
      "Setting up libopenslide0 (3.4.1+dfsg-5build1) ...\n",
      "Setting up openslide-tools (3.4.1+dfsg-5build1) ...\n",
      "Processing triggers for man-db (2.10.2-1) ...\n",
      "Processing triggers for libc-bin (2.35-0ubuntu3.1) ...\n",
      "/sbin/ldconfig.real: /usr/local/lib/libtbbbind_2_0.so.3 is not a symbolic link\n",
      "\n",
      "/sbin/ldconfig.real: /usr/local/lib/libtbb.so.12 is not a symbolic link\n",
      "\n",
      "/sbin/ldconfig.real: /usr/local/lib/libtbbbind_2_5.so.3 is not a symbolic link\n",
      "\n",
      "/sbin/ldconfig.real: /usr/local/lib/libtbbmalloc_proxy.so.2 is not a symbolic link\n",
      "\n",
      "/sbin/ldconfig.real: /usr/local/lib/libtbbbind.so.3 is not a symbolic link\n",
      "\n",
      "/sbin/ldconfig.real: /usr/local/lib/libtbbmalloc.so.2 is not a symbolic link\n",
      "\n",
      "Collecting openslide-python\n",
      "  Downloading openslide-python-1.3.0.tar.gz (358 kB)\n",
      "\u001b[2K     \u001b[90m━━━━━━━━━━━━━━━━━━━━━━━━━━━━━━━━━━━━━━━\u001b[0m \u001b[32m358.9/358.9 kB\u001b[0m \u001b[31m3.4 MB/s\u001b[0m eta \u001b[36m0:00:00\u001b[0m\n",
      "\u001b[?25h  Preparing metadata (setup.py) ... \u001b[?25l\u001b[?25hdone\n",
      "Requirement already satisfied: Pillow in /usr/local/lib/python3.10/dist-packages (from openslide-python) (9.4.0)\n",
      "Building wheels for collected packages: openslide-python\n",
      "  Building wheel for openslide-python (setup.py) ... \u001b[?25l\u001b[?25hdone\n",
      "  Created wheel for openslide-python: filename=openslide_python-1.3.0-cp310-cp310-linux_x86_64.whl size=33548 sha256=223eeefb058a89e532649a96eba9eff4c7c10748db432ead319bdcd2c173b82c\n",
      "  Stored in directory: /root/.cache/pip/wheels/4d/a0/e6/e94ffceb76b28f1be2f59303ad58fdcf11822caa64960ed352\n",
      "Successfully built openslide-python\n",
      "Installing collected packages: openslide-python\n",
      "Successfully installed openslide-python-1.3.0\n",
      "Requirement already satisfied: shapely in /usr/local/lib/python3.10/dist-packages (2.0.1)\n",
      "Requirement already satisfied: numpy>=1.14 in /usr/local/lib/python3.10/dist-packages (from shapely) (1.23.5)\n"
     ]
    }
   ],
   "source": [
    "!apt update && apt install -y openslide-tools\n",
    "!pip install openslide-python\n",
    "!pip install shapely"
   ]
  },
  {
   "cell_type": "code",
   "execution_count": 2,
   "metadata": {
    "executionInfo": {
     "elapsed": 4,
     "status": "ok",
     "timestamp": 1692623651056,
     "user": {
      "displayName": "Ahmet Emre Usta",
      "userId": "15508369964865834704"
     },
     "user_tz": -180
    },
    "id": "OpO0Tp6Is3W0"
   },
   "outputs": [],
   "source": [
    "import os\n",
    "import openslide\n",
    "from tqdm.auto import tqdm\n",
    "from google.colab import drive\n",
    "from openslide.deepzoom import DeepZoomGenerator\n",
    "import numpy as np\n",
    "from matplotlib import pyplot as plt\n",
    "from shapely.geometry import shape, box"
   ]
  },
  {
   "cell_type": "code",
   "execution_count": 8,
   "metadata": {
    "executionInfo": {
     "elapsed": 4,
     "status": "ok",
     "timestamp": 1692624192070,
     "user": {
      "displayName": "Ahmet Emre Usta",
      "userId": "15508369964865834704"
     },
     "user_tz": -180
    },
    "id": "06JkLN4iQ2Rf"
   },
   "outputs": [],
   "source": [
    "import json"
   ]
  },
  {
   "cell_type": "code",
   "execution_count": 3,
   "metadata": {
    "colab": {
     "base_uri": "https://localhost:8080/"
    },
    "executionInfo": {
     "elapsed": 57910,
     "status": "ok",
     "timestamp": 1692623710792,
     "user": {
      "displayName": "Ahmet Emre Usta",
      "userId": "15508369964865834704"
     },
     "user_tz": -180
    },
    "id": "ERDI2NVftBCm",
    "outputId": "d41ef00d-c4c1-4278-dfb8-c37bc6ca1ba5"
   },
   "outputs": [
    {
     "name": "stdout",
     "output_type": "stream",
     "text": [
      "Mounted at /content/gdrive/\n"
     ]
    }
   ],
   "source": [
    "# Mount the Google Drive to access the files\n",
    "drive.mount(\"/content/gdrive/\")"
   ]
  },
  {
   "cell_type": "code",
   "execution_count": 4,
   "metadata": {
    "executionInfo": {
     "elapsed": 5,
     "status": "ok",
     "timestamp": 1692623729191,
     "user": {
      "displayName": "Ahmet Emre Usta",
      "userId": "15508369964865834704"
     },
     "user_tz": -180
    },
    "id": "MA2mEGbnPAbe"
   },
   "outputs": [],
   "source": [
    "def create_directory(path):\n",
    "    if not os.path.exists(path):\n",
    "        os.makedirs(path)\n",
    "        print(f\"Created directory: {path}\")\n",
    "    else:\n",
    "        print(f\"Directory already exists: {path}\")"
   ]
  },
  {
   "cell_type": "code",
   "execution_count": 6,
   "metadata": {
    "colab": {
     "base_uri": "https://localhost:8080/"
    },
    "executionInfo": {
     "elapsed": 705,
     "status": "ok",
     "timestamp": 1692623978511,
     "user": {
      "displayName": "Ahmet Emre Usta",
      "userId": "15508369964865834704"
     },
     "user_tz": -180
    },
    "id": "wm2zV7sUqDVo",
    "outputId": "fca737b8-8666-4953-e6b7-4e5fc1c4d633"
   },
   "outputs": [
    {
     "name": "stdout",
     "output_type": "stream",
     "text": [
      "Directory already exists: /content/gdrive/MyDrive/Research of Deep Learning Classification for Soft Tissue Sarcomas/Code/images/TCGA-DX-A7EQ-01Z-00-DX1.6E243B4A-CE79-4B31-B98B-24B89E7C2FB4\n",
      "Directory already exists: /content/gdrive/MyDrive/Research of Deep Learning Classification for Soft Tissue Sarcomas/Code/images/TCGA-DX-A7EQ-01Z-00-DX1.6E243B4A-CE79-4B31-B98B-24B89E7C2FB4/logs\n"
     ]
    }
   ],
   "source": [
    "# Set the working directory and slide path\n",
    "work_directory = \"/content/gdrive/MyDrive/Research of Deep Learning Classification for Soft Tissue Sarcomas/\"\n",
    "slide_path = os.path.join(\n",
    "    work_directory,\n",
    "    \"Datasets\",\n",
    "    \"TCGA_annoted\",\n",
    "    \"ss\",\n",
    "    \"TCGA-DX-A7EQ-01Z-00-DX1.6E243B4A-CE79-4B31-B98B-24B89E7C2FB4.svs\",\n",
    ")\n",
    "\n",
    "# Extract the slide name from the slide path\n",
    "slide_name = os.path.splitext(os.path.basename(slide_path))[0]\n",
    "\n",
    "# Set the target path for the slide images\n",
    "target_path = os.path.join(work_directory, \"Code\", \"images\", slide_name)\n",
    "create_directory(target_path)"
   ]
  },
  {
   "cell_type": "code",
   "execution_count": 7,
   "metadata": {
    "colab": {
     "base_uri": "https://localhost:8080/"
    },
    "executionInfo": {
     "elapsed": 6280,
     "status": "ok",
     "timestamp": 1692623993448,
     "user": {
      "displayName": "Ahmet Emre Usta",
      "userId": "15508369964865834704"
     },
     "user_tz": -180
    },
    "id": "enhOUMARPE5S",
    "outputId": "ef34e71e-442b-4e12-b1b2-e8e54119859f"
   },
   "outputs": [
    {
     "name": "stdout",
     "output_type": "stream",
     "text": [
      "The number of levels in the tiles object are: 18\n",
      "The dimensions of data in each level are: ((1, 1), (2, 2), (4, 3), (7, 6), (14, 11), (27, 22), (54, 44), (107, 88), (214, 175), (428, 350), (856, 700), (1712, 1399), (3424, 2798), (6848, 5595), (13695, 11190), (27390, 22380), (54780, 44760), (109560, 89520))\n",
      "This means there are 149800 total tiles in this level\n"
     ]
    }
   ],
   "source": [
    "# Open the slide and calculate the number of patches\n",
    "slide = openslide.OpenSlide(slide_path)\n",
    "tiles = DeepZoomGenerator(slide, tile_size=256, overlap=0, limit_bounds=False)\n",
    "\n",
    "print(\"The number of levels in the tiles object are:\", tiles.level_count)\n",
    "print(\"The dimensions of data in each level are:\", tiles.level_dimensions)\n",
    "total_tiles = tiles.level_tiles[-1][0] * tiles.level_tiles[-1][1]\n",
    "print(\"This means there are\", total_tiles, \"total tiles in this level\")"
   ]
  },
  {
   "cell_type": "code",
   "execution_count": 18,
   "metadata": {
    "colab": {
     "base_uri": "https://localhost:8080/"
    },
    "executionInfo": {
     "elapsed": 2,
     "status": "ok",
     "timestamp": 1692626895503,
     "user": {
      "displayName": "Ahmet Emre Usta",
      "userId": "15508369964865834704"
     },
     "user_tz": -180
    },
    "id": "IBBDwT66TQeV",
    "outputId": "0a697d05-4d58-4ba9-8acb-74ab65e5e822"
   },
   "outputs": [
    {
     "name": "stderr",
     "output_type": "stream",
     "text": [
      "/usr/local/lib/python3.10/dist-packages/shapely/set_operations.py:133: RuntimeWarning: invalid value encountered in intersection\n",
      "  return lib.intersection(a, b, **kwargs)\n"
     ]
    }
   ],
   "source": [
    "def calculate_intersection_area(polygon, box_polygon):\n",
    "    intersection = polygon.intersection(box_polygon)\n",
    "    if intersection.is_valid:\n",
    "        return intersection.area\n",
    "    else:\n",
    "        return 0.0\n",
    "\n",
    "\n",
    "def is_box_in_geojson(geojson_path, box_coords, threshold=0.7):\n",
    "    with open(geojson_path, \"r\") as f:\n",
    "        geojson_data = json.load(f)\n",
    "\n",
    "    geojson_polygon = shape(geojson_data[\"features\"][0][\"geometry\"])\n",
    "    box_polygon = box(*box_coords)  # Unpack the tuple\n",
    "\n",
    "    intersection_area = calculate_intersection_area(geojson_polygon, box_polygon)\n",
    "    box_area = box_polygon.area\n",
    "\n",
    "    return (intersection_area / box_area) >= threshold\n",
    "\n",
    "\n",
    "# Example usage\n",
    "geojson_file = \"/content/gdrive/MyDrive/Datasets/TCGA_annoted/annotations/ss_co/TCGA-DX-A7EQ-01Z-00-DX16E243B4A-CE79-4B31-B98B-24B89E7C2FB4.geojson\"\n",
    "box_coordinates = (1792, 1792, 57088, 57088)  # Unpack the tuple\n",
    "\n",
    "if is_box_in_geojson(geojson_file, box_coordinates):\n",
    "    print(\"At least 70% of the box is within the GeoJSON polygon.\")"
   ]
  },
  {
   "cell_type": "code",
   "execution_count": 16,
   "metadata": {
    "executionInfo": {
     "elapsed": 622,
     "status": "ok",
     "timestamp": 1692625312851,
     "user": {
      "displayName": "Ahmet Emre Usta",
      "userId": "15508369964865834704"
     },
     "user_tz": -180
    },
    "id": "xyZv6-lBURZl"
   },
   "outputs": [],
   "source": [
    "def is_tile_in_geojson(tile_coordinates, geojson_polygon):\n",
    "    minx, miny = tile_coordinates\n",
    "    maxx, maxy = minx + 256, miny + 256\n",
    "    tile_box = box(minx, miny, maxx, maxy)\n",
    "    return geojson_polygon.contains(tile_box)\n",
    "\n",
    "\n",
    "# # Example usage\n",
    "# slide_path = 'path_to_your_slide.svs'\n",
    "# geojson_file = 'path_to_your_geojson_file.geojson'\n",
    "\n",
    "# slide = openslide.OpenSlide(slide_path)\n",
    "# tiles = DeepZoomGenerator(slide, tile_size=256, overlap=0, limit_bounds=False)\n",
    "\n",
    "with open(geojson_file, \"r\") as f:\n",
    "    geojson_data = json.load(f)\n",
    "\n",
    "geojson_polygon = shape(geojson_data[\"features\"][0][\"geometry\"])"
   ]
  },
  {
   "cell_type": "code",
   "execution_count": null,
   "metadata": {
    "id": "QbYMxtRqVIgM"
   },
   "outputs": [],
   "source": [
    "for level in range(tiles.level_count):\n",
    "    level_tiles = tiles.level_tiles[level]\n",
    "    for tile_column in range(level_tiles[0]):\n",
    "        for tile_row in range(level_tiles[1]):\n",
    "            tile_coordinates = tiles.get_tile_coordinates(\n",
    "                level, (tile_column, tile_row)\n",
    "            )\n",
    "            print(tile_coordinates)\n",
    "            if is_tile_in_geojson(tile_coordinates, geojson_polygon):\n",
    "                print(\n",
    "                    f\"Tile at level {level}, column {tile_column}, row {tile_row} is inside the GeoJSON coordinates.\"\n",
    "                )\n",
    "            else:\n",
    "                print(\n",
    "                    f\"Tile at level {level}, column {tile_column}, row {tile_row} is not inside the GeoJSON coordinates.\"\n",
    "                )"
   ]
  },
  {
   "cell_type": "code",
   "execution_count": null,
   "metadata": {
    "id": "vgjIprM0q8xk"
   },
   "outputs": [],
   "source": [
    "# Saving each tile to a local directory\n",
    "cols, rows = tiles.level_tiles[-1]\n",
    "tile_dir = target_path\n",
    "\n",
    "for row in tqdm(range(rows), desc=\"Rows\"):\n",
    "    for col in tqdm(range(cols), desc=\"Columns\", leave=False):\n",
    "        tile_name = os.path.join(tile_dir, f\"{col}_{row}.png\")\n",
    "        temp_tile = tiles.get_tile(tiles.level_count - 1, (col, row))\n",
    "        temp_tile_RGB = temp_tile.convert(\"RGB\")\n",
    "        temp_tile_np = np.array(temp_tile_RGB)\n",
    "        plt.imsave(tile_name, temp_tile_np)"
   ]
  },
  {
   "cell_type": "code",
   "execution_count": null,
   "metadata": {
    "id": "W2DqJnI6pXz8"
   },
   "outputs": [],
   "source": [
    "# Lists to store histogram values\n",
    "hist_r_values = []\n",
    "hist_g_values = []\n",
    "hist_b_values = []\n",
    "hist_gray_values = []\n",
    "\n",
    "cols, rows = tiles.level_tiles[-1]\n",
    "\n",
    "# Extract and save colored tiles using histograms\n",
    "for row in tqdm(range(rows), desc=\"Rows\"):\n",
    "    for col in tqdm(range(cols), desc=\"Columns\", leave=False):\n",
    "        tile_region = tiles.get_tile(tiles.level_count - 1, (col, row))\n",
    "        # <class 'PIL.Image.Image'>\n",
    "        # print(type(tile_region))\n",
    "        # print(tile_region.histogram())\n",
    "\n",
    "        tile_region = np.asarray(tile_region)\n",
    "\n",
    "        # Calculate histograms for each color channel (R, G, B) and grayscale\n",
    "        hist_r = np.histogram(tile_region[:, :, 0], bins=256, range=(0, 256))[0]\n",
    "        hist_g = np.histogram(tile_region[:, :, 1], bins=256, range=(0, 256))[0]\n",
    "        hist_b = np.histogram(tile_region[:, :, 2], bins=256, range=(0, 256))[0]\n",
    "        hist_gray = np.histogram(\n",
    "            np.mean(tile_region, axis=2), bins=256, range=(0, 256)\n",
    "        )[0]\n",
    "\n",
    "        # Append histogram values to lists\n",
    "        hist_r_values.append(hist_r)\n",
    "        hist_g_values.append(hist_g)\n",
    "        hist_b_values.append(hist_b)\n",
    "        hist_gray_values.append(hist_gray)\n",
    "\n",
    "# Calculate mean and median values for each histogram channel\n",
    "mean_r = np.mean(hist_r_values, axis=0)\n",
    "mean_g = np.mean(hist_g_values, axis=0)\n",
    "mean_b = np.mean(hist_b_values, axis=0)\n",
    "mean_gray = np.mean(hist_gray_values, axis=0)\n",
    "\n",
    "median_r = np.median(hist_r_values, axis=0)\n",
    "median_g = np.median(hist_g_values, axis=0)\n",
    "median_b = np.median(hist_b_values, axis=0)\n",
    "median_gray = np.median(hist_gray_values, axis=0)\n",
    "\n",
    "# Print mean and median values\n",
    "print(\"Mean R:\", mean_r)\n",
    "print(\"Median R:\", median_r)\n",
    "print(\"Mean G:\", mean_g)\n",
    "print(\"Median G:\", median_g)\n",
    "print(\"Mean B:\", mean_b)\n",
    "print(\"Median B:\", median_b)\n",
    "print(\"Mean Gray:\", mean_gray)\n",
    "print(\"Median Gray:\", median_gray)"
   ]
  },
  {
   "cell_type": "code",
   "execution_count": null,
   "metadata": {
    "id": "L0PyIoFMsfzS"
   },
   "outputs": [],
   "source": [
    "png_files = [file for file in os.listdir(tile_dir) if file.endswith(\".png\")]\n",
    "num_png_files = len(png_files)\n",
    "\n",
    "print(f\"Number of .png files in {tile_dir}: {num_png_files}\")"
   ]
  }
 ],
 "metadata": {
  "accelerator": "GPU",
  "colab": {
   "authorship_tag": "ABX9TyM87U3tBvqOJQTDv6ygR1V1",
   "gpuType": "T4",
   "provenance": []
  },
  "kernelspec": {
   "display_name": "Python 3",
   "name": "python3"
  },
  "language_info": {
   "name": "python"
  }
 },
 "nbformat": 4,
 "nbformat_minor": 0
}