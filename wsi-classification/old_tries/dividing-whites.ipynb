{
 "nbformat": 4,
 "nbformat_minor": 0,
 "metadata": {
  "colab": {
   "provenance": [],
   "authorship_tag": "ABX9TyMTdyLWW0fMwgYzs8dMBygD"
  },
  "kernelspec": {
   "name": "python3",
   "display_name": "Python 3"
  },
  "language_info": {
   "name": "python"
  }
 },
 "cells": [
  {
   "cell_type": "code",
   "execution_count": 1,
   "metadata": {
    "colab": {
     "base_uri": "https://localhost:8080/"
    },
    "id": "8QATRWP6YoO6",
    "executionInfo": {
     "status": "ok",
     "timestamp": 1683181773970,
     "user_tz": -180,
     "elapsed": 29163,
     "user": {
      "displayName": "Ahmet Emre Usta",
      "userId": "15508369964865834704"
     }
    },
    "outputId": "a0018ab3-0258-4437-f308-fcd67d914005"
   },
   "outputs": [
    {
     "output_type": "stream",
     "name": "stdout",
     "text": [
      "\u001b[33m\r0% [Working]\u001b[0m\r            \rGet:1 https://cloud.r-project.org/bin/linux/ubuntu focal-cran40/ InRelease [3,622 B]\n",
      "Get:2 https://developer.download.nvidia.com/compute/cuda/repos/ubuntu2004/x86_64  InRelease [1,581 B]\n",
      "Hit:3 http://archive.ubuntu.com/ubuntu focal InRelease\n",
      "Get:4 http://security.ubuntu.com/ubuntu focal-security InRelease [114 kB]\n",
      "Get:5 http://archive.ubuntu.com/ubuntu focal-updates InRelease [114 kB]\n",
      "Hit:6 http://ppa.launchpad.net/c2d4u.team/c2d4u4.0+/ubuntu focal InRelease\n",
      "Get:7 https://developer.download.nvidia.com/compute/cuda/repos/ubuntu2004/x86_64  Packages [1,007 kB]\n",
      "Get:8 http://archive.ubuntu.com/ubuntu focal-backports InRelease [108 kB]\n",
      "Hit:9 http://ppa.launchpad.net/cran/libgit2/ubuntu focal InRelease\n",
      "Hit:10 http://ppa.launchpad.net/deadsnakes/ppa/ubuntu focal InRelease\n",
      "Get:11 http://archive.ubuntu.com/ubuntu focal-updates/main amd64 Packages [3,150 kB]\n",
      "Hit:12 http://ppa.launchpad.net/graphics-drivers/ppa/ubuntu focal InRelease\n",
      "Hit:13 http://ppa.launchpad.net/ubuntugis/ppa/ubuntu focal InRelease\n",
      "Get:14 http://security.ubuntu.com/ubuntu focal-security/main amd64 Packages [2,668 kB]\n",
      "Fetched 7,166 kB in 3s (2,223 kB/s)\n",
      "Reading package lists... Done\n",
      "Building dependency tree       \n",
      "Reading state information... Done\n",
      "25 packages can be upgraded. Run 'apt list --upgradable' to see them.\n",
      "Reading package lists... Done\n",
      "Building dependency tree       \n",
      "Reading state information... Done\n",
      "The following additional packages will be installed:\n",
      "  libopenslide0\n",
      "Suggested packages:\n",
      "  libtiff-tools\n",
      "The following NEW packages will be installed:\n",
      "  libopenslide0 openslide-tools\n",
      "0 upgraded, 2 newly installed, 0 to remove and 25 not upgraded.\n",
      "Need to get 95.5 kB of archives.\n",
      "After this operation, 289 kB of additional disk space will be used.\n",
      "Get:1 http://archive.ubuntu.com/ubuntu focal/universe amd64 libopenslide0 amd64 3.4.1+dfsg-4 [82.1 kB]\n",
      "Get:2 http://archive.ubuntu.com/ubuntu focal/universe amd64 openslide-tools amd64 3.4.1+dfsg-4 [13.4 kB]\n",
      "Fetched 95.5 kB in 0s (234 kB/s)\n",
      "Selecting previously unselected package libopenslide0.\n",
      "(Reading database ... 122518 files and directories currently installed.)\n",
      "Preparing to unpack .../libopenslide0_3.4.1+dfsg-4_amd64.deb ...\n",
      "Unpacking libopenslide0 (3.4.1+dfsg-4) ...\n",
      "Selecting previously unselected package openslide-tools.\n",
      "Preparing to unpack .../openslide-tools_3.4.1+dfsg-4_amd64.deb ...\n",
      "Unpacking openslide-tools (3.4.1+dfsg-4) ...\n",
      "Setting up libopenslide0 (3.4.1+dfsg-4) ...\n",
      "Setting up openslide-tools (3.4.1+dfsg-4) ...\n",
      "Processing triggers for man-db (2.9.1-1) ...\n",
      "Processing triggers for libc-bin (2.31-0ubuntu9.9) ...\n",
      "Looking in indexes: https://pypi.org/simple, https://us-python.pkg.dev/colab-wheels/public/simple/\n",
      "Collecting openslide-python\n",
      "  Downloading openslide-python-1.2.0.tar.gz (338 kB)\n",
      "\u001b[2K     \u001b[90m━━━━━━━━━━━━━━━━━━━━━━━━━━━━━━━━━━━━━━━\u001b[0m \u001b[32m338.7/338.7 kB\u001b[0m \u001b[31m7.7 MB/s\u001b[0m eta \u001b[36m0:00:00\u001b[0m\n",
      "\u001b[?25h  Preparing metadata (setup.py) ... \u001b[?25l\u001b[?25hdone\n",
      "Requirement already satisfied: Pillow in /usr/local/lib/python3.10/dist-packages (from openslide-python) (8.4.0)\n",
      "Building wheels for collected packages: openslide-python\n",
      "  Building wheel for openslide-python (setup.py) ... \u001b[?25l\u001b[?25hdone\n",
      "  Created wheel for openslide-python: filename=openslide_python-1.2.0-cp310-cp310-linux_x86_64.whl size=28173 sha256=b6f9bb91f7633f0d8a9799e16b5d23a9463bbc892c8b64ad406cde394a08740e\n",
      "  Stored in directory: /root/.cache/pip/wheels/f6/1b/23/abaaa209d25fc76dbd882f2e4bac2326c746752cabc8ceb3f3\n",
      "Successfully built openslide-python\n",
      "Installing collected packages: openslide-python\n",
      "Successfully installed openslide-python-1.2.0\n"
     ]
    }
   ],
   "source": [
    "!apt update && apt install -y openslide-tools\n",
    "!pip install openslide-python"
   ]
  },
  {
   "cell_type": "code",
   "source": [
    "import os\n",
    "import cv2\n",
    "import time\n",
    "import logging\n",
    "import openslide\n",
    "from tqdm import tqdm\n",
    "from google.colab import drive\n",
    "\n",
    "# Mount the Google Drive to access the files\n",
    "drive.mount(\"/content/gdrive/\")"
   ],
   "metadata": {
    "colab": {
     "base_uri": "https://localhost:8080/"
    },
    "id": "o7GWy3XoYs1c",
    "executionInfo": {
     "status": "ok",
     "timestamp": 1683181812122,
     "user_tz": -180,
     "elapsed": 38162,
     "user": {
      "displayName": "Ahmet Emre Usta",
      "userId": "15508369964865834704"
     }
    },
    "outputId": "9d946a86-19ca-47c4-96e2-3c6eef6892bf"
   },
   "execution_count": 2,
   "outputs": [
    {
     "output_type": "stream",
     "name": "stdout",
     "text": [
      "Mounted at /content/gdrive/\n"
     ]
    }
   ]
  },
  {
   "cell_type": "code",
   "source": [
    "# Set the working directory and slide path\n",
    "work_directory = \"/content/gdrive/MyDrive/Research of Deep Learning Classification for Soft Tissue Sarcomas/\"\n",
    "slide_path = os.path.join(work_directory, \"SCANS\", \"1007555.svs\")\n",
    "\n",
    "# Extract the slide name from the slide path\n",
    "slide_name = os.path.splitext(os.path.basename(slide_path))[0]\n",
    "\n",
    "# Set the target path for the slide images\n",
    "target_path = os.path.join(work_directory, \"Code\", \"images\", slide_name)\n",
    "\n",
    "# Set the logging path for the slide images\n",
    "logging_path = os.path.join(target_path, \"logs\")\n",
    "\n",
    "whites_path = os.path.join(target_path, \"whites\")\n",
    "\n",
    "# Create directories if they don't exist\n",
    "for path in [target_path, logging_path, whites_path]:\n",
    "    try:\n",
    "        os.makedirs(path)\n",
    "        print(f\"Created directory: {path}\")\n",
    "    except FileExistsError:\n",
    "        print(f\"Directory already exists: {path}\")\n",
    "\n",
    "# Create a logger\n",
    "logger = logging.getLogger(__name__)\n",
    "\n",
    "# Set the logging level for the logger\n",
    "logger.setLevel(logging.WARNING)\n",
    "\n",
    "# Create a formatter for the logger\n",
    "formatter = logging.Formatter(\"%(asctime)s - %(levelname)s - %(message)s\")\n",
    "\n",
    "# Create a file handler for the logger\n",
    "log_filename = time.strftime(\"%Y%m%d_%H%M%S.log\")\n",
    "file_handler = logging.FileHandler(os.path.join(logging_path, log_filename))\n",
    "file_handler.setLevel(logging.INFO)\n",
    "file_handler.setFormatter(formatter)\n",
    "\n",
    "# Add the file handler to the logger\n",
    "logger.addHandler(file_handler)"
   ],
   "metadata": {
    "colab": {
     "base_uri": "https://localhost:8080/"
    },
    "id": "T6AfQMPUYulV",
    "executionInfo": {
     "status": "ok",
     "timestamp": 1683182033871,
     "user_tz": -180,
     "elapsed": 444,
     "user": {
      "displayName": "Ahmet Emre Usta",
      "userId": "15508369964865834704"
     }
    },
    "outputId": "02fc4835-465b-40be-8169-a44fe32f0a3c"
   },
   "execution_count": 4,
   "outputs": [
    {
     "output_type": "stream",
     "name": "stdout",
     "text": [
      "Directory already exists: /content/gdrive/MyDrive/Research of Deep Learning Classification for Soft Tissue Sarcomas/Code/images/1007555\n",
      "Directory already exists: /content/gdrive/MyDrive/Research of Deep Learning Classification for Soft Tissue Sarcomas/Code/images/1007555/logs\n",
      "Created directory: /content/gdrive/MyDrive/Research of Deep Learning Classification for Soft Tissue Sarcomas/Code/images/1007555/whites\n"
     ]
    }
   ]
  },
  {
   "cell_type": "code",
   "source": [
    "# Define the white ratio threshold\n",
    "white_ratio_threshold = 0.6\n",
    "\n",
    "\n",
    "# Define the function to check the white ratio of an image\n",
    "def check_white_ratio(image_path, white_threshold=240):\n",
    "    img = cv2.imread(image_path)\n",
    "    gray = cv2.cvtColor(img, cv2.COLOR_BGR2GRAY)\n",
    "    hist = cv2.calcHist([gray], [0], None, [256], [0, 256])\n",
    "    white_pixels = cv2.sumElems(hist[white_threshold:])[0]\n",
    "    total_pixels = gray.shape[0] * gray.shape[1]\n",
    "    white_ratio = white_pixels / total_pixels\n",
    "    return white_ratio"
   ],
   "metadata": {
    "id": "vN06m7HzazVH",
    "executionInfo": {
     "status": "ok",
     "timestamp": 1683182046242,
     "user_tz": -180,
     "elapsed": 2,
     "user": {
      "displayName": "Ahmet Emre Usta",
      "userId": "15508369964865834704"
     }
    }
   },
   "execution_count": 5,
   "outputs": []
  },
  {
   "cell_type": "code",
   "source": [
    "# Open the slide and calculate the number of patches\n",
    "slide = openslide.OpenSlide(slide_path)\n",
    "num_horizontal_patches = slide.level_dimensions[0][0] // 512\n",
    "num_vertical_patches = slide.level_dimensions[0][1] // 512\n",
    "num_patches = num_horizontal_patches * num_vertical_patches\n",
    "logger.info(f\"There are {num_patches} patches in this image!\")"
   ],
   "metadata": {
    "id": "ert4U2PIYws6",
    "executionInfo": {
     "status": "ok",
     "timestamp": 1683182060197,
     "user_tz": -180,
     "elapsed": 6645,
     "user": {
      "displayName": "Ahmet Emre Usta",
      "userId": "15508369964865834704"
     }
    }
   },
   "execution_count": 6,
   "outputs": []
  },
  {
   "cell_type": "code",
   "source": [
    "try:\n",
    "    # Extract patches from the slide and save them to the target directory\n",
    "    for y in tqdm(range(num_vertical_patches), desc=\"y-axis\"):\n",
    "        for x in tqdm(range(num_horizontal_patches), desc=\"x-axis\", leave=False):\n",
    "            x_start = x * 512\n",
    "            y_start = y * 512\n",
    "\n",
    "            # Check if the patch exceeds the dimensions of the slide\n",
    "            if y_start > slide.level_dimensions[0][1]:\n",
    "                break\n",
    "\n",
    "            patch_id = f\"{slide_name}_patch_{y}_{x}\"\n",
    "            patch_filename = f\"{patch_id}.png\"\n",
    "            patch_filepath = os.path.join(target_path, patch_filename)\n",
    "\n",
    "            if os.path.exists(patch_filepath):\n",
    "                logger.warning(f\"Patch {patch_id} already exists.\")\n",
    "                continue\n",
    "\n",
    "            try:\n",
    "                region = slide.read_region((x_start, y_start), 0, (512, 512))\n",
    "                white_ratio = check_white_ratio(region)\n",
    "\n",
    "                if white_ratio >= white_ratio_threshold:\n",
    "                    white_patch_filepath = os.path.join(whites_path, patch_filename)\n",
    "                    region.save(white_patch_filepath)\n",
    "                    logger.warning(\n",
    "                        f\"Patch {patch_id} is {white_ratio*100:.2f}% white and saved to {white_patch_filepath}.\"\n",
    "                    )\n",
    "\n",
    "                else:\n",
    "                    region.save(patch_filepath)\n",
    "                    logger.info(\n",
    "                        f\"Patch {patch_id} is {white_ratio*100:.2f}% white and saved to {patch_filepath}.\"\n",
    "                    )\n",
    "\n",
    "            except Exception as e:\n",
    "                logger.error(f\"Error saving patch {patch_id}: {str(e)}\")\n",
    "\n",
    "    # Close the slide\n",
    "    slide.close()\n",
    "\n",
    "except Exception as e:\n",
    "    logger.error(f\"Error processing slide: {str(e)}\")"
   ],
   "metadata": {
    "colab": {
     "base_uri": "https://localhost:8080/",
     "height": 1000
    },
    "id": "-lKds2B9Yy2c",
    "executionInfo": {
     "status": "error",
     "timestamp": 1683182135687,
     "user_tz": -180,
     "elapsed": 58181,
     "user": {
      "displayName": "Ahmet Emre Usta",
      "userId": "15508369964865834704"
     }
    },
    "outputId": "0ec7b9ae-d271-40ba-82b2-a0c865795a47"
   },
   "execution_count": 8,
   "outputs": [
    {
     "output_type": "stream",
     "name": "stderr",
     "text": [
      "y-axis:   0%|          | 0/158 [00:00<?, ?it/s]\n",
      "x-axis:   0%|          | 0/369 [00:00<?, ?it/s]\u001b[AWARNING:__main__:Patch 1007555_patch_0_0 already exists.\n",
      "WARNING:__main__:Patch 1007555_patch_0_1 already exists.\n",
      "WARNING:__main__:Patch 1007555_patch_0_2 already exists.\n",
      "WARNING:__main__:Patch 1007555_patch_0_3 already exists.\n",
      "WARNING:__main__:Patch 1007555_patch_0_4 already exists.\n",
      "WARNING:__main__:Patch 1007555_patch_0_5 already exists.\n",
      "WARNING:__main__:Patch 1007555_patch_0_6 already exists.\n",
      "WARNING:__main__:Patch 1007555_patch_0_7 already exists.\n",
      "WARNING:__main__:Patch 1007555_patch_0_8 already exists.\n",
      "WARNING:__main__:Patch 1007555_patch_0_9 already exists.\n",
      "WARNING:__main__:Patch 1007555_patch_0_10 already exists.\n",
      "WARNING:__main__:Patch 1007555_patch_0_11 already exists.\n",
      "WARNING:__main__:Patch 1007555_patch_0_12 already exists.\n",
      "WARNING:__main__:Patch 1007555_patch_0_13 already exists.\n",
      "WARNING:__main__:Patch 1007555_patch_0_14 already exists.\n",
      "WARNING:__main__:Patch 1007555_patch_0_15 already exists.\n",
      "WARNING:__main__:Patch 1007555_patch_0_16 already exists.\n",
      "WARNING:__main__:Patch 1007555_patch_0_17 already exists.\n",
      "WARNING:__main__:Patch 1007555_patch_0_18 already exists.\n",
      "WARNING:__main__:Patch 1007555_patch_0_19 already exists.\n",
      "WARNING:__main__:Patch 1007555_patch_0_20 already exists.\n",
      "WARNING:__main__:Patch 1007555_patch_0_21 already exists.\n",
      "WARNING:__main__:Patch 1007555_patch_0_22 already exists.\n",
      "WARNING:__main__:Patch 1007555_patch_0_23 already exists.\n",
      "WARNING:__main__:Patch 1007555_patch_0_24 already exists.\n",
      "WARNING:__main__:Patch 1007555_patch_0_25 already exists.\n",
      "WARNING:__main__:Patch 1007555_patch_0_26 already exists.\n",
      "WARNING:__main__:Patch 1007555_patch_0_27 already exists.\n",
      "WARNING:__main__:Patch 1007555_patch_0_28 already exists.\n",
      "WARNING:__main__:Patch 1007555_patch_0_29 already exists.\n",
      "WARNING:__main__:Patch 1007555_patch_0_30 already exists.\n",
      "WARNING:__main__:Patch 1007555_patch_0_31 already exists.\n",
      "WARNING:__main__:Patch 1007555_patch_0_32 already exists.\n",
      "WARNING:__main__:Patch 1007555_patch_0_33 already exists.\n",
      "WARNING:__main__:Patch 1007555_patch_0_34 already exists.\n",
      "WARNING:__main__:Patch 1007555_patch_0_35 already exists.\n",
      "WARNING:__main__:Patch 1007555_patch_0_36 already exists.\n",
      "WARNING:__main__:Patch 1007555_patch_0_37 already exists.\n",
      "WARNING:__main__:Patch 1007555_patch_0_38 already exists.\n",
      "WARNING:__main__:Patch 1007555_patch_0_39 already exists.\n",
      "WARNING:__main__:Patch 1007555_patch_0_40 already exists.\n",
      "\n",
      "x-axis:  11%|█         | 41/369 [00:00<00:00, 406.75it/s]\u001b[AWARNING:__main__:Patch 1007555_patch_0_41 already exists.\n",
      "WARNING:__main__:Patch 1007555_patch_0_42 already exists.\n",
      "WARNING:__main__:Patch 1007555_patch_0_43 already exists.\n",
      "WARNING:__main__:Patch 1007555_patch_0_44 already exists.\n",
      "WARNING:__main__:Patch 1007555_patch_0_45 already exists.\n",
      "WARNING:__main__:Patch 1007555_patch_0_46 already exists.\n",
      "WARNING:__main__:Patch 1007555_patch_0_47 already exists.\n",
      "WARNING:__main__:Patch 1007555_patch_0_48 already exists.\n",
      "WARNING:__main__:Patch 1007555_patch_0_49 already exists.\n",
      "WARNING:__main__:Patch 1007555_patch_0_50 already exists.\n",
      "WARNING:__main__:Patch 1007555_patch_0_51 already exists.\n",
      "WARNING:__main__:Patch 1007555_patch_0_52 already exists.\n",
      "WARNING:__main__:Patch 1007555_patch_0_53 already exists.\n",
      "WARNING:__main__:Patch 1007555_patch_0_54 already exists.\n",
      "WARNING:__main__:Patch 1007555_patch_0_55 already exists.\n",
      "WARNING:__main__:Patch 1007555_patch_0_56 already exists.\n",
      "WARNING:__main__:Patch 1007555_patch_0_57 already exists.\n",
      "WARNING:__main__:Patch 1007555_patch_0_58 already exists.\n",
      "WARNING:__main__:Patch 1007555_patch_0_59 already exists.\n",
      "WARNING:__main__:Patch 1007555_patch_0_60 already exists.\n",
      "WARNING:__main__:Patch 1007555_patch_0_61 already exists.\n",
      "WARNING:__main__:Patch 1007555_patch_0_62 already exists.\n",
      "WARNING:__main__:Patch 1007555_patch_0_63 already exists.\n",
      "WARNING:__main__:Patch 1007555_patch_0_64 already exists.\n",
      "WARNING:__main__:Patch 1007555_patch_0_65 already exists.\n",
      "WARNING:__main__:Patch 1007555_patch_0_66 already exists.\n",
      "WARNING:__main__:Patch 1007555_patch_0_67 already exists.\n",
      "WARNING:__main__:Patch 1007555_patch_0_68 already exists.\n",
      "WARNING:__main__:Patch 1007555_patch_0_69 already exists.\n",
      "WARNING:__main__:Patch 1007555_patch_0_70 already exists.\n",
      "WARNING:__main__:Patch 1007555_patch_0_71 already exists.\n",
      "WARNING:__main__:Patch 1007555_patch_0_72 already exists.\n",
      "WARNING:__main__:Patch 1007555_patch_0_73 already exists.\n",
      "WARNING:__main__:Patch 1007555_patch_0_74 already exists.\n",
      "WARNING:__main__:Patch 1007555_patch_0_75 already exists.\n",
      "WARNING:__main__:Patch 1007555_patch_0_76 already exists.\n",
      "WARNING:__main__:Patch 1007555_patch_0_77 already exists.\n",
      "WARNING:__main__:Patch 1007555_patch_0_78 already exists.\n",
      "WARNING:__main__:Patch 1007555_patch_0_79 already exists.\n",
      "WARNING:__main__:Patch 1007555_patch_0_80 already exists.\n",
      "WARNING:__main__:Patch 1007555_patch_0_81 already exists.\n",
      "\n",
      "x-axis:  22%|██▏       | 82/369 [00:00<00:00, 406.94it/s]\u001b[AWARNING:__main__:Patch 1007555_patch_0_82 already exists.\n",
      "WARNING:__main__:Patch 1007555_patch_0_83 already exists.\n",
      "WARNING:__main__:Patch 1007555_patch_0_84 already exists.\n",
      "WARNING:__main__:Patch 1007555_patch_0_85 already exists.\n",
      "WARNING:__main__:Patch 1007555_patch_0_86 already exists.\n",
      "WARNING:__main__:Patch 1007555_patch_0_87 already exists.\n",
      "WARNING:__main__:Patch 1007555_patch_0_88 already exists.\n",
      "WARNING:__main__:Patch 1007555_patch_0_89 already exists.\n",
      "WARNING:__main__:Patch 1007555_patch_0_90 already exists.\n",
      "WARNING:__main__:Patch 1007555_patch_0_91 already exists.\n",
      "WARNING:__main__:Patch 1007555_patch_0_92 already exists.\n",
      "WARNING:__main__:Patch 1007555_patch_0_93 already exists.\n",
      "WARNING:__main__:Patch 1007555_patch_0_94 already exists.\n",
      "WARNING:__main__:Patch 1007555_patch_0_95 already exists.\n",
      "WARNING:__main__:Patch 1007555_patch_0_96 already exists.\n",
      "WARNING:__main__:Patch 1007555_patch_0_97 already exists.\n",
      "ERROR:__main__:Error saving patch 1007555_patch_0_98: Can't convert object to 'str' for 'filename'\n",
      "ERROR:__main__:Error saving patch 1007555_patch_0_99: Can't convert object to 'str' for 'filename'\n",
      "ERROR:__main__:Error saving patch 1007555_patch_0_100: Can't convert object to 'str' for 'filename'\n",
      "ERROR:__main__:Error saving patch 1007555_patch_0_101: Can't convert object to 'str' for 'filename'\n",
      "ERROR:__main__:Error saving patch 1007555_patch_0_102: Can't convert object to 'str' for 'filename'\n",
      "ERROR:__main__:Error saving patch 1007555_patch_0_103: Can't convert object to 'str' for 'filename'\n",
      "ERROR:__main__:Error saving patch 1007555_patch_0_104: Can't convert object to 'str' for 'filename'\n",
      "ERROR:__main__:Error saving patch 1007555_patch_0_105: Can't convert object to 'str' for 'filename'\n",
      "ERROR:__main__:Error saving patch 1007555_patch_0_106: Can't convert object to 'str' for 'filename'\n",
      "ERROR:__main__:Error saving patch 1007555_patch_0_107: Can't convert object to 'str' for 'filename'\n",
      "ERROR:__main__:Error saving patch 1007555_patch_0_108: Can't convert object to 'str' for 'filename'\n",
      "\n",
      "x-axis:  22%|██▏       | 82/369 [00:19<00:00, 406.94it/s]\u001b[AERROR:__main__:Error saving patch 1007555_patch_0_109: Can't convert object to 'str' for 'filename'\n",
      "\n",
      "x-axis:  30%|██▉       | 110/369 [00:20<01:08,  3.78it/s]\u001b[AERROR:__main__:Error saving patch 1007555_patch_0_110: Can't convert object to 'str' for 'filename'\n",
      "\n",
      "x-axis:  30%|███       | 111/369 [00:21<01:13,  3.52it/s]\u001b[AERROR:__main__:Error saving patch 1007555_patch_0_111: Can't convert object to 'str' for 'filename'\n",
      "ERROR:__main__:Error saving patch 1007555_patch_0_112: Can't convert object to 'str' for 'filename'\n",
      "ERROR:__main__:Error saving patch 1007555_patch_0_113: Can't convert object to 'str' for 'filename'\n",
      "ERROR:__main__:Error saving patch 1007555_patch_0_114: Can't convert object to 'str' for 'filename'\n",
      "ERROR:__main__:Error saving patch 1007555_patch_0_115: Can't convert object to 'str' for 'filename'\n",
      "ERROR:__main__:Error saving patch 1007555_patch_0_116: Can't convert object to 'str' for 'filename'\n",
      "ERROR:__main__:Error saving patch 1007555_patch_0_117: Can't convert object to 'str' for 'filename'\n",
      "ERROR:__main__:Error saving patch 1007555_patch_0_118: Can't convert object to 'str' for 'filename'\n",
      "\n",
      "x-axis:  30%|███       | 111/369 [00:40<01:13,  3.52it/s]\u001b[A\n",
      "y-axis:   0%|          | 0/158 [00:57<?, ?it/s]\n"
     ]
    },
    {
     "output_type": "error",
     "ename": "KeyboardInterrupt",
     "evalue": "ignored",
     "traceback": [
      "\u001b[0;31m---------------------------------------------------------------------------\u001b[0m",
      "\u001b[0;31mKeyboardInterrupt\u001b[0m                         Traceback (most recent call last)",
      "\u001b[0;32m<ipython-input-8-857d776a5b0c>\u001b[0m in \u001b[0;36m<cell line: 1>\u001b[0;34m()\u001b[0m\n\u001b[1;32m     19\u001b[0m \u001b[0;34m\u001b[0m\u001b[0m\n\u001b[1;32m     20\u001b[0m             \u001b[0;32mtry\u001b[0m\u001b[0;34m:\u001b[0m\u001b[0;34m\u001b[0m\u001b[0;34m\u001b[0m\u001b[0m\n\u001b[0;32m---> 21\u001b[0;31m                 \u001b[0mregion\u001b[0m \u001b[0;34m=\u001b[0m \u001b[0mslide\u001b[0m\u001b[0;34m.\u001b[0m\u001b[0mread_region\u001b[0m\u001b[0;34m(\u001b[0m\u001b[0;34m(\u001b[0m\u001b[0mx_start\u001b[0m\u001b[0;34m,\u001b[0m \u001b[0my_start\u001b[0m\u001b[0;34m)\u001b[0m\u001b[0;34m,\u001b[0m \u001b[0;36m0\u001b[0m\u001b[0;34m,\u001b[0m \u001b[0;34m(\u001b[0m\u001b[0;36m512\u001b[0m\u001b[0;34m,\u001b[0m \u001b[0;36m512\u001b[0m\u001b[0;34m)\u001b[0m\u001b[0;34m)\u001b[0m\u001b[0;34m\u001b[0m\u001b[0;34m\u001b[0m\u001b[0m\n\u001b[0m\u001b[1;32m     22\u001b[0m                 \u001b[0mwhite_ratio\u001b[0m \u001b[0;34m=\u001b[0m \u001b[0mcheck_white_ratio\u001b[0m\u001b[0;34m(\u001b[0m\u001b[0mregion\u001b[0m\u001b[0;34m)\u001b[0m\u001b[0;34m\u001b[0m\u001b[0;34m\u001b[0m\u001b[0m\n\u001b[1;32m     23\u001b[0m \u001b[0;34m\u001b[0m\u001b[0m\n",
      "\u001b[0;32m/usr/local/lib/python3.10/dist-packages/openslide/__init__.py\u001b[0m in \u001b[0;36mread_region\u001b[0;34m(self, location, level, size)\u001b[0m\n\u001b[1;32m    234\u001b[0m         \u001b[0mUnlike\u001b[0m \u001b[0;32min\u001b[0m \u001b[0mthe\u001b[0m \u001b[0mC\u001b[0m \u001b[0minterface\u001b[0m\u001b[0;34m,\u001b[0m \u001b[0mthe\u001b[0m \u001b[0mimage\u001b[0m \u001b[0mdata\u001b[0m \u001b[0mreturned\u001b[0m \u001b[0mby\u001b[0m \u001b[0mthis\u001b[0m\u001b[0;34m\u001b[0m\u001b[0;34m\u001b[0m\u001b[0m\n\u001b[1;32m    235\u001b[0m         function is not premultiplied.\"\"\"\n\u001b[0;32m--> 236\u001b[0;31m         return lowlevel.read_region(\n\u001b[0m\u001b[1;32m    237\u001b[0m             \u001b[0mself\u001b[0m\u001b[0;34m.\u001b[0m\u001b[0m_osr\u001b[0m\u001b[0;34m,\u001b[0m \u001b[0mlocation\u001b[0m\u001b[0;34m[\u001b[0m\u001b[0;36m0\u001b[0m\u001b[0;34m]\u001b[0m\u001b[0;34m,\u001b[0m \u001b[0mlocation\u001b[0m\u001b[0;34m[\u001b[0m\u001b[0;36m1\u001b[0m\u001b[0;34m]\u001b[0m\u001b[0;34m,\u001b[0m \u001b[0mlevel\u001b[0m\u001b[0;34m,\u001b[0m \u001b[0msize\u001b[0m\u001b[0;34m[\u001b[0m\u001b[0;36m0\u001b[0m\u001b[0;34m]\u001b[0m\u001b[0;34m,\u001b[0m \u001b[0msize\u001b[0m\u001b[0;34m[\u001b[0m\u001b[0;36m1\u001b[0m\u001b[0;34m]\u001b[0m\u001b[0;34m\u001b[0m\u001b[0;34m\u001b[0m\u001b[0m\n\u001b[1;32m    238\u001b[0m         )\n",
      "\u001b[0;32m/usr/local/lib/python3.10/dist-packages/openslide/lowlevel.py\u001b[0m in \u001b[0;36mread_region\u001b[0;34m(slide, x, y, level, w, h)\u001b[0m\n\u001b[1;32m    309\u001b[0m         \u001b[0;32mreturn\u001b[0m \u001b[0mPIL\u001b[0m\u001b[0;34m.\u001b[0m\u001b[0mImage\u001b[0m\u001b[0;34m.\u001b[0m\u001b[0mnew\u001b[0m\u001b[0;34m(\u001b[0m\u001b[0;34m'RGBA'\u001b[0m\u001b[0;34m,\u001b[0m \u001b[0;34m(\u001b[0m\u001b[0mw\u001b[0m\u001b[0;34m,\u001b[0m \u001b[0mh\u001b[0m\u001b[0;34m)\u001b[0m\u001b[0;34m)\u001b[0m\u001b[0;34m\u001b[0m\u001b[0;34m\u001b[0m\u001b[0m\n\u001b[1;32m    310\u001b[0m     \u001b[0mbuf\u001b[0m \u001b[0;34m=\u001b[0m \u001b[0;34m(\u001b[0m\u001b[0mw\u001b[0m \u001b[0;34m*\u001b[0m \u001b[0mh\u001b[0m \u001b[0;34m*\u001b[0m \u001b[0mc_uint32\u001b[0m\u001b[0;34m)\u001b[0m\u001b[0;34m(\u001b[0m\u001b[0;34m)\u001b[0m\u001b[0;34m\u001b[0m\u001b[0;34m\u001b[0m\u001b[0m\n\u001b[0;32m--> 311\u001b[0;31m     \u001b[0m_read_region\u001b[0m\u001b[0;34m(\u001b[0m\u001b[0mslide\u001b[0m\u001b[0;34m,\u001b[0m \u001b[0mbuf\u001b[0m\u001b[0;34m,\u001b[0m \u001b[0mx\u001b[0m\u001b[0;34m,\u001b[0m \u001b[0my\u001b[0m\u001b[0;34m,\u001b[0m \u001b[0mlevel\u001b[0m\u001b[0;34m,\u001b[0m \u001b[0mw\u001b[0m\u001b[0;34m,\u001b[0m \u001b[0mh\u001b[0m\u001b[0;34m)\u001b[0m\u001b[0;34m\u001b[0m\u001b[0;34m\u001b[0m\u001b[0m\n\u001b[0m\u001b[1;32m    312\u001b[0m     \u001b[0;32mreturn\u001b[0m \u001b[0m_load_image\u001b[0m\u001b[0;34m(\u001b[0m\u001b[0mbuf\u001b[0m\u001b[0;34m,\u001b[0m \u001b[0;34m(\u001b[0m\u001b[0mw\u001b[0m\u001b[0;34m,\u001b[0m \u001b[0mh\u001b[0m\u001b[0;34m)\u001b[0m\u001b[0;34m)\u001b[0m\u001b[0;34m\u001b[0m\u001b[0;34m\u001b[0m\u001b[0m\n\u001b[1;32m    313\u001b[0m \u001b[0;34m\u001b[0m\u001b[0m\n",
      "\u001b[0;32m/usr/local/lib/python3.10/dist-packages/openslide/lowlevel.py\u001b[0m in \u001b[0;36m_check_error\u001b[0;34m(result, func, args)\u001b[0m\n\u001b[1;32m    220\u001b[0m \u001b[0;34m\u001b[0m\u001b[0m\n\u001b[1;32m    221\u001b[0m \u001b[0;31m# check if the library got into an error state after each library call\u001b[0m\u001b[0;34m\u001b[0m\u001b[0;34m\u001b[0m\u001b[0m\n\u001b[0;32m--> 222\u001b[0;31m \u001b[0;32mdef\u001b[0m \u001b[0m_check_error\u001b[0m\u001b[0;34m(\u001b[0m\u001b[0mresult\u001b[0m\u001b[0;34m,\u001b[0m \u001b[0mfunc\u001b[0m\u001b[0;34m,\u001b[0m \u001b[0margs\u001b[0m\u001b[0;34m)\u001b[0m\u001b[0;34m:\u001b[0m\u001b[0;34m\u001b[0m\u001b[0;34m\u001b[0m\u001b[0m\n\u001b[0m\u001b[1;32m    223\u001b[0m     \u001b[0merr\u001b[0m \u001b[0;34m=\u001b[0m \u001b[0mget_error\u001b[0m\u001b[0;34m(\u001b[0m\u001b[0margs\u001b[0m\u001b[0;34m[\u001b[0m\u001b[0;36m0\u001b[0m\u001b[0;34m]\u001b[0m\u001b[0;34m)\u001b[0m\u001b[0;34m\u001b[0m\u001b[0;34m\u001b[0m\u001b[0m\n\u001b[1;32m    224\u001b[0m     \u001b[0;32mif\u001b[0m \u001b[0merr\u001b[0m \u001b[0;32mis\u001b[0m \u001b[0;32mnot\u001b[0m \u001b[0;32mNone\u001b[0m\u001b[0;34m:\u001b[0m\u001b[0;34m\u001b[0m\u001b[0;34m\u001b[0m\u001b[0m\n",
      "\u001b[0;31mKeyboardInterrupt\u001b[0m: "
     ]
    }
   ]
  },
  {
   "cell_type": "code",
   "source": [],
   "metadata": {
    "id": "w89ku7uIcy03"
   },
   "execution_count": null,
   "outputs": []
  }
 ]
}