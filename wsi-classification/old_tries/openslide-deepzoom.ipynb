{
 "cells": [
  {
   "cell_type": "code",
   "execution_count": 1,
   "metadata": {
    "colab": {
     "base_uri": "https://localhost:8080/"
    },
    "executionInfo": {
     "elapsed": 25351,
     "status": "ok",
     "timestamp": 1688483495560,
     "user": {
      "displayName": "Ahmet Emre Usta",
      "userId": "15508369964865834704"
     },
     "user_tz": -180
    },
    "id": "aCdH3y4q6WtO",
    "outputId": "88d4d75c-012b-4246-a297-10db68fa979c"
   },
   "outputs": [
    {
     "name": "stdout",
     "output_type": "stream",
     "text": [
      "\u001b[33m\r0% [Working]\u001b[0m\r            \rGet:1 https://cloud.r-project.org/bin/linux/ubuntu focal-cran40/ InRelease [3,622 B]\n",
      "\u001b[33m\r0% [Connecting to archive.ubuntu.com (91.189.91.38)] [Waiting for headers] [1 I\u001b[0m\u001b[33m\r0% [Connecting to archive.ubuntu.com (91.189.91.38)] [Waiting for headers] [Con\u001b[0m\r                                                                               \rGet:2 https://developer.download.nvidia.com/compute/cuda/repos/ubuntu2004/x86_64  InRelease [1,581 B]\n",
      "\u001b[33m\r0% [Connecting to archive.ubuntu.com (91.189.91.38)] [Waiting for headers] [Con\u001b[0m\u001b[33m\r0% [Connecting to archive.ubuntu.com (91.189.91.38)] [Waiting for headers] [Con\u001b[0m\r                                                                               \rGet:3 http://security.ubuntu.com/ubuntu focal-security InRelease [114 kB]\n",
      "Hit:4 http://archive.ubuntu.com/ubuntu focal InRelease\n",
      "Get:5 http://archive.ubuntu.com/ubuntu focal-updates InRelease [114 kB]\n",
      "Get:6 http://ppa.launchpad.net/c2d4u.team/c2d4u4.0+/ubuntu focal InRelease [18.1 kB]\n",
      "Get:7 https://cloud.r-project.org/bin/linux/ubuntu focal-cran40/ Packages [81.0 kB]\n",
      "Get:8 https://developer.download.nvidia.com/compute/cuda/repos/ubuntu2004/x86_64  Packages [1,079 kB]\n",
      "Get:9 http://archive.ubuntu.com/ubuntu focal-backports InRelease [108 kB]\n",
      "Hit:10 http://ppa.launchpad.net/cran/libgit2/ubuntu focal InRelease\n",
      "Get:11 http://security.ubuntu.com/ubuntu focal-security/multiverse amd64 Packages [28.5 kB]\n",
      "Get:12 http://security.ubuntu.com/ubuntu focal-security/restricted amd64 Packages [2,482 kB]\n",
      "Hit:13 http://ppa.launchpad.net/deadsnakes/ppa/ubuntu focal InRelease\n",
      "Get:14 http://archive.ubuntu.com/ubuntu focal-updates/main amd64 Packages [3,343 kB]\n",
      "Get:15 http://security.ubuntu.com/ubuntu focal-security/main amd64 Packages [2,858 kB]\n",
      "Get:16 http://ppa.launchpad.net/graphics-drivers/ppa/ubuntu focal InRelease [24.3 kB]\n",
      "Get:17 http://security.ubuntu.com/ubuntu focal-security/universe amd64 Packages [1,066 kB]\n",
      "Get:18 http://archive.ubuntu.com/ubuntu focal-updates/universe amd64 Packages [1,366 kB]\n",
      "Get:19 http://archive.ubuntu.com/ubuntu focal-updates/multiverse amd64 Packages [31.2 kB]\n",
      "Get:20 http://archive.ubuntu.com/ubuntu focal-updates/restricted amd64 Packages [2,648 kB]\n",
      "Hit:21 http://ppa.launchpad.net/ubuntugis/ppa/ubuntu focal InRelease\n",
      "Get:22 http://ppa.launchpad.net/c2d4u.team/c2d4u4.0+/ubuntu focal/main Sources [2,604 kB]\n",
      "Get:23 http://ppa.launchpad.net/c2d4u.team/c2d4u4.0+/ubuntu focal/main amd64 Packages [1,229 kB]\n",
      "Get:24 http://ppa.launchpad.net/graphics-drivers/ppa/ubuntu focal/main amd64 Packages [44.1 kB]\n",
      "Fetched 19.2 MB in 4s (4,340 kB/s)\n",
      "Reading package lists... Done\n",
      "Building dependency tree       \n",
      "Reading state information... Done\n",
      "31 packages can be upgraded. Run 'apt list --upgradable' to see them.\n",
      "Reading package lists... Done\n",
      "Building dependency tree       \n",
      "Reading state information... Done\n",
      "The following additional packages will be installed:\n",
      "  libopenslide0\n",
      "Suggested packages:\n",
      "  libtiff-tools\n",
      "The following NEW packages will be installed:\n",
      "  libopenslide0 openslide-tools\n",
      "0 upgraded, 2 newly installed, 0 to remove and 31 not upgraded.\n",
      "Need to get 95.5 kB of archives.\n",
      "After this operation, 289 kB of additional disk space will be used.\n",
      "Get:1 http://archive.ubuntu.com/ubuntu focal/universe amd64 libopenslide0 amd64 3.4.1+dfsg-4 [82.1 kB]\n",
      "Get:2 http://archive.ubuntu.com/ubuntu focal/universe amd64 openslide-tools amd64 3.4.1+dfsg-4 [13.4 kB]\n",
      "Fetched 95.5 kB in 0s (243 kB/s)\n",
      "Selecting previously unselected package libopenslide0.\n",
      "(Reading database ... 123069 files and directories currently installed.)\n",
      "Preparing to unpack .../libopenslide0_3.4.1+dfsg-4_amd64.deb ...\n",
      "Unpacking libopenslide0 (3.4.1+dfsg-4) ...\n",
      "Selecting previously unselected package openslide-tools.\n",
      "Preparing to unpack .../openslide-tools_3.4.1+dfsg-4_amd64.deb ...\n",
      "Unpacking openslide-tools (3.4.1+dfsg-4) ...\n",
      "Setting up libopenslide0 (3.4.1+dfsg-4) ...\n",
      "Setting up openslide-tools (3.4.1+dfsg-4) ...\n",
      "Processing triggers for man-db (2.9.1-1) ...\n",
      "Processing triggers for libc-bin (2.31-0ubuntu9.9) ...\n",
      "Collecting openslide-python\n",
      "  Downloading openslide-python-1.2.0.tar.gz (338 kB)\n",
      "\u001b[2K     \u001b[90m━━━━━━━━━━━━━━━━━━━━━━━━━━━━━━━━━━━━━━\u001b[0m \u001b[32m338.7/338.7 kB\u001b[0m \u001b[31m12.1 MB/s\u001b[0m eta \u001b[36m0:00:00\u001b[0m\n",
      "\u001b[?25h  Preparing metadata (setup.py) ... \u001b[?25l\u001b[?25hdone\n",
      "Requirement already satisfied: Pillow in /usr/local/lib/python3.10/dist-packages (from openslide-python) (8.4.0)\n",
      "Building wheels for collected packages: openslide-python\n",
      "  Building wheel for openslide-python (setup.py) ... \u001b[?25l\u001b[?25hdone\n",
      "  Created wheel for openslide-python: filename=openslide_python-1.2.0-cp310-cp310-linux_x86_64.whl size=28161 sha256=0aa59d8c513ed35cd71fa90f5e2ab9f5e39aeaeb04be85ac930374a6fc1f4fb2\n",
      "  Stored in directory: /root/.cache/pip/wheels/f6/1b/23/abaaa209d25fc76dbd882f2e4bac2326c746752cabc8ceb3f3\n",
      "Successfully built openslide-python\n",
      "Installing collected packages: openslide-python\n",
      "Successfully installed openslide-python-1.2.0\n"
     ]
    }
   ],
   "source": [
    "!apt update && apt install -y openslide-tools\n",
    "!pip install openslide-python"
   ]
  },
  {
   "cell_type": "code",
   "execution_count": 3,
   "metadata": {
    "colab": {
     "base_uri": "https://localhost:8080/"
    },
    "executionInfo": {
     "elapsed": 1939,
     "status": "ok",
     "timestamp": 1688483540498,
     "user": {
      "displayName": "Ahmet Emre Usta",
      "userId": "15508369964865834704"
     },
     "user_tz": -180
    },
    "id": "x6nWhFC86Yqv",
    "outputId": "96586e0b-c814-4e06-f001-f52314696146"
   },
   "outputs": [
    {
     "name": "stdout",
     "output_type": "stream",
     "text": [
      "Drive already mounted at /content/gdrive/; to attempt to forcibly remount, call drive.mount(\"/content/gdrive/\", force_remount=True).\n"
     ]
    }
   ],
   "source": [
    "import os\n",
    "import time\n",
    "import logging\n",
    "import openslide\n",
    "from google.colab import drive\n",
    "from openslide.deepzoom import DeepZoomGenerator\n",
    "import numpy as np\n",
    "from matplotlib import pyplot as plt\n",
    "\n",
    "# Mount the Google Drive to access the files\n",
    "drive.mount(\"/content/gdrive/\")"
   ]
  },
  {
   "cell_type": "code",
   "execution_count": 9,
   "metadata": {
    "colab": {
     "base_uri": "https://localhost:8080/"
    },
    "executionInfo": {
     "elapsed": 420,
     "status": "ok",
     "timestamp": 1688486036761,
     "user": {
      "displayName": "Ahmet Emre Usta",
      "userId": "15508369964865834704"
     },
     "user_tz": -180
    },
    "id": "hQBwgw9w6bs7",
    "outputId": "9a1399f1-8317-43b7-ad78-246f1adedfb5"
   },
   "outputs": [
    {
     "name": "stdout",
     "output_type": "stream",
     "text": [
      "Directory already exists: /content/gdrive/MyDrive/Research of Deep Learning Classification for Soft Tissue Sarcomas/Code/images/TCGA-DX-A7EQ-01Z-00-DX1.6E243B4A-CE79-4B31-B98B-24B89E7C2FB4/logs\n",
      "Directory already exists: /content/gdrive/MyDrive/Research of Deep Learning Classification for Soft Tissue Sarcomas/Code/images/TCGA-DX-A7EQ-01Z-00-DX1.6E243B4A-CE79-4B31-B98B-24B89E7C2FB4\n"
     ]
    }
   ],
   "source": [
    "# Set the working directory and slide path\n",
    "work_directory = \"/content/gdrive/MyDrive/Research of Deep Learning Classification for Soft Tissue Sarcomas/\"\n",
    "slide_path = os.path.join(\n",
    "    work_directory,\n",
    "    \"Datasets\",\n",
    "    \"TCGA_annoted\",\n",
    "    \"ss\",\n",
    "    \"TCGA-DX-A7EQ-01Z-00-DX1.6E243B4A-CE79-4B31-B98B-24B89E7C2FB4.svs\",\n",
    ")\n",
    "\n",
    "# Extract the slide name from the slide path\n",
    "slide_name = os.path.splitext(os.path.basename(slide_path))[0]\n",
    "\n",
    "# Set the target path for the slide images\n",
    "target_path = os.path.join(work_directory, \"Code\", \"images\", slide_name)\n",
    "\n",
    "# Set the logging path for the slide images\n",
    "logging_path = os.path.join(target_path, \"logs\")\n",
    "\n",
    "# Create directories if they don't exist\n",
    "for path in [logging_path, target_path]:\n",
    "    try:\n",
    "        os.makedirs(path)\n",
    "        print(f\"Created directory: {path}\")\n",
    "    except FileExistsError:\n",
    "        print(f\"Directory already exists: {path}\")\n",
    "\n",
    "# Create a logger\n",
    "logger = logging.getLogger(__name__)\n",
    "\n",
    "# Set the logging level for the logger\n",
    "logger.setLevel(logging.WARNING)\n",
    "\n",
    "# Create a formatter for the logger\n",
    "formatter = logging.Formatter(\"%(asctime)s - %(levelname)s - %(message)s\")\n",
    "\n",
    "# Create a file handler for the logger\n",
    "log_filename = time.strftime(\"%Y%m%d_%H%M%S.log\")\n",
    "file_handler = logging.FileHandler(os.path.join(logging_path, log_filename))\n",
    "file_handler.setLevel(logging.INFO)\n",
    "file_handler.setFormatter(formatter)\n",
    "\n",
    "# Add the file handler to the logger\n",
    "logger.addHandler(file_handler)"
   ]
  },
  {
   "cell_type": "code",
   "execution_count": 11,
   "metadata": {
    "colab": {
     "base_uri": "https://localhost:8080/"
    },
    "executionInfo": {
     "elapsed": 411,
     "status": "ok",
     "timestamp": 1688486341094,
     "user": {
      "displayName": "Ahmet Emre Usta",
      "userId": "15508369964865834704"
     },
     "user_tz": -180
    },
    "id": "-82lds9q6fIv",
    "outputId": "94903f2b-d910-404c-f760-29e0909c7601"
   },
   "outputs": [
    {
     "name": "stdout",
     "output_type": "stream",
     "text": [
      "The number of levels in the tiles object are:  18\n",
      "The dimensions of data in each level are:  ((1, 1), (2, 2), (4, 3), (7, 6), (14, 11), (27, 22), (54, 44), (107, 88), (214, 175), (428, 350), (856, 700), (1712, 1399), (3424, 2798), (6848, 5595), (13695, 11190), (27390, 22380), (54780, 44760), (109560, 89520))\n",
      "This means there are  149800  total tiles in this level\n"
     ]
    }
   ],
   "source": [
    "# Open the slide and calculate the number of patches\n",
    "slide = openslide.OpenSlide(slide_path)\n",
    "tiles = DeepZoomGenerator(slide, tile_size=256, overlap=0, limit_bounds=False)\n",
    "\n",
    "print(\"The number of levels in the tiles object are: \", tiles.level_count)\n",
    "print(\"The dimensions of data in each level are: \", tiles.level_dimensions)\n",
    "# print(\"Total number of tiles = : \", tiles.tile_count)\n",
    "total_tiles = tiles.level_tiles[-1][0] * tiles.level_tiles[-1][1]\n",
    "print(\"This means there are \", total_tiles, \" total tiles in this level\")\n",
    "\n",
    "logger.info(f\"There are {total_tiles} patches in this image!\")"
   ]
  },
  {
   "cell_type": "code",
   "execution_count": 13,
   "metadata": {
    "colab": {
     "base_uri": "https://localhost:8080/"
    },
    "executionInfo": {
     "elapsed": 402,
     "status": "ok",
     "timestamp": 1688486416385,
     "user": {
      "displayName": "Ahmet Emre Usta",
      "userId": "15508369964865834704"
     },
     "user_tz": -180
    },
    "id": "I5Lqa7iyoNKw",
    "outputId": "05cb3e08-3b3d-4665-c90f-8a6b6f3c7293"
   },
   "outputs": [
    {
     "data": {
      "text/plain": [
       "(428, 350)"
      ]
     },
     "execution_count": 13,
     "metadata": {},
     "output_type": "execute_result"
    }
   ],
   "source": [
    "###### Saving each tile to local directory\n",
    "cols, rows = tiles.level_tiles[-1]\n",
    "cols, rows"
   ]
  },
  {
   "cell_type": "code",
   "execution_count": null,
   "metadata": {
    "id": "e4kZY2SU6FiY"
   },
   "outputs": [],
   "source": [
    "tile_dir = target_path\n",
    "\n",
    "for row in range(rows):\n",
    "    for col in range(cols):\n",
    "        tile_name = os.path.join(tile_dir, \"%d_%d\" % (col, row))\n",
    "        print(\"Now saving tile with title: \", tile_name)\n",
    "        temp_tile = tiles.get_tile(tiles.level_count - 1, (col, row))\n",
    "        temp_tile_RGB = temp_tile.convert(\"RGB\")\n",
    "        temp_tile_np = np.array(temp_tile_RGB)\n",
    "        plt.imsave(tile_name + \".png\", temp_tile_np)"
   ]
  }
 ],
 "metadata": {
  "colab": {
   "authorship_tag": "ABX9TyMPzde02ZZV1U/R7lOyePbt",
   "provenance": []
  },
  "kernelspec": {
   "display_name": "Python 3",
   "name": "python3"
  },
  "language_info": {
   "name": "python"
  }
 },
 "nbformat": 4,
 "nbformat_minor": 0
}