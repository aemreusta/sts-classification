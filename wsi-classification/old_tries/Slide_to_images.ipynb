{
 "nbformat": 4,
 "nbformat_minor": 0,
 "metadata": {
  "colab": {
   "provenance": []
  },
  "kernelspec": {
   "name": "python3",
   "display_name": "Python 3"
  },
  "language_info": {
   "name": "python"
  },
  "gpuClass": "standard"
 },
 "cells": [
  {
   "cell_type": "code",
   "source": [
    "!apt update && apt install -y openslide-tools\n",
    "!pip install openslide-python"
   ],
   "metadata": {
    "id": "e-oANWhTiSId",
    "colab": {
     "base_uri": "https://localhost:8080/"
    },
    "executionInfo": {
     "status": "ok",
     "timestamp": 1682939718319,
     "user_tz": -180,
     "elapsed": 33668,
     "user": {
      "displayName": "Hüseyin Yigit ÜLKER",
      "userId": "11051671432114641331"
     }
    },
    "outputId": "de1f400b-f4f9-4629-efa6-ab84305ec924"
   },
   "execution_count": null,
   "outputs": [
    {
     "output_type": "stream",
     "name": "stdout",
     "text": [
      "\u001b[33m\r0% [Working]\u001b[0m\r            \rGet:1 http://security.ubuntu.com/ubuntu focal-security InRelease [114 kB]\n",
      "Get:2 https://cloud.r-project.org/bin/linux/ubuntu focal-cran40/ InRelease [3,622 B]\n",
      "Hit:3 https://developer.download.nvidia.com/compute/cuda/repos/ubuntu2004/x86_64  InRelease\n",
      "Hit:4 http://ppa.launchpad.net/c2d4u.team/c2d4u4.0+/ubuntu focal InRelease\n",
      "Hit:5 http://archive.ubuntu.com/ubuntu focal InRelease\n",
      "Get:6 http://archive.ubuntu.com/ubuntu focal-updates InRelease [114 kB]\n",
      "Hit:7 http://ppa.launchpad.net/cran/libgit2/ubuntu focal InRelease\n",
      "Get:8 https://cloud.r-project.org/bin/linux/ubuntu focal-cran40/ Packages [77.6 kB]\n",
      "Hit:9 http://ppa.launchpad.net/deadsnakes/ppa/ubuntu focal InRelease\n",
      "Get:10 http://archive.ubuntu.com/ubuntu focal-backports InRelease [108 kB]\n",
      "Hit:11 http://ppa.launchpad.net/graphics-drivers/ppa/ubuntu focal InRelease\n",
      "Get:12 http://security.ubuntu.com/ubuntu focal-security/universe amd64 Packages [1,039 kB]\n",
      "Hit:13 http://ppa.launchpad.net/ubuntugis/ppa/ubuntu focal InRelease\n",
      "Get:14 http://security.ubuntu.com/ubuntu focal-security/main amd64 Packages [2,668 kB]\n",
      "Get:15 http://archive.ubuntu.com/ubuntu focal-updates/main amd64 Packages [3,150 kB]\n",
      "Get:16 http://archive.ubuntu.com/ubuntu focal-updates/universe amd64 Packages [1,334 kB]\n",
      "Fetched 8,607 kB in 4s (2,227 kB/s)\n",
      "Reading package lists... Done\n",
      "Building dependency tree       \n",
      "Reading state information... Done\n",
      "27 packages can be upgraded. Run 'apt list --upgradable' to see them.\n",
      "Reading package lists... Done\n",
      "Building dependency tree       \n",
      "Reading state information... Done\n",
      "The following additional packages will be installed:\n",
      "  libopenslide0\n",
      "Suggested packages:\n",
      "  libtiff-tools\n",
      "The following NEW packages will be installed:\n",
      "  libopenslide0 openslide-tools\n",
      "0 upgraded, 2 newly installed, 0 to remove and 27 not upgraded.\n",
      "Need to get 95.5 kB of archives.\n",
      "After this operation, 289 kB of additional disk space will be used.\n",
      "Get:1 http://archive.ubuntu.com/ubuntu focal/universe amd64 libopenslide0 amd64 3.4.1+dfsg-4 [82.1 kB]\n",
      "Get:2 http://archive.ubuntu.com/ubuntu focal/universe amd64 openslide-tools amd64 3.4.1+dfsg-4 [13.4 kB]\n",
      "Fetched 95.5 kB in 1s (134 kB/s)\n",
      "Selecting previously unselected package libopenslide0.\n",
      "(Reading database ... 122518 files and directories currently installed.)\n",
      "Preparing to unpack .../libopenslide0_3.4.1+dfsg-4_amd64.deb ...\n",
      "Unpacking libopenslide0 (3.4.1+dfsg-4) ...\n",
      "Selecting previously unselected package openslide-tools.\n",
      "Preparing to unpack .../openslide-tools_3.4.1+dfsg-4_amd64.deb ...\n",
      "Unpacking openslide-tools (3.4.1+dfsg-4) ...\n",
      "Setting up libopenslide0 (3.4.1+dfsg-4) ...\n",
      "Setting up openslide-tools (3.4.1+dfsg-4) ...\n",
      "Processing triggers for man-db (2.9.1-1) ...\n",
      "Processing triggers for libc-bin (2.31-0ubuntu9.9) ...\n",
      "Looking in indexes: https://pypi.org/simple, https://us-python.pkg.dev/colab-wheels/public/simple/\n",
      "Collecting openslide-python\n",
      "  Downloading openslide-python-1.2.0.tar.gz (338 kB)\n",
      "\u001b[2K     \u001b[90m━━━━━━━━━━━━━━━━━━━━━━━━━━━━━━━━━━━━━━━\u001b[0m \u001b[32m338.7/338.7 kB\u001b[0m \u001b[31m7.2 MB/s\u001b[0m eta \u001b[36m0:00:00\u001b[0m\n",
      "\u001b[?25h  Preparing metadata (setup.py) ... \u001b[?25l\u001b[?25hdone\n",
      "Requirement already satisfied: Pillow in /usr/local/lib/python3.10/dist-packages (from openslide-python) (8.4.0)\n",
      "Building wheels for collected packages: openslide-python\n",
      "  Building wheel for openslide-python (setup.py) ... \u001b[?25l\u001b[?25hdone\n",
      "  Created wheel for openslide-python: filename=openslide_python-1.2.0-cp310-cp310-linux_x86_64.whl size=28181 sha256=696bcd62a9bf8c0b9a0dd8d297c80981270a89096bd351ad377d8a9b0ffd4da1\n",
      "  Stored in directory: /root/.cache/pip/wheels/f6/1b/23/abaaa209d25fc76dbd882f2e4bac2326c746752cabc8ceb3f3\n",
      "Successfully built openslide-python\n",
      "Installing collected packages: openslide-python\n",
      "Successfully installed openslide-python-1.2.0\n"
     ]
    }
   ]
  },
  {
   "cell_type": "code",
   "execution_count": null,
   "metadata": {
    "colab": {
     "base_uri": "https://localhost:8080/"
    },
    "id": "nrtk6K7ih8Gt",
    "executionInfo": {
     "status": "ok",
     "timestamp": 1682939735949,
     "user_tz": -180,
     "elapsed": 17637,
     "user": {
      "displayName": "Hüseyin Yigit ÜLKER",
      "userId": "11051671432114641331"
     }
    },
    "outputId": "3fcb1ebb-b8e7-44e4-e507-33dd2f7079ea"
   },
   "outputs": [
    {
     "output_type": "stream",
     "name": "stdout",
     "text": [
      "Mounted at /content/gdrive/\n"
     ]
    }
   ],
   "source": [
    "import os\n",
    "import openslide\n",
    "from google.colab import drive\n",
    "\n",
    "drive.mount(\"/content/gdrive/\", force_remount=True)"
   ]
  },
  {
   "cell_type": "code",
   "source": [
    "slide_path = \"/content/gdrive/MyDrive/Research of Deep Learning Classification for Soft Tissue Sarcomas/SCANS/1007555.svs\""
   ],
   "metadata": {
    "id": "hGm8zKYKimT1"
   },
   "execution_count": null,
   "outputs": []
  },
  {
   "cell_type": "code",
   "source": [
    "target_path = \"/content/gdrive/MyDrive/Colab Notebooks/Research/images\""
   ],
   "metadata": {
    "id": "uOd46MsXmuhu"
   },
   "execution_count": null,
   "outputs": []
  },
  {
   "cell_type": "code",
   "source": [
    "slide = openslide.OpenSlide(slide_path)"
   ],
   "metadata": {
    "id": "Tk7ImfPZiyc1"
   },
   "execution_count": null,
   "outputs": []
  },
  {
   "cell_type": "code",
   "source": [
    "count_x = int(slide.level_dimensions[0][0] / 512)\n",
    "count_y = int(slide.level_dimensions[0][1] / 512)"
   ],
   "metadata": {
    "id": "mqwU6qO6nN_j"
   },
   "execution_count": null,
   "outputs": []
  },
  {
   "cell_type": "code",
   "source": [
    "count_x, count_y"
   ],
   "metadata": {
    "id": "f8-df8nvnPAC",
    "executionInfo": {
     "status": "ok",
     "timestamp": 1682939747713,
     "user_tz": -180,
     "elapsed": 3,
     "user": {
      "displayName": "Hüseyin Yigit ÜLKER",
      "userId": "11051671432114641331"
     }
    },
    "colab": {
     "base_uri": "https://localhost:8080/"
    },
    "outputId": "f6792437-6eaf-4cf6-cb31-0dced9cc7206"
   },
   "execution_count": null,
   "outputs": [
    {
     "output_type": "execute_result",
     "data": {
      "text/plain": [
       "(369, 158)"
      ]
     },
     "metadata": {},
     "execution_count": 7
    }
   ]
  },
  {
   "cell_type": "code",
   "source": [
    "slide_name = slide_path.split(\"/\")[-1][:-4]\n",
    "slide_name"
   ],
   "metadata": {
    "id": "xtO2Qn6LnSBH",
    "executionInfo": {
     "status": "ok",
     "timestamp": 1682939751810,
     "user_tz": -180,
     "elapsed": 5,
     "user": {
      "displayName": "Hüseyin Yigit ÜLKER",
      "userId": "11051671432114641331"
     }
    },
    "colab": {
     "base_uri": "https://localhost:8080/",
     "height": 36
    },
    "outputId": "e4976189-561d-410a-f7d7-b97a36c3068c"
   },
   "execution_count": null,
   "outputs": [
    {
     "output_type": "execute_result",
     "data": {
      "text/plain": [
       "'1007555'"
      ],
      "application/vnd.google.colaboratory.intrinsic+json": {
       "type": "string"
      }
     },
     "metadata": {},
     "execution_count": 8
    }
   ]
  },
  {
   "cell_type": "code",
   "source": [
    "os.mkdir(target_path + \"/\" + slide_name)"
   ],
   "metadata": {
    "id": "nDj70uq9nqOt"
   },
   "execution_count": null,
   "outputs": []
  },
  {
   "cell_type": "code",
   "source": [
    "count_x * count_y"
   ],
   "metadata": {
    "id": "bEZ1t-6vpAwv",
    "executionInfo": {
     "status": "ok",
     "timestamp": 1682939754258,
     "user_tz": -180,
     "elapsed": 230,
     "user": {
      "displayName": "Hüseyin Yigit ÜLKER",
      "userId": "11051671432114641331"
     }
    },
    "colab": {
     "base_uri": "https://localhost:8080/"
    },
    "outputId": "1f374acf-b345-49ca-d4d8-8830b138a40f"
   },
   "execution_count": null,
   "outputs": [
    {
     "output_type": "execute_result",
     "data": {
      "text/plain": [
       "58302"
      ]
     },
     "metadata": {},
     "execution_count": 9
    }
   ]
  },
  {
   "cell_type": "code",
   "source": [
    "for y_axis in range(35, count_y + 1):\n",
    "    print(y_axis)\n",
    "    for x_axis in range(1, count_x + 1):\n",
    "        x_final = x_axis * 512\n",
    "        y_final = y_axis * 512\n",
    "        region = slide.read_region((x_final - 512, y_final - 512), 0, (512, 512))\n",
    "        region.save(\n",
    "            target_path\n",
    "            + \"/\"\n",
    "            + slide_name\n",
    "            + \"/\"\n",
    "            + str(y_axis)\n",
    "            + \"-\"\n",
    "            + str(x_axis)\n",
    "            + \".png\"\n",
    "        )"
   ],
   "metadata": {
    "id": "ASc3ykeEmk0O",
    "colab": {
     "base_uri": "https://localhost:8080/",
     "height": 1000
    },
    "executionInfo": {
     "status": "error",
     "timestamp": 1682944654700,
     "user_tz": -180,
     "elapsed": 4824730,
     "user": {
      "displayName": "Hüseyin Yigit ÜLKER",
      "userId": "11051671432114641331"
     }
    },
    "outputId": "4f42723d-cb7d-4a4f-eec0-ee85ecacad2e"
   },
   "execution_count": null,
   "outputs": [
    {
     "output_type": "stream",
     "name": "stdout",
     "text": [
      "35\n",
      "36\n",
      "37\n",
      "38\n",
      "39\n",
      "40\n",
      "41\n",
      "42\n",
      "43\n",
      "44\n",
      "45\n",
      "46\n",
      "47\n",
      "48\n",
      "49\n",
      "50\n",
      "51\n",
      "52\n",
      "53\n",
      "54\n",
      "55\n",
      "56\n",
      "57\n",
      "58\n",
      "59\n",
      "60\n",
      "61\n",
      "62\n",
      "63\n",
      "64\n",
      "65\n",
      "66\n",
      "67\n",
      "68\n",
      "69\n",
      "70\n",
      "71\n",
      "72\n"
     ]
    },
    {
     "output_type": "error",
     "ename": "OpenSlideError",
     "evalue": "ignored",
     "traceback": [
      "\u001b[0;31m---------------------------------------------------------------------------\u001b[0m",
      "\u001b[0;31mOpenSlideError\u001b[0m                            Traceback (most recent call last)",
      "\u001b[0;32m<ipython-input-11-e409e2ba686e>\u001b[0m in \u001b[0;36m<cell line: 1>\u001b[0;34m()\u001b[0m\n\u001b[1;32m      4\u001b[0m         \u001b[0mx_final\u001b[0m \u001b[0;34m=\u001b[0m \u001b[0mx_axis\u001b[0m \u001b[0;34m*\u001b[0m \u001b[0;36m512\u001b[0m\u001b[0;34m\u001b[0m\u001b[0;34m\u001b[0m\u001b[0m\n\u001b[1;32m      5\u001b[0m         \u001b[0my_final\u001b[0m \u001b[0;34m=\u001b[0m \u001b[0my_axis\u001b[0m \u001b[0;34m*\u001b[0m \u001b[0;36m512\u001b[0m\u001b[0;34m\u001b[0m\u001b[0;34m\u001b[0m\u001b[0m\n\u001b[0;32m----> 6\u001b[0;31m         \u001b[0mregion\u001b[0m \u001b[0;34m=\u001b[0m \u001b[0mslide\u001b[0m\u001b[0;34m.\u001b[0m\u001b[0mread_region\u001b[0m\u001b[0;34m(\u001b[0m\u001b[0;34m(\u001b[0m\u001b[0mx_final\u001b[0m\u001b[0;34m-\u001b[0m\u001b[0;36m512\u001b[0m\u001b[0;34m,\u001b[0m \u001b[0my_final\u001b[0m\u001b[0;34m-\u001b[0m\u001b[0;36m512\u001b[0m\u001b[0;34m)\u001b[0m\u001b[0;34m,\u001b[0m \u001b[0;36m0\u001b[0m\u001b[0;34m,\u001b[0m \u001b[0;34m(\u001b[0m\u001b[0;36m512\u001b[0m\u001b[0;34m,\u001b[0m \u001b[0;36m512\u001b[0m\u001b[0;34m)\u001b[0m\u001b[0;34m)\u001b[0m\u001b[0;34m\u001b[0m\u001b[0;34m\u001b[0m\u001b[0m\n\u001b[0m\u001b[1;32m      7\u001b[0m         \u001b[0mregion\u001b[0m\u001b[0;34m.\u001b[0m\u001b[0msave\u001b[0m\u001b[0;34m(\u001b[0m\u001b[0mtarget_path\u001b[0m\u001b[0;34m+\u001b[0m\u001b[0;34m\"/\"\u001b[0m\u001b[0;34m+\u001b[0m\u001b[0mslide_name\u001b[0m\u001b[0;34m+\u001b[0m\u001b[0;34m\"/\"\u001b[0m\u001b[0;34m+\u001b[0m\u001b[0mstr\u001b[0m\u001b[0;34m(\u001b[0m\u001b[0my_axis\u001b[0m\u001b[0;34m)\u001b[0m\u001b[0;34m+\u001b[0m\u001b[0;34m\"-\"\u001b[0m\u001b[0;34m+\u001b[0m\u001b[0mstr\u001b[0m\u001b[0;34m(\u001b[0m\u001b[0mx_axis\u001b[0m\u001b[0;34m)\u001b[0m\u001b[0;34m+\u001b[0m\u001b[0;34m\".png\"\u001b[0m\u001b[0;34m)\u001b[0m\u001b[0;34m\u001b[0m\u001b[0;34m\u001b[0m\u001b[0m\n",
      "\u001b[0;32m/usr/local/lib/python3.10/dist-packages/openslide/__init__.py\u001b[0m in \u001b[0;36mread_region\u001b[0;34m(self, location, level, size)\u001b[0m\n\u001b[1;32m    234\u001b[0m         \u001b[0mUnlike\u001b[0m \u001b[0;32min\u001b[0m \u001b[0mthe\u001b[0m \u001b[0mC\u001b[0m \u001b[0minterface\u001b[0m\u001b[0;34m,\u001b[0m \u001b[0mthe\u001b[0m \u001b[0mimage\u001b[0m \u001b[0mdata\u001b[0m \u001b[0mreturned\u001b[0m \u001b[0mby\u001b[0m \u001b[0mthis\u001b[0m\u001b[0;34m\u001b[0m\u001b[0;34m\u001b[0m\u001b[0m\n\u001b[1;32m    235\u001b[0m         function is not premultiplied.\"\"\"\n\u001b[0;32m--> 236\u001b[0;31m         return lowlevel.read_region(\n\u001b[0m\u001b[1;32m    237\u001b[0m             \u001b[0mself\u001b[0m\u001b[0;34m.\u001b[0m\u001b[0m_osr\u001b[0m\u001b[0;34m,\u001b[0m \u001b[0mlocation\u001b[0m\u001b[0;34m[\u001b[0m\u001b[0;36m0\u001b[0m\u001b[0;34m]\u001b[0m\u001b[0;34m,\u001b[0m \u001b[0mlocation\u001b[0m\u001b[0;34m[\u001b[0m\u001b[0;36m1\u001b[0m\u001b[0;34m]\u001b[0m\u001b[0;34m,\u001b[0m \u001b[0mlevel\u001b[0m\u001b[0;34m,\u001b[0m \u001b[0msize\u001b[0m\u001b[0;34m[\u001b[0m\u001b[0;36m0\u001b[0m\u001b[0;34m]\u001b[0m\u001b[0;34m,\u001b[0m \u001b[0msize\u001b[0m\u001b[0;34m[\u001b[0m\u001b[0;36m1\u001b[0m\u001b[0;34m]\u001b[0m\u001b[0;34m\u001b[0m\u001b[0;34m\u001b[0m\u001b[0m\n\u001b[1;32m    238\u001b[0m         )\n",
      "\u001b[0;32m/usr/local/lib/python3.10/dist-packages/openslide/lowlevel.py\u001b[0m in \u001b[0;36mread_region\u001b[0;34m(slide, x, y, level, w, h)\u001b[0m\n\u001b[1;32m    309\u001b[0m         \u001b[0;32mreturn\u001b[0m \u001b[0mPIL\u001b[0m\u001b[0;34m.\u001b[0m\u001b[0mImage\u001b[0m\u001b[0;34m.\u001b[0m\u001b[0mnew\u001b[0m\u001b[0;34m(\u001b[0m\u001b[0;34m'RGBA'\u001b[0m\u001b[0;34m,\u001b[0m \u001b[0;34m(\u001b[0m\u001b[0mw\u001b[0m\u001b[0;34m,\u001b[0m \u001b[0mh\u001b[0m\u001b[0;34m)\u001b[0m\u001b[0;34m)\u001b[0m\u001b[0;34m\u001b[0m\u001b[0;34m\u001b[0m\u001b[0m\n\u001b[1;32m    310\u001b[0m     \u001b[0mbuf\u001b[0m \u001b[0;34m=\u001b[0m \u001b[0;34m(\u001b[0m\u001b[0mw\u001b[0m \u001b[0;34m*\u001b[0m \u001b[0mh\u001b[0m \u001b[0;34m*\u001b[0m \u001b[0mc_uint32\u001b[0m\u001b[0;34m)\u001b[0m\u001b[0;34m(\u001b[0m\u001b[0;34m)\u001b[0m\u001b[0;34m\u001b[0m\u001b[0;34m\u001b[0m\u001b[0m\n\u001b[0;32m--> 311\u001b[0;31m     \u001b[0m_read_region\u001b[0m\u001b[0;34m(\u001b[0m\u001b[0mslide\u001b[0m\u001b[0;34m,\u001b[0m \u001b[0mbuf\u001b[0m\u001b[0;34m,\u001b[0m \u001b[0mx\u001b[0m\u001b[0;34m,\u001b[0m \u001b[0my\u001b[0m\u001b[0;34m,\u001b[0m \u001b[0mlevel\u001b[0m\u001b[0;34m,\u001b[0m \u001b[0mw\u001b[0m\u001b[0;34m,\u001b[0m \u001b[0mh\u001b[0m\u001b[0;34m)\u001b[0m\u001b[0;34m\u001b[0m\u001b[0;34m\u001b[0m\u001b[0m\n\u001b[0m\u001b[1;32m    312\u001b[0m     \u001b[0;32mreturn\u001b[0m \u001b[0m_load_image\u001b[0m\u001b[0;34m(\u001b[0m\u001b[0mbuf\u001b[0m\u001b[0;34m,\u001b[0m \u001b[0;34m(\u001b[0m\u001b[0mw\u001b[0m\u001b[0;34m,\u001b[0m \u001b[0mh\u001b[0m\u001b[0;34m)\u001b[0m\u001b[0;34m)\u001b[0m\u001b[0;34m\u001b[0m\u001b[0;34m\u001b[0m\u001b[0m\n\u001b[1;32m    313\u001b[0m \u001b[0;34m\u001b[0m\u001b[0m\n",
      "\u001b[0;32m/usr/local/lib/python3.10/dist-packages/openslide/lowlevel.py\u001b[0m in \u001b[0;36m_check_error\u001b[0;34m(result, func, args)\u001b[0m\n\u001b[1;32m    223\u001b[0m     \u001b[0merr\u001b[0m \u001b[0;34m=\u001b[0m \u001b[0mget_error\u001b[0m\u001b[0;34m(\u001b[0m\u001b[0margs\u001b[0m\u001b[0;34m[\u001b[0m\u001b[0;36m0\u001b[0m\u001b[0;34m]\u001b[0m\u001b[0;34m)\u001b[0m\u001b[0;34m\u001b[0m\u001b[0;34m\u001b[0m\u001b[0m\n\u001b[1;32m    224\u001b[0m     \u001b[0;32mif\u001b[0m \u001b[0merr\u001b[0m \u001b[0;32mis\u001b[0m \u001b[0;32mnot\u001b[0m \u001b[0;32mNone\u001b[0m\u001b[0;34m:\u001b[0m\u001b[0;34m\u001b[0m\u001b[0;34m\u001b[0m\u001b[0m\n\u001b[0;32m--> 225\u001b[0;31m         \u001b[0;32mraise\u001b[0m \u001b[0mOpenSlideError\u001b[0m\u001b[0;34m(\u001b[0m\u001b[0merr\u001b[0m\u001b[0;34m)\u001b[0m\u001b[0;34m\u001b[0m\u001b[0;34m\u001b[0m\u001b[0m\n\u001b[0m\u001b[1;32m    226\u001b[0m     \u001b[0;32mreturn\u001b[0m \u001b[0m_check_string\u001b[0m\u001b[0;34m(\u001b[0m\u001b[0mresult\u001b[0m\u001b[0;34m,\u001b[0m \u001b[0mfunc\u001b[0m\u001b[0;34m,\u001b[0m \u001b[0margs\u001b[0m\u001b[0;34m)\u001b[0m\u001b[0;34m\u001b[0m\u001b[0;34m\u001b[0m\u001b[0m\n\u001b[1;32m    227\u001b[0m \u001b[0;34m\u001b[0m\u001b[0m\n",
      "\u001b[0;31mOpenSlideError\u001b[0m: Cannot read raw tile"
     ]
    }
   ]
  }
 ]
}